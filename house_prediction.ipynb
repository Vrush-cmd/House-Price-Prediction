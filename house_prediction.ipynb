{
  "nbformat": 4,
  "nbformat_minor": 0,
  "metadata": {
    "colab": {
      "name": "house prediction.ipynb",
      "provenance": [],
      "authorship_tag": "ABX9TyMC/iwZ/fIayqZJcan1uVOs",
      "include_colab_link": true
    },
    "kernelspec": {
      "name": "python3",
      "display_name": "Python 3"
    },
    "language_info": {
      "name": "python"
    }
  },
  "cells": [
    {
      "cell_type": "markdown",
      "metadata": {
        "id": "view-in-github",
        "colab_type": "text"
      },
      "source": [
        "<a href=\"https://colab.research.google.com/github/Vrush-cmd/House-Price-Prediction/blob/main/house_prediction.ipynb\" target=\"_parent\"><img src=\"https://colab.research.google.com/assets/colab-badge.svg\" alt=\"Open In Colab\"/></a>"
      ]
    },
    {
      "cell_type": "code",
      "execution_count": 1,
      "metadata": {
        "id": "p6piFfAbi6kK"
      },
      "outputs": [],
      "source": [
        "import pandas as pd"
      ]
    },
    {
      "cell_type": "code",
      "source": [
        "import seaborn as sns\n",
        "import matplotlib.pyplot as plt"
      ],
      "metadata": {
        "id": "nYyNFcTDkWfY"
      },
      "execution_count": 2,
      "outputs": []
    },
    {
      "cell_type": "code",
      "source": [
        "df = pd.read_csv('train.csv')\n",
        "df.head()"
      ],
      "metadata": {
        "colab": {
          "base_uri": "https://localhost:8080/",
          "height": 300
        },
        "id": "IU9ZX0unkbHo",
        "outputId": "86b8fee8-d655-4d9b-c2ae-c79e2dd3307b"
      },
      "execution_count": 3,
      "outputs": [
        {
          "output_type": "execute_result",
          "data": {
            "text/plain": [
              "   Id  MSSubClass MSZoning  LotFrontage  LotArea Street Alley LotShape  \\\n",
              "0   1          60       RL         65.0     8450   Pave   NaN      Reg   \n",
              "1   2          20       RL         80.0     9600   Pave   NaN      Reg   \n",
              "2   3          60       RL         68.0    11250   Pave   NaN      IR1   \n",
              "3   4          70       RL         60.0     9550   Pave   NaN      IR1   \n",
              "4   5          60       RL         84.0    14260   Pave   NaN      IR1   \n",
              "\n",
              "  LandContour Utilities  ... PoolArea PoolQC Fence MiscFeature MiscVal MoSold  \\\n",
              "0         Lvl    AllPub  ...        0    NaN   NaN         NaN       0      2   \n",
              "1         Lvl    AllPub  ...        0    NaN   NaN         NaN       0      5   \n",
              "2         Lvl    AllPub  ...        0    NaN   NaN         NaN       0      9   \n",
              "3         Lvl    AllPub  ...        0    NaN   NaN         NaN       0      2   \n",
              "4         Lvl    AllPub  ...        0    NaN   NaN         NaN       0     12   \n",
              "\n",
              "  YrSold  SaleType  SaleCondition  SalePrice  \n",
              "0   2008        WD         Normal     208500  \n",
              "1   2007        WD         Normal     181500  \n",
              "2   2008        WD         Normal     223500  \n",
              "3   2006        WD        Abnorml     140000  \n",
              "4   2008        WD         Normal     250000  \n",
              "\n",
              "[5 rows x 81 columns]"
            ],
            "text/html": [
              "\n",
              "  <div id=\"df-f4ef6fed-7a84-476a-ac73-80fef89d2317\">\n",
              "    <div class=\"colab-df-container\">\n",
              "      <div>\n",
              "<style scoped>\n",
              "    .dataframe tbody tr th:only-of-type {\n",
              "        vertical-align: middle;\n",
              "    }\n",
              "\n",
              "    .dataframe tbody tr th {\n",
              "        vertical-align: top;\n",
              "    }\n",
              "\n",
              "    .dataframe thead th {\n",
              "        text-align: right;\n",
              "    }\n",
              "</style>\n",
              "<table border=\"1\" class=\"dataframe\">\n",
              "  <thead>\n",
              "    <tr style=\"text-align: right;\">\n",
              "      <th></th>\n",
              "      <th>Id</th>\n",
              "      <th>MSSubClass</th>\n",
              "      <th>MSZoning</th>\n",
              "      <th>LotFrontage</th>\n",
              "      <th>LotArea</th>\n",
              "      <th>Street</th>\n",
              "      <th>Alley</th>\n",
              "      <th>LotShape</th>\n",
              "      <th>LandContour</th>\n",
              "      <th>Utilities</th>\n",
              "      <th>...</th>\n",
              "      <th>PoolArea</th>\n",
              "      <th>PoolQC</th>\n",
              "      <th>Fence</th>\n",
              "      <th>MiscFeature</th>\n",
              "      <th>MiscVal</th>\n",
              "      <th>MoSold</th>\n",
              "      <th>YrSold</th>\n",
              "      <th>SaleType</th>\n",
              "      <th>SaleCondition</th>\n",
              "      <th>SalePrice</th>\n",
              "    </tr>\n",
              "  </thead>\n",
              "  <tbody>\n",
              "    <tr>\n",
              "      <th>0</th>\n",
              "      <td>1</td>\n",
              "      <td>60</td>\n",
              "      <td>RL</td>\n",
              "      <td>65.0</td>\n",
              "      <td>8450</td>\n",
              "      <td>Pave</td>\n",
              "      <td>NaN</td>\n",
              "      <td>Reg</td>\n",
              "      <td>Lvl</td>\n",
              "      <td>AllPub</td>\n",
              "      <td>...</td>\n",
              "      <td>0</td>\n",
              "      <td>NaN</td>\n",
              "      <td>NaN</td>\n",
              "      <td>NaN</td>\n",
              "      <td>0</td>\n",
              "      <td>2</td>\n",
              "      <td>2008</td>\n",
              "      <td>WD</td>\n",
              "      <td>Normal</td>\n",
              "      <td>208500</td>\n",
              "    </tr>\n",
              "    <tr>\n",
              "      <th>1</th>\n",
              "      <td>2</td>\n",
              "      <td>20</td>\n",
              "      <td>RL</td>\n",
              "      <td>80.0</td>\n",
              "      <td>9600</td>\n",
              "      <td>Pave</td>\n",
              "      <td>NaN</td>\n",
              "      <td>Reg</td>\n",
              "      <td>Lvl</td>\n",
              "      <td>AllPub</td>\n",
              "      <td>...</td>\n",
              "      <td>0</td>\n",
              "      <td>NaN</td>\n",
              "      <td>NaN</td>\n",
              "      <td>NaN</td>\n",
              "      <td>0</td>\n",
              "      <td>5</td>\n",
              "      <td>2007</td>\n",
              "      <td>WD</td>\n",
              "      <td>Normal</td>\n",
              "      <td>181500</td>\n",
              "    </tr>\n",
              "    <tr>\n",
              "      <th>2</th>\n",
              "      <td>3</td>\n",
              "      <td>60</td>\n",
              "      <td>RL</td>\n",
              "      <td>68.0</td>\n",
              "      <td>11250</td>\n",
              "      <td>Pave</td>\n",
              "      <td>NaN</td>\n",
              "      <td>IR1</td>\n",
              "      <td>Lvl</td>\n",
              "      <td>AllPub</td>\n",
              "      <td>...</td>\n",
              "      <td>0</td>\n",
              "      <td>NaN</td>\n",
              "      <td>NaN</td>\n",
              "      <td>NaN</td>\n",
              "      <td>0</td>\n",
              "      <td>9</td>\n",
              "      <td>2008</td>\n",
              "      <td>WD</td>\n",
              "      <td>Normal</td>\n",
              "      <td>223500</td>\n",
              "    </tr>\n",
              "    <tr>\n",
              "      <th>3</th>\n",
              "      <td>4</td>\n",
              "      <td>70</td>\n",
              "      <td>RL</td>\n",
              "      <td>60.0</td>\n",
              "      <td>9550</td>\n",
              "      <td>Pave</td>\n",
              "      <td>NaN</td>\n",
              "      <td>IR1</td>\n",
              "      <td>Lvl</td>\n",
              "      <td>AllPub</td>\n",
              "      <td>...</td>\n",
              "      <td>0</td>\n",
              "      <td>NaN</td>\n",
              "      <td>NaN</td>\n",
              "      <td>NaN</td>\n",
              "      <td>0</td>\n",
              "      <td>2</td>\n",
              "      <td>2006</td>\n",
              "      <td>WD</td>\n",
              "      <td>Abnorml</td>\n",
              "      <td>140000</td>\n",
              "    </tr>\n",
              "    <tr>\n",
              "      <th>4</th>\n",
              "      <td>5</td>\n",
              "      <td>60</td>\n",
              "      <td>RL</td>\n",
              "      <td>84.0</td>\n",
              "      <td>14260</td>\n",
              "      <td>Pave</td>\n",
              "      <td>NaN</td>\n",
              "      <td>IR1</td>\n",
              "      <td>Lvl</td>\n",
              "      <td>AllPub</td>\n",
              "      <td>...</td>\n",
              "      <td>0</td>\n",
              "      <td>NaN</td>\n",
              "      <td>NaN</td>\n",
              "      <td>NaN</td>\n",
              "      <td>0</td>\n",
              "      <td>12</td>\n",
              "      <td>2008</td>\n",
              "      <td>WD</td>\n",
              "      <td>Normal</td>\n",
              "      <td>250000</td>\n",
              "    </tr>\n",
              "  </tbody>\n",
              "</table>\n",
              "<p>5 rows × 81 columns</p>\n",
              "</div>\n",
              "      <button class=\"colab-df-convert\" onclick=\"convertToInteractive('df-f4ef6fed-7a84-476a-ac73-80fef89d2317')\"\n",
              "              title=\"Convert this dataframe to an interactive table.\"\n",
              "              style=\"display:none;\">\n",
              "        \n",
              "  <svg xmlns=\"http://www.w3.org/2000/svg\" height=\"24px\"viewBox=\"0 0 24 24\"\n",
              "       width=\"24px\">\n",
              "    <path d=\"M0 0h24v24H0V0z\" fill=\"none\"/>\n",
              "    <path d=\"M18.56 5.44l.94 2.06.94-2.06 2.06-.94-2.06-.94-.94-2.06-.94 2.06-2.06.94zm-11 1L8.5 8.5l.94-2.06 2.06-.94-2.06-.94L8.5 2.5l-.94 2.06-2.06.94zm10 10l.94 2.06.94-2.06 2.06-.94-2.06-.94-.94-2.06-.94 2.06-2.06.94z\"/><path d=\"M17.41 7.96l-1.37-1.37c-.4-.4-.92-.59-1.43-.59-.52 0-1.04.2-1.43.59L10.3 9.45l-7.72 7.72c-.78.78-.78 2.05 0 2.83L4 21.41c.39.39.9.59 1.41.59.51 0 1.02-.2 1.41-.59l7.78-7.78 2.81-2.81c.8-.78.8-2.07 0-2.86zM5.41 20L4 18.59l7.72-7.72 1.47 1.35L5.41 20z\"/>\n",
              "  </svg>\n",
              "      </button>\n",
              "      \n",
              "  <style>\n",
              "    .colab-df-container {\n",
              "      display:flex;\n",
              "      flex-wrap:wrap;\n",
              "      gap: 12px;\n",
              "    }\n",
              "\n",
              "    .colab-df-convert {\n",
              "      background-color: #E8F0FE;\n",
              "      border: none;\n",
              "      border-radius: 50%;\n",
              "      cursor: pointer;\n",
              "      display: none;\n",
              "      fill: #1967D2;\n",
              "      height: 32px;\n",
              "      padding: 0 0 0 0;\n",
              "      width: 32px;\n",
              "    }\n",
              "\n",
              "    .colab-df-convert:hover {\n",
              "      background-color: #E2EBFA;\n",
              "      box-shadow: 0px 1px 2px rgba(60, 64, 67, 0.3), 0px 1px 3px 1px rgba(60, 64, 67, 0.15);\n",
              "      fill: #174EA6;\n",
              "    }\n",
              "\n",
              "    [theme=dark] .colab-df-convert {\n",
              "      background-color: #3B4455;\n",
              "      fill: #D2E3FC;\n",
              "    }\n",
              "\n",
              "    [theme=dark] .colab-df-convert:hover {\n",
              "      background-color: #434B5C;\n",
              "      box-shadow: 0px 1px 3px 1px rgba(0, 0, 0, 0.15);\n",
              "      filter: drop-shadow(0px 1px 2px rgba(0, 0, 0, 0.3));\n",
              "      fill: #FFFFFF;\n",
              "    }\n",
              "  </style>\n",
              "\n",
              "      <script>\n",
              "        const buttonEl =\n",
              "          document.querySelector('#df-f4ef6fed-7a84-476a-ac73-80fef89d2317 button.colab-df-convert');\n",
              "        buttonEl.style.display =\n",
              "          google.colab.kernel.accessAllowed ? 'block' : 'none';\n",
              "\n",
              "        async function convertToInteractive(key) {\n",
              "          const element = document.querySelector('#df-f4ef6fed-7a84-476a-ac73-80fef89d2317');\n",
              "          const dataTable =\n",
              "            await google.colab.kernel.invokeFunction('convertToInteractive',\n",
              "                                                     [key], {});\n",
              "          if (!dataTable) return;\n",
              "\n",
              "          const docLinkHtml = 'Like what you see? Visit the ' +\n",
              "            '<a target=\"_blank\" href=https://colab.research.google.com/notebooks/data_table.ipynb>data table notebook</a>'\n",
              "            + ' to learn more about interactive tables.';\n",
              "          element.innerHTML = '';\n",
              "          dataTable['output_type'] = 'display_data';\n",
              "          await google.colab.output.renderOutput(dataTable, element);\n",
              "          const docLink = document.createElement('div');\n",
              "          docLink.innerHTML = docLinkHtml;\n",
              "          element.appendChild(docLink);\n",
              "        }\n",
              "      </script>\n",
              "    </div>\n",
              "  </div>\n",
              "  "
            ]
          },
          "metadata": {},
          "execution_count": 3
        }
      ]
    },
    {
      "cell_type": "code",
      "source": [
        "df.columns"
      ],
      "metadata": {
        "colab": {
          "base_uri": "https://localhost:8080/"
        },
        "id": "9s5rw4PBkngX",
        "outputId": "fddcf601-18ff-40a9-aa37-9eb8a888c42a"
      },
      "execution_count": 4,
      "outputs": [
        {
          "output_type": "execute_result",
          "data": {
            "text/plain": [
              "Index(['Id', 'MSSubClass', 'MSZoning', 'LotFrontage', 'LotArea', 'Street',\n",
              "       'Alley', 'LotShape', 'LandContour', 'Utilities', 'LotConfig',\n",
              "       'LandSlope', 'Neighborhood', 'Condition1', 'Condition2', 'BldgType',\n",
              "       'HouseStyle', 'OverallQual', 'OverallCond', 'YearBuilt', 'YearRemodAdd',\n",
              "       'RoofStyle', 'RoofMatl', 'Exterior1st', 'Exterior2nd', 'MasVnrType',\n",
              "       'MasVnrArea', 'ExterQual', 'ExterCond', 'Foundation', 'BsmtQual',\n",
              "       'BsmtCond', 'BsmtExposure', 'BsmtFinType1', 'BsmtFinSF1',\n",
              "       'BsmtFinType2', 'BsmtFinSF2', 'BsmtUnfSF', 'TotalBsmtSF', 'Heating',\n",
              "       'HeatingQC', 'CentralAir', 'Electrical', '1stFlrSF', '2ndFlrSF',\n",
              "       'LowQualFinSF', 'GrLivArea', 'BsmtFullBath', 'BsmtHalfBath', 'FullBath',\n",
              "       'HalfBath', 'BedroomAbvGr', 'KitchenAbvGr', 'KitchenQual',\n",
              "       'TotRmsAbvGrd', 'Functional', 'Fireplaces', 'FireplaceQu', 'GarageType',\n",
              "       'GarageYrBlt', 'GarageFinish', 'GarageCars', 'GarageArea', 'GarageQual',\n",
              "       'GarageCond', 'PavedDrive', 'WoodDeckSF', 'OpenPorchSF',\n",
              "       'EnclosedPorch', '3SsnPorch', 'ScreenPorch', 'PoolArea', 'PoolQC',\n",
              "       'Fence', 'MiscFeature', 'MiscVal', 'MoSold', 'YrSold', 'SaleType',\n",
              "       'SaleCondition', 'SalePrice'],\n",
              "      dtype='object')"
            ]
          },
          "metadata": {},
          "execution_count": 4
        }
      ]
    },
    {
      "cell_type": "code",
      "source": [
        "df.dtypes"
      ],
      "metadata": {
        "colab": {
          "base_uri": "https://localhost:8080/"
        },
        "id": "bGQR7O2wk3Qt",
        "outputId": "0524836a-625f-4c98-b8d8-5ee43eac68c5"
      },
      "execution_count": 5,
      "outputs": [
        {
          "output_type": "execute_result",
          "data": {
            "text/plain": [
              "Id                 int64\n",
              "MSSubClass         int64\n",
              "MSZoning          object\n",
              "LotFrontage      float64\n",
              "LotArea            int64\n",
              "                  ...   \n",
              "MoSold             int64\n",
              "YrSold             int64\n",
              "SaleType          object\n",
              "SaleCondition     object\n",
              "SalePrice          int64\n",
              "Length: 81, dtype: object"
            ]
          },
          "metadata": {},
          "execution_count": 5
        }
      ]
    },
    {
      "cell_type": "code",
      "source": [
        "columns_numeric = df.dtypes[(df.dtypes=='int64') | (df.dtypes=='float64')].index\n",
        "columns_numeric"
      ],
      "metadata": {
        "colab": {
          "base_uri": "https://localhost:8080/"
        },
        "id": "BBfZK5-0k6FH",
        "outputId": "6c6535b0-ce24-4c81-bcb8-7287645d4212"
      },
      "execution_count": 6,
      "outputs": [
        {
          "output_type": "execute_result",
          "data": {
            "text/plain": [
              "Index(['Id', 'MSSubClass', 'LotFrontage', 'LotArea', 'OverallQual',\n",
              "       'OverallCond', 'YearBuilt', 'YearRemodAdd', 'MasVnrArea', 'BsmtFinSF1',\n",
              "       'BsmtFinSF2', 'BsmtUnfSF', 'TotalBsmtSF', '1stFlrSF', '2ndFlrSF',\n",
              "       'LowQualFinSF', 'GrLivArea', 'BsmtFullBath', 'BsmtHalfBath', 'FullBath',\n",
              "       'HalfBath', 'BedroomAbvGr', 'KitchenAbvGr', 'TotRmsAbvGrd',\n",
              "       'Fireplaces', 'GarageYrBlt', 'GarageCars', 'GarageArea', 'WoodDeckSF',\n",
              "       'OpenPorchSF', 'EnclosedPorch', '3SsnPorch', 'ScreenPorch', 'PoolArea',\n",
              "       'MiscVal', 'MoSold', 'YrSold', 'SalePrice'],\n",
              "      dtype='object')"
            ]
          },
          "metadata": {},
          "execution_count": 6
        }
      ]
    },
    {
      "cell_type": "code",
      "source": [
        "df[columns_numeric].isna().sum()"
      ],
      "metadata": {
        "colab": {
          "base_uri": "https://localhost:8080/"
        },
        "id": "xw7k3kY_mRZI",
        "outputId": "8e81e519-952f-4b9b-e8c0-e1aa000e5644"
      },
      "execution_count": 7,
      "outputs": [
        {
          "output_type": "execute_result",
          "data": {
            "text/plain": [
              "Id                 0\n",
              "MSSubClass         0\n",
              "LotFrontage      259\n",
              "LotArea            0\n",
              "OverallQual        0\n",
              "OverallCond        0\n",
              "YearBuilt          0\n",
              "YearRemodAdd       0\n",
              "MasVnrArea         8\n",
              "BsmtFinSF1         0\n",
              "BsmtFinSF2         0\n",
              "BsmtUnfSF          0\n",
              "TotalBsmtSF        0\n",
              "1stFlrSF           0\n",
              "2ndFlrSF           0\n",
              "LowQualFinSF       0\n",
              "GrLivArea          0\n",
              "BsmtFullBath       0\n",
              "BsmtHalfBath       0\n",
              "FullBath           0\n",
              "HalfBath           0\n",
              "BedroomAbvGr       0\n",
              "KitchenAbvGr       0\n",
              "TotRmsAbvGrd       0\n",
              "Fireplaces         0\n",
              "GarageYrBlt       81\n",
              "GarageCars         0\n",
              "GarageArea         0\n",
              "WoodDeckSF         0\n",
              "OpenPorchSF        0\n",
              "EnclosedPorch      0\n",
              "3SsnPorch          0\n",
              "ScreenPorch        0\n",
              "PoolArea           0\n",
              "MiscVal            0\n",
              "MoSold             0\n",
              "YrSold             0\n",
              "SalePrice          0\n",
              "dtype: int64"
            ]
          },
          "metadata": {},
          "execution_count": 7
        }
      ]
    },
    {
      "cell_type": "code",
      "source": [
        "columns_object = df.dtypes[df.dtypes=='object'].index"
      ],
      "metadata": {
        "id": "WhGf32ITnUzB"
      },
      "execution_count": 8,
      "outputs": []
    },
    {
      "cell_type": "code",
      "source": [
        "df[columns_object].info()"
      ],
      "metadata": {
        "colab": {
          "base_uri": "https://localhost:8080/"
        },
        "id": "ahcQjIT1oJNx",
        "outputId": "7a71c857-57f9-45f4-af05-243ab84d545e"
      },
      "execution_count": 9,
      "outputs": [
        {
          "output_type": "stream",
          "name": "stdout",
          "text": [
            "<class 'pandas.core.frame.DataFrame'>\n",
            "RangeIndex: 1460 entries, 0 to 1459\n",
            "Data columns (total 43 columns):\n",
            " #   Column         Non-Null Count  Dtype \n",
            "---  ------         --------------  ----- \n",
            " 0   MSZoning       1460 non-null   object\n",
            " 1   Street         1460 non-null   object\n",
            " 2   Alley          91 non-null     object\n",
            " 3   LotShape       1460 non-null   object\n",
            " 4   LandContour    1460 non-null   object\n",
            " 5   Utilities      1460 non-null   object\n",
            " 6   LotConfig      1460 non-null   object\n",
            " 7   LandSlope      1460 non-null   object\n",
            " 8   Neighborhood   1460 non-null   object\n",
            " 9   Condition1     1460 non-null   object\n",
            " 10  Condition2     1460 non-null   object\n",
            " 11  BldgType       1460 non-null   object\n",
            " 12  HouseStyle     1460 non-null   object\n",
            " 13  RoofStyle      1460 non-null   object\n",
            " 14  RoofMatl       1460 non-null   object\n",
            " 15  Exterior1st    1460 non-null   object\n",
            " 16  Exterior2nd    1460 non-null   object\n",
            " 17  MasVnrType     1452 non-null   object\n",
            " 18  ExterQual      1460 non-null   object\n",
            " 19  ExterCond      1460 non-null   object\n",
            " 20  Foundation     1460 non-null   object\n",
            " 21  BsmtQual       1423 non-null   object\n",
            " 22  BsmtCond       1423 non-null   object\n",
            " 23  BsmtExposure   1422 non-null   object\n",
            " 24  BsmtFinType1   1423 non-null   object\n",
            " 25  BsmtFinType2   1422 non-null   object\n",
            " 26  Heating        1460 non-null   object\n",
            " 27  HeatingQC      1460 non-null   object\n",
            " 28  CentralAir     1460 non-null   object\n",
            " 29  Electrical     1459 non-null   object\n",
            " 30  KitchenQual    1460 non-null   object\n",
            " 31  Functional     1460 non-null   object\n",
            " 32  FireplaceQu    770 non-null    object\n",
            " 33  GarageType     1379 non-null   object\n",
            " 34  GarageFinish   1379 non-null   object\n",
            " 35  GarageQual     1379 non-null   object\n",
            " 36  GarageCond     1379 non-null   object\n",
            " 37  PavedDrive     1460 non-null   object\n",
            " 38  PoolQC         7 non-null      object\n",
            " 39  Fence          281 non-null    object\n",
            " 40  MiscFeature    54 non-null     object\n",
            " 41  SaleType       1460 non-null   object\n",
            " 42  SaleCondition  1460 non-null   object\n",
            "dtypes: object(43)\n",
            "memory usage: 490.6+ KB\n"
          ]
        }
      ]
    },
    {
      "cell_type": "code",
      "source": [
        "for col in columns_numeric:\n",
        "  df[col].fillna(value=df[col].mean(),inplace=True)"
      ],
      "metadata": {
        "id": "HUNyPlxOoQ4n"
      },
      "execution_count": 10,
      "outputs": []
    },
    {
      "cell_type": "code",
      "source": [
        "df.info()"
      ],
      "metadata": {
        "colab": {
          "base_uri": "https://localhost:8080/"
        },
        "id": "VJAK_jjTs9Mj",
        "outputId": "494d9376-ed4e-486b-f5d0-e206ff084fb0"
      },
      "execution_count": 11,
      "outputs": [
        {
          "output_type": "stream",
          "name": "stdout",
          "text": [
            "<class 'pandas.core.frame.DataFrame'>\n",
            "RangeIndex: 1460 entries, 0 to 1459\n",
            "Data columns (total 81 columns):\n",
            " #   Column         Non-Null Count  Dtype  \n",
            "---  ------         --------------  -----  \n",
            " 0   Id             1460 non-null   int64  \n",
            " 1   MSSubClass     1460 non-null   int64  \n",
            " 2   MSZoning       1460 non-null   object \n",
            " 3   LotFrontage    1460 non-null   float64\n",
            " 4   LotArea        1460 non-null   int64  \n",
            " 5   Street         1460 non-null   object \n",
            " 6   Alley          91 non-null     object \n",
            " 7   LotShape       1460 non-null   object \n",
            " 8   LandContour    1460 non-null   object \n",
            " 9   Utilities      1460 non-null   object \n",
            " 10  LotConfig      1460 non-null   object \n",
            " 11  LandSlope      1460 non-null   object \n",
            " 12  Neighborhood   1460 non-null   object \n",
            " 13  Condition1     1460 non-null   object \n",
            " 14  Condition2     1460 non-null   object \n",
            " 15  BldgType       1460 non-null   object \n",
            " 16  HouseStyle     1460 non-null   object \n",
            " 17  OverallQual    1460 non-null   int64  \n",
            " 18  OverallCond    1460 non-null   int64  \n",
            " 19  YearBuilt      1460 non-null   int64  \n",
            " 20  YearRemodAdd   1460 non-null   int64  \n",
            " 21  RoofStyle      1460 non-null   object \n",
            " 22  RoofMatl       1460 non-null   object \n",
            " 23  Exterior1st    1460 non-null   object \n",
            " 24  Exterior2nd    1460 non-null   object \n",
            " 25  MasVnrType     1452 non-null   object \n",
            " 26  MasVnrArea     1460 non-null   float64\n",
            " 27  ExterQual      1460 non-null   object \n",
            " 28  ExterCond      1460 non-null   object \n",
            " 29  Foundation     1460 non-null   object \n",
            " 30  BsmtQual       1423 non-null   object \n",
            " 31  BsmtCond       1423 non-null   object \n",
            " 32  BsmtExposure   1422 non-null   object \n",
            " 33  BsmtFinType1   1423 non-null   object \n",
            " 34  BsmtFinSF1     1460 non-null   int64  \n",
            " 35  BsmtFinType2   1422 non-null   object \n",
            " 36  BsmtFinSF2     1460 non-null   int64  \n",
            " 37  BsmtUnfSF      1460 non-null   int64  \n",
            " 38  TotalBsmtSF    1460 non-null   int64  \n",
            " 39  Heating        1460 non-null   object \n",
            " 40  HeatingQC      1460 non-null   object \n",
            " 41  CentralAir     1460 non-null   object \n",
            " 42  Electrical     1459 non-null   object \n",
            " 43  1stFlrSF       1460 non-null   int64  \n",
            " 44  2ndFlrSF       1460 non-null   int64  \n",
            " 45  LowQualFinSF   1460 non-null   int64  \n",
            " 46  GrLivArea      1460 non-null   int64  \n",
            " 47  BsmtFullBath   1460 non-null   int64  \n",
            " 48  BsmtHalfBath   1460 non-null   int64  \n",
            " 49  FullBath       1460 non-null   int64  \n",
            " 50  HalfBath       1460 non-null   int64  \n",
            " 51  BedroomAbvGr   1460 non-null   int64  \n",
            " 52  KitchenAbvGr   1460 non-null   int64  \n",
            " 53  KitchenQual    1460 non-null   object \n",
            " 54  TotRmsAbvGrd   1460 non-null   int64  \n",
            " 55  Functional     1460 non-null   object \n",
            " 56  Fireplaces     1460 non-null   int64  \n",
            " 57  FireplaceQu    770 non-null    object \n",
            " 58  GarageType     1379 non-null   object \n",
            " 59  GarageYrBlt    1460 non-null   float64\n",
            " 60  GarageFinish   1379 non-null   object \n",
            " 61  GarageCars     1460 non-null   int64  \n",
            " 62  GarageArea     1460 non-null   int64  \n",
            " 63  GarageQual     1379 non-null   object \n",
            " 64  GarageCond     1379 non-null   object \n",
            " 65  PavedDrive     1460 non-null   object \n",
            " 66  WoodDeckSF     1460 non-null   int64  \n",
            " 67  OpenPorchSF    1460 non-null   int64  \n",
            " 68  EnclosedPorch  1460 non-null   int64  \n",
            " 69  3SsnPorch      1460 non-null   int64  \n",
            " 70  ScreenPorch    1460 non-null   int64  \n",
            " 71  PoolArea       1460 non-null   int64  \n",
            " 72  PoolQC         7 non-null      object \n",
            " 73  Fence          281 non-null    object \n",
            " 74  MiscFeature    54 non-null     object \n",
            " 75  MiscVal        1460 non-null   int64  \n",
            " 76  MoSold         1460 non-null   int64  \n",
            " 77  YrSold         1460 non-null   int64  \n",
            " 78  SaleType       1460 non-null   object \n",
            " 79  SaleCondition  1460 non-null   object \n",
            " 80  SalePrice      1460 non-null   int64  \n",
            "dtypes: float64(3), int64(35), object(43)\n",
            "memory usage: 924.0+ KB\n"
          ]
        }
      ]
    },
    {
      "cell_type": "code",
      "source": [
        "df[columns_numeric].isna().sum()"
      ],
      "metadata": {
        "colab": {
          "base_uri": "https://localhost:8080/"
        },
        "id": "WgwHrbtztHtY",
        "outputId": "678502ec-f45e-42c0-d422-77e5a9d8bc90"
      },
      "execution_count": 12,
      "outputs": [
        {
          "output_type": "execute_result",
          "data": {
            "text/plain": [
              "Id               0\n",
              "MSSubClass       0\n",
              "LotFrontage      0\n",
              "LotArea          0\n",
              "OverallQual      0\n",
              "OverallCond      0\n",
              "YearBuilt        0\n",
              "YearRemodAdd     0\n",
              "MasVnrArea       0\n",
              "BsmtFinSF1       0\n",
              "BsmtFinSF2       0\n",
              "BsmtUnfSF        0\n",
              "TotalBsmtSF      0\n",
              "1stFlrSF         0\n",
              "2ndFlrSF         0\n",
              "LowQualFinSF     0\n",
              "GrLivArea        0\n",
              "BsmtFullBath     0\n",
              "BsmtHalfBath     0\n",
              "FullBath         0\n",
              "HalfBath         0\n",
              "BedroomAbvGr     0\n",
              "KitchenAbvGr     0\n",
              "TotRmsAbvGrd     0\n",
              "Fireplaces       0\n",
              "GarageYrBlt      0\n",
              "GarageCars       0\n",
              "GarageArea       0\n",
              "WoodDeckSF       0\n",
              "OpenPorchSF      0\n",
              "EnclosedPorch    0\n",
              "3SsnPorch        0\n",
              "ScreenPorch      0\n",
              "PoolArea         0\n",
              "MiscVal          0\n",
              "MoSold           0\n",
              "YrSold           0\n",
              "SalePrice        0\n",
              "dtype: int64"
            ]
          },
          "metadata": {},
          "execution_count": 12
        }
      ]
    },
    {
      "cell_type": "code",
      "source": [
        "df[columns_object].isna().sum()"
      ],
      "metadata": {
        "colab": {
          "base_uri": "https://localhost:8080/"
        },
        "outputId": "4b119dc5-e9c5-4ab7-cb16-5007f2834088",
        "id": "VUG0oHjGBFPX"
      },
      "execution_count": 13,
      "outputs": [
        {
          "output_type": "execute_result",
          "data": {
            "text/plain": [
              "MSZoning            0\n",
              "Street              0\n",
              "Alley            1369\n",
              "LotShape            0\n",
              "LandContour         0\n",
              "Utilities           0\n",
              "LotConfig           0\n",
              "LandSlope           0\n",
              "Neighborhood        0\n",
              "Condition1          0\n",
              "Condition2          0\n",
              "BldgType            0\n",
              "HouseStyle          0\n",
              "RoofStyle           0\n",
              "RoofMatl            0\n",
              "Exterior1st         0\n",
              "Exterior2nd         0\n",
              "MasVnrType          8\n",
              "ExterQual           0\n",
              "ExterCond           0\n",
              "Foundation          0\n",
              "BsmtQual           37\n",
              "BsmtCond           37\n",
              "BsmtExposure       38\n",
              "BsmtFinType1       37\n",
              "BsmtFinType2       38\n",
              "Heating             0\n",
              "HeatingQC           0\n",
              "CentralAir          0\n",
              "Electrical          1\n",
              "KitchenQual         0\n",
              "Functional          0\n",
              "FireplaceQu       690\n",
              "GarageType         81\n",
              "GarageFinish       81\n",
              "GarageQual         81\n",
              "GarageCond         81\n",
              "PavedDrive          0\n",
              "PoolQC           1453\n",
              "Fence            1179\n",
              "MiscFeature      1406\n",
              "SaleType            0\n",
              "SaleCondition       0\n",
              "dtype: int64"
            ]
          },
          "metadata": {},
          "execution_count": 13
        }
      ]
    },
    {
      "cell_type": "code",
      "source": [
        "########columns_object=df.drop(['PoolQC','Fence','MiscFeature','Alley'],axis=1,inplace=True)"
      ],
      "metadata": {
        "id": "K5bWs1rlBIOE"
      },
      "execution_count": 14,
      "outputs": []
    },
    {
      "cell_type": "code",
      "source": [
        "###df.info()"
      ],
      "metadata": {
        "id": "i18ZQaYvC_Ry"
      },
      "execution_count": 15,
      "outputs": []
    },
    {
      "cell_type": "code",
      "source": [
        "##3df[columns_object].isna().sum()"
      ],
      "metadata": {
        "id": "l1zzO0L3vG08"
      },
      "execution_count": 16,
      "outputs": []
    },
    {
      "cell_type": "code",
      "source": [
        "##df['Alley'].value_counts()"
      ],
      "metadata": {
        "id": "TBaE0z6pP5WG"
      },
      "execution_count": 17,
      "outputs": []
    },
    {
      "cell_type": "code",
      "source": [
        "#df.drop(['Alley'],axis=1,inplace=True)"
      ],
      "metadata": {
        "id": "5Lts7PItwoSS"
      },
      "execution_count": 18,
      "outputs": []
    },
    {
      "cell_type": "code",
      "source": [
        "#df.drop(['PoolQC','Fence','MiscFeature'],axis=1,inplace=True)"
      ],
      "metadata": {
        "id": "7717JrkBwdLo"
      },
      "execution_count": 19,
      "outputs": []
    },
    {
      "cell_type": "code",
      "source": [
        "#df.dtypes"
      ],
      "metadata": {
        "id": "MtztyPSzxlt3"
      },
      "execution_count": 20,
      "outputs": []
    },
    {
      "cell_type": "code",
      "source": [
        "#columns_object11 = df.dtypes[df.dtypes=='object'].index"
      ],
      "metadata": {
        "id": "JdzoXo9FxqKb"
      },
      "execution_count": 21,
      "outputs": []
    },
    {
      "cell_type": "code",
      "source": [
        "#df[columns_object11].isna().sum()"
      ],
      "metadata": {
        "id": "JnM-thyaxvSE"
      },
      "execution_count": 22,
      "outputs": []
    },
    {
      "cell_type": "code",
      "source": [
        "#df['FireplaceQu'].value_counts()"
      ],
      "metadata": {
        "id": "7_Kp4FB1DBlI"
      },
      "execution_count": 23,
      "outputs": []
    },
    {
      "cell_type": "code",
      "source": [
        "#df.drop(['FireplaceQu'],axis=1,inplace=True)"
      ],
      "metadata": {
        "id": "B5cOx7NW1IlR"
      },
      "execution_count": 24,
      "outputs": []
    },
    {
      "cell_type": "code",
      "source": [
        "#df"
      ],
      "metadata": {
        "id": "53avpZvq2tFt"
      },
      "execution_count": 25,
      "outputs": []
    },
    {
      "cell_type": "code",
      "source": [
        "#columns_object12 = df.dtypes[df.dtypes=='object'].index"
      ],
      "metadata": {
        "id": "QSnyT7-M2xNY"
      },
      "execution_count": 26,
      "outputs": []
    },
    {
      "cell_type": "code",
      "source": [
        "#df[columns_object12].isna().sum()"
      ],
      "metadata": {
        "id": "VIzmMgar23q8"
      },
      "execution_count": 27,
      "outputs": []
    },
    {
      "cell_type": "code",
      "source": [
        "#df['BsmtQual'].value_counts()"
      ],
      "metadata": {
        "id": "bG-Qlnlk3Btp"
      },
      "execution_count": 28,
      "outputs": []
    },
    {
      "cell_type": "code",
      "source": [
        "#df['BsmtQual'].fillna(value=df['BsmtQual'].mode()[0],inplace=True)"
      ],
      "metadata": {
        "id": "2PRmkGdt3Ux_"
      },
      "execution_count": 29,
      "outputs": []
    },
    {
      "cell_type": "code",
      "source": [
        "#df['BsmtCond'].value_counts()"
      ],
      "metadata": {
        "id": "naJ7er3b4JZq"
      },
      "execution_count": 30,
      "outputs": []
    },
    {
      "cell_type": "code",
      "source": [
        "#df['BsmtCond'].fillna(value=df['BsmtCond'].mode()[0],inplace=True)"
      ],
      "metadata": {
        "id": "YrA8YXYR5kez"
      },
      "execution_count": 31,
      "outputs": []
    },
    {
      "cell_type": "code",
      "source": [
        "#df[columns_object12].isna().sum()"
      ],
      "metadata": {
        "id": "XcdsZAe-5yMC"
      },
      "execution_count": 32,
      "outputs": []
    },
    {
      "cell_type": "code",
      "source": [
        "#df['BsmtExposure'].value_counts()"
      ],
      "metadata": {
        "id": "0kTo4YnL8fNY"
      },
      "execution_count": 33,
      "outputs": []
    },
    {
      "cell_type": "code",
      "source": [
        "#df['BsmtExposure'].fillna(value=df['BsmtExposure'].mode()[0],inplace=True)"
      ],
      "metadata": {
        "id": "vJ4Ne6jb8-3q"
      },
      "execution_count": 34,
      "outputs": []
    },
    {
      "cell_type": "code",
      "source": [
        "#df[columns_object12].isna().sum()"
      ],
      "metadata": {
        "id": "UmVHRjqg9jy9"
      },
      "execution_count": 35,
      "outputs": []
    },
    {
      "cell_type": "code",
      "source": [
        "df[columns_object].isna().sum()"
      ],
      "metadata": {
        "id": "9hXZAZhp9s5D",
        "colab": {
          "base_uri": "https://localhost:8080/"
        },
        "outputId": "ef27c000-0f12-4df6-acc8-f59e8391162a"
      },
      "execution_count": 36,
      "outputs": [
        {
          "output_type": "execute_result",
          "data": {
            "text/plain": [
              "MSZoning            0\n",
              "Street              0\n",
              "Alley            1369\n",
              "LotShape            0\n",
              "LandContour         0\n",
              "Utilities           0\n",
              "LotConfig           0\n",
              "LandSlope           0\n",
              "Neighborhood        0\n",
              "Condition1          0\n",
              "Condition2          0\n",
              "BldgType            0\n",
              "HouseStyle          0\n",
              "RoofStyle           0\n",
              "RoofMatl            0\n",
              "Exterior1st         0\n",
              "Exterior2nd         0\n",
              "MasVnrType          8\n",
              "ExterQual           0\n",
              "ExterCond           0\n",
              "Foundation          0\n",
              "BsmtQual           37\n",
              "BsmtCond           37\n",
              "BsmtExposure       38\n",
              "BsmtFinType1       37\n",
              "BsmtFinType2       38\n",
              "Heating             0\n",
              "HeatingQC           0\n",
              "CentralAir          0\n",
              "Electrical          1\n",
              "KitchenQual         0\n",
              "Functional          0\n",
              "FireplaceQu       690\n",
              "GarageType         81\n",
              "GarageFinish       81\n",
              "GarageQual         81\n",
              "GarageCond         81\n",
              "PavedDrive          0\n",
              "PoolQC           1453\n",
              "Fence            1179\n",
              "MiscFeature      1406\n",
              "SaleType            0\n",
              "SaleCondition       0\n",
              "dtype: int64"
            ]
          },
          "metadata": {},
          "execution_count": 36
        }
      ]
    },
    {
      "cell_type": "code",
      "source": [
        "df['MSZoning'].unique()"
      ],
      "metadata": {
        "colab": {
          "base_uri": "https://localhost:8080/"
        },
        "id": "Z4kxwBZQeTVQ",
        "outputId": "81d9530b-bdf6-4731-ebee-44b2febd620d"
      },
      "execution_count": 37,
      "outputs": [
        {
          "output_type": "execute_result",
          "data": {
            "text/plain": [
              "array(['RL', 'RM', 'C (all)', 'FV', 'RH'], dtype=object)"
            ]
          },
          "metadata": {},
          "execution_count": 37
        }
      ]
    },
    {
      "cell_type": "code",
      "source": [
        "temp = pd.get_dummies(df['MSZoning'])\n",
        "temp['SalePrice']=df['SalePrice']\n",
        "temp.corr()['SalePrice']"
      ],
      "metadata": {
        "colab": {
          "base_uri": "https://localhost:8080/"
        },
        "id": "LE-bNuUjecV0",
        "outputId": "9b3df7cd-a827-4dd8-dc64-ff5ec792c074"
      },
      "execution_count": 38,
      "outputs": [
        {
          "output_type": "execute_result",
          "data": {
            "text/plain": [
              "C (all)     -0.111257\n",
              "FV           0.089950\n",
              "RH          -0.065429\n",
              "RL           0.245063\n",
              "RM          -0.288065\n",
              "SalePrice    1.000000\n",
              "Name: SalePrice, dtype: float64"
            ]
          },
          "metadata": {},
          "execution_count": 38
        }
      ]
    },
    {
      "cell_type": "code",
      "source": [
        "df['Alley'].isna().sum()"
      ],
      "metadata": {
        "colab": {
          "base_uri": "https://localhost:8080/"
        },
        "id": "CpMVqu5Ne1qZ",
        "outputId": "e0b19b4a-eabd-412a-ea67-e9d0b0844c5a"
      },
      "execution_count": 39,
      "outputs": [
        {
          "output_type": "execute_result",
          "data": {
            "text/plain": [
              "1369"
            ]
          },
          "metadata": {},
          "execution_count": 39
        }
      ]
    },
    {
      "cell_type": "code",
      "source": [
        "df['Alley'].value_counts()"
      ],
      "metadata": {
        "colab": {
          "base_uri": "https://localhost:8080/"
        },
        "id": "kMcgU4DUgEMC",
        "outputId": "fe3321db-5b6b-4fbd-bea4-b778c65ec937"
      },
      "execution_count": 40,
      "outputs": [
        {
          "output_type": "execute_result",
          "data": {
            "text/plain": [
              "Grvl    50\n",
              "Pave    41\n",
              "Name: Alley, dtype: int64"
            ]
          },
          "metadata": {},
          "execution_count": 40
        }
      ]
    },
    {
      "cell_type": "code",
      "source": [
        "df['Neighborhood'].nunique()"
      ],
      "metadata": {
        "colab": {
          "base_uri": "https://localhost:8080/"
        },
        "id": "HYMmgUAhgZE8",
        "outputId": "43dfbc15-304a-4cd9-e5ab-365d47b6029c"
      },
      "execution_count": 41,
      "outputs": [
        {
          "output_type": "execute_result",
          "data": {
            "text/plain": [
              "25"
            ]
          },
          "metadata": {},
          "execution_count": 41
        }
      ]
    },
    {
      "cell_type": "code",
      "source": [
        "df['Neighborhood'].value_counts()"
      ],
      "metadata": {
        "colab": {
          "base_uri": "https://localhost:8080/"
        },
        "id": "ZbVQIFBmijqG",
        "outputId": "4d923129-d00f-45ee-d0c0-2f0f973ac8fb"
      },
      "execution_count": 42,
      "outputs": [
        {
          "output_type": "execute_result",
          "data": {
            "text/plain": [
              "NAmes      225\n",
              "CollgCr    150\n",
              "OldTown    113\n",
              "Edwards    100\n",
              "Somerst     86\n",
              "Gilbert     79\n",
              "NridgHt     77\n",
              "Sawyer      74\n",
              "NWAmes      73\n",
              "SawyerW     59\n",
              "BrkSide     58\n",
              "Crawfor     51\n",
              "Mitchel     49\n",
              "NoRidge     41\n",
              "Timber      38\n",
              "IDOTRR      37\n",
              "ClearCr     28\n",
              "StoneBr     25\n",
              "SWISU       25\n",
              "MeadowV     17\n",
              "Blmngtn     17\n",
              "BrDale      16\n",
              "Veenker     11\n",
              "NPkVill      9\n",
              "Blueste      2\n",
              "Name: Neighborhood, dtype: int64"
            ]
          },
          "metadata": {},
          "execution_count": 42
        }
      ]
    },
    {
      "cell_type": "code",
      "source": [
        "temp=pd.get_dummies(df['OverallCond'])\n",
        "temp['SalePrice']=df['SalePrice']\n",
        "temp.corr()['SalePrice']"
      ],
      "metadata": {
        "id": "QmXFmTBpinXm",
        "colab": {
          "base_uri": "https://localhost:8080/"
        },
        "outputId": "9b0a0516-fa84-4c16-a29e-0197e2ac0865"
      },
      "execution_count": 43,
      "outputs": [
        {
          "output_type": "execute_result",
          "data": {
            "text/plain": [
              "1           -0.039533\n",
              "2           -0.028740\n",
              "3           -0.131287\n",
              "4           -0.153510\n",
              "5            0.317229\n",
              "6           -0.155052\n",
              "7           -0.115911\n",
              "8           -0.072471\n",
              "9            0.054642\n",
              "SalePrice    1.000000\n",
              "Name: SalePrice, dtype: float64"
            ]
          },
          "metadata": {},
          "execution_count": 43
        }
      ]
    },
    {
      "cell_type": "code",
      "source": [
        "z_score=(df['SalePrice'] - df['SalePrice'].mean())/df['SalePrice'].std()"
      ],
      "metadata": {
        "id": "qAde3N_laC2m"
      },
      "execution_count": 44,
      "outputs": []
    },
    {
      "cell_type": "code",
      "source": [
        "sum(z_score<-3)"
      ],
      "metadata": {
        "colab": {
          "base_uri": "https://localhost:8080/"
        },
        "id": "JuIzPPe-fiRp",
        "outputId": "6d89c43a-27ba-4729-e937-959f8c37dbb7"
      },
      "execution_count": 45,
      "outputs": [
        {
          "output_type": "execute_result",
          "data": {
            "text/plain": [
              "0"
            ]
          },
          "metadata": {},
          "execution_count": 45
        }
      ]
    },
    {
      "cell_type": "code",
      "source": [
        "sum(z_score>3)"
      ],
      "metadata": {
        "colab": {
          "base_uri": "https://localhost:8080/"
        },
        "id": "cY7XGfgmfxFL",
        "outputId": "7cfb228f-8735-4815-eeb6-2e545dbb5a58"
      },
      "execution_count": 46,
      "outputs": [
        {
          "output_type": "execute_result",
          "data": {
            "text/plain": [
              "22"
            ]
          },
          "metadata": {},
          "execution_count": 46
        }
      ]
    },
    {
      "cell_type": "code",
      "source": [
        "df['SalePrice'].std()*3"
      ],
      "metadata": {
        "colab": {
          "base_uri": "https://localhost:8080/"
        },
        "id": "DIZoDRKTf89J",
        "outputId": "a7ce3231-3fff-47e9-8467-6210b8811be0"
      },
      "execution_count": 47,
      "outputs": [
        {
          "output_type": "execute_result",
          "data": {
            "text/plain": [
              "238327.50864865986"
            ]
          },
          "metadata": {},
          "execution_count": 47
        }
      ]
    },
    {
      "cell_type": "code",
      "source": [
        "sum(df['SalePrice']>140000)"
      ],
      "metadata": {
        "colab": {
          "base_uri": "https://localhost:8080/"
        },
        "id": "MDoLliWFgERt",
        "outputId": "6c4af359-beef-45fd-f915-b41ecd5ad201"
      },
      "execution_count": 48,
      "outputs": [
        {
          "output_type": "execute_result",
          "data": {
            "text/plain": [
              "951"
            ]
          },
          "metadata": {},
          "execution_count": 48
        }
      ]
    },
    {
      "cell_type": "code",
      "source": [
        "df = pd.read_csv('train.csv',na_values='',keep_default_na=False)"
      ],
      "metadata": {
        "id": "mV2X4GYOgWD3"
      },
      "execution_count": 49,
      "outputs": []
    },
    {
      "cell_type": "code",
      "source": [
        "df.info()"
      ],
      "metadata": {
        "colab": {
          "base_uri": "https://localhost:8080/"
        },
        "id": "srJDMbftmFcb",
        "outputId": "647b1420-e2f0-4a1b-a8ec-52822715911d"
      },
      "execution_count": 50,
      "outputs": [
        {
          "output_type": "stream",
          "name": "stdout",
          "text": [
            "<class 'pandas.core.frame.DataFrame'>\n",
            "RangeIndex: 1460 entries, 0 to 1459\n",
            "Data columns (total 81 columns):\n",
            " #   Column         Non-Null Count  Dtype \n",
            "---  ------         --------------  ----- \n",
            " 0   Id             1460 non-null   int64 \n",
            " 1   MSSubClass     1460 non-null   int64 \n",
            " 2   MSZoning       1460 non-null   object\n",
            " 3   LotFrontage    1460 non-null   object\n",
            " 4   LotArea        1460 non-null   int64 \n",
            " 5   Street         1460 non-null   object\n",
            " 6   Alley          1460 non-null   object\n",
            " 7   LotShape       1460 non-null   object\n",
            " 8   LandContour    1460 non-null   object\n",
            " 9   Utilities      1460 non-null   object\n",
            " 10  LotConfig      1460 non-null   object\n",
            " 11  LandSlope      1460 non-null   object\n",
            " 12  Neighborhood   1460 non-null   object\n",
            " 13  Condition1     1460 non-null   object\n",
            " 14  Condition2     1460 non-null   object\n",
            " 15  BldgType       1460 non-null   object\n",
            " 16  HouseStyle     1460 non-null   object\n",
            " 17  OverallQual    1460 non-null   int64 \n",
            " 18  OverallCond    1460 non-null   int64 \n",
            " 19  YearBuilt      1460 non-null   int64 \n",
            " 20  YearRemodAdd   1460 non-null   int64 \n",
            " 21  RoofStyle      1460 non-null   object\n",
            " 22  RoofMatl       1460 non-null   object\n",
            " 23  Exterior1st    1460 non-null   object\n",
            " 24  Exterior2nd    1460 non-null   object\n",
            " 25  MasVnrType     1460 non-null   object\n",
            " 26  MasVnrArea     1460 non-null   object\n",
            " 27  ExterQual      1460 non-null   object\n",
            " 28  ExterCond      1460 non-null   object\n",
            " 29  Foundation     1460 non-null   object\n",
            " 30  BsmtQual       1460 non-null   object\n",
            " 31  BsmtCond       1460 non-null   object\n",
            " 32  BsmtExposure   1460 non-null   object\n",
            " 33  BsmtFinType1   1460 non-null   object\n",
            " 34  BsmtFinSF1     1460 non-null   int64 \n",
            " 35  BsmtFinType2   1460 non-null   object\n",
            " 36  BsmtFinSF2     1460 non-null   int64 \n",
            " 37  BsmtUnfSF      1460 non-null   int64 \n",
            " 38  TotalBsmtSF    1460 non-null   int64 \n",
            " 39  Heating        1460 non-null   object\n",
            " 40  HeatingQC      1460 non-null   object\n",
            " 41  CentralAir     1460 non-null   object\n",
            " 42  Electrical     1460 non-null   object\n",
            " 43  1stFlrSF       1460 non-null   int64 \n",
            " 44  2ndFlrSF       1460 non-null   int64 \n",
            " 45  LowQualFinSF   1460 non-null   int64 \n",
            " 46  GrLivArea      1460 non-null   int64 \n",
            " 47  BsmtFullBath   1460 non-null   int64 \n",
            " 48  BsmtHalfBath   1460 non-null   int64 \n",
            " 49  FullBath       1460 non-null   int64 \n",
            " 50  HalfBath       1460 non-null   int64 \n",
            " 51  BedroomAbvGr   1460 non-null   int64 \n",
            " 52  KitchenAbvGr   1460 non-null   int64 \n",
            " 53  KitchenQual    1460 non-null   object\n",
            " 54  TotRmsAbvGrd   1460 non-null   int64 \n",
            " 55  Functional     1460 non-null   object\n",
            " 56  Fireplaces     1460 non-null   int64 \n",
            " 57  FireplaceQu    1460 non-null   object\n",
            " 58  GarageType     1460 non-null   object\n",
            " 59  GarageYrBlt    1460 non-null   object\n",
            " 60  GarageFinish   1460 non-null   object\n",
            " 61  GarageCars     1460 non-null   int64 \n",
            " 62  GarageArea     1460 non-null   int64 \n",
            " 63  GarageQual     1460 non-null   object\n",
            " 64  GarageCond     1460 non-null   object\n",
            " 65  PavedDrive     1460 non-null   object\n",
            " 66  WoodDeckSF     1460 non-null   int64 \n",
            " 67  OpenPorchSF    1460 non-null   int64 \n",
            " 68  EnclosedPorch  1460 non-null   int64 \n",
            " 69  3SsnPorch      1460 non-null   int64 \n",
            " 70  ScreenPorch    1460 non-null   int64 \n",
            " 71  PoolArea       1460 non-null   int64 \n",
            " 72  PoolQC         1460 non-null   object\n",
            " 73  Fence          1460 non-null   object\n",
            " 74  MiscFeature    1460 non-null   object\n",
            " 75  MiscVal        1460 non-null   int64 \n",
            " 76  MoSold         1460 non-null   int64 \n",
            " 77  YrSold         1460 non-null   int64 \n",
            " 78  SaleType       1460 non-null   object\n",
            " 79  SaleCondition  1460 non-null   object\n",
            " 80  SalePrice      1460 non-null   int64 \n",
            "dtypes: int64(35), object(46)\n",
            "memory usage: 924.0+ KB\n"
          ]
        }
      ]
    },
    {
      "cell_type": "code",
      "source": [
        "df_test = pd.read_csv('test.csv')"
      ],
      "metadata": {
        "id": "HlBgT89M6-va"
      },
      "execution_count": 51,
      "outputs": []
    },
    {
      "cell_type": "code",
      "source": [
        "train_data_num = df.select_dtypes(exclude=['object'])\n",
        "test_data_num = df_test.select_dtypes(exclude=['object'])\n",
        "train_data_num.head()"
      ],
      "metadata": {
        "colab": {
          "base_uri": "https://localhost:8080/",
          "height": 300
        },
        "id": "hSKKQeYnmZOx",
        "outputId": "ca72b73f-39b0-436d-89b9-cceb2c57e40f"
      },
      "execution_count": 52,
      "outputs": [
        {
          "output_type": "execute_result",
          "data": {
            "text/plain": [
              "   Id  MSSubClass  LotArea  OverallQual  OverallCond  YearBuilt  YearRemodAdd  \\\n",
              "0   1          60     8450            7            5       2003          2003   \n",
              "1   2          20     9600            6            8       1976          1976   \n",
              "2   3          60    11250            7            5       2001          2002   \n",
              "3   4          70     9550            7            5       1915          1970   \n",
              "4   5          60    14260            8            5       2000          2000   \n",
              "\n",
              "   BsmtFinSF1  BsmtFinSF2  BsmtUnfSF  ...  WoodDeckSF  OpenPorchSF  \\\n",
              "0         706           0        150  ...           0           61   \n",
              "1         978           0        284  ...         298            0   \n",
              "2         486           0        434  ...           0           42   \n",
              "3         216           0        540  ...           0           35   \n",
              "4         655           0        490  ...         192           84   \n",
              "\n",
              "   EnclosedPorch  3SsnPorch  ScreenPorch  PoolArea  MiscVal  MoSold  YrSold  \\\n",
              "0              0          0            0         0        0       2    2008   \n",
              "1              0          0            0         0        0       5    2007   \n",
              "2              0          0            0         0        0       9    2008   \n",
              "3            272          0            0         0        0       2    2006   \n",
              "4              0          0            0         0        0      12    2008   \n",
              "\n",
              "   SalePrice  \n",
              "0     208500  \n",
              "1     181500  \n",
              "2     223500  \n",
              "3     140000  \n",
              "4     250000  \n",
              "\n",
              "[5 rows x 35 columns]"
            ],
            "text/html": [
              "\n",
              "  <div id=\"df-7880389a-298e-4506-b19e-7fee4983f688\">\n",
              "    <div class=\"colab-df-container\">\n",
              "      <div>\n",
              "<style scoped>\n",
              "    .dataframe tbody tr th:only-of-type {\n",
              "        vertical-align: middle;\n",
              "    }\n",
              "\n",
              "    .dataframe tbody tr th {\n",
              "        vertical-align: top;\n",
              "    }\n",
              "\n",
              "    .dataframe thead th {\n",
              "        text-align: right;\n",
              "    }\n",
              "</style>\n",
              "<table border=\"1\" class=\"dataframe\">\n",
              "  <thead>\n",
              "    <tr style=\"text-align: right;\">\n",
              "      <th></th>\n",
              "      <th>Id</th>\n",
              "      <th>MSSubClass</th>\n",
              "      <th>LotArea</th>\n",
              "      <th>OverallQual</th>\n",
              "      <th>OverallCond</th>\n",
              "      <th>YearBuilt</th>\n",
              "      <th>YearRemodAdd</th>\n",
              "      <th>BsmtFinSF1</th>\n",
              "      <th>BsmtFinSF2</th>\n",
              "      <th>BsmtUnfSF</th>\n",
              "      <th>...</th>\n",
              "      <th>WoodDeckSF</th>\n",
              "      <th>OpenPorchSF</th>\n",
              "      <th>EnclosedPorch</th>\n",
              "      <th>3SsnPorch</th>\n",
              "      <th>ScreenPorch</th>\n",
              "      <th>PoolArea</th>\n",
              "      <th>MiscVal</th>\n",
              "      <th>MoSold</th>\n",
              "      <th>YrSold</th>\n",
              "      <th>SalePrice</th>\n",
              "    </tr>\n",
              "  </thead>\n",
              "  <tbody>\n",
              "    <tr>\n",
              "      <th>0</th>\n",
              "      <td>1</td>\n",
              "      <td>60</td>\n",
              "      <td>8450</td>\n",
              "      <td>7</td>\n",
              "      <td>5</td>\n",
              "      <td>2003</td>\n",
              "      <td>2003</td>\n",
              "      <td>706</td>\n",
              "      <td>0</td>\n",
              "      <td>150</td>\n",
              "      <td>...</td>\n",
              "      <td>0</td>\n",
              "      <td>61</td>\n",
              "      <td>0</td>\n",
              "      <td>0</td>\n",
              "      <td>0</td>\n",
              "      <td>0</td>\n",
              "      <td>0</td>\n",
              "      <td>2</td>\n",
              "      <td>2008</td>\n",
              "      <td>208500</td>\n",
              "    </tr>\n",
              "    <tr>\n",
              "      <th>1</th>\n",
              "      <td>2</td>\n",
              "      <td>20</td>\n",
              "      <td>9600</td>\n",
              "      <td>6</td>\n",
              "      <td>8</td>\n",
              "      <td>1976</td>\n",
              "      <td>1976</td>\n",
              "      <td>978</td>\n",
              "      <td>0</td>\n",
              "      <td>284</td>\n",
              "      <td>...</td>\n",
              "      <td>298</td>\n",
              "      <td>0</td>\n",
              "      <td>0</td>\n",
              "      <td>0</td>\n",
              "      <td>0</td>\n",
              "      <td>0</td>\n",
              "      <td>0</td>\n",
              "      <td>5</td>\n",
              "      <td>2007</td>\n",
              "      <td>181500</td>\n",
              "    </tr>\n",
              "    <tr>\n",
              "      <th>2</th>\n",
              "      <td>3</td>\n",
              "      <td>60</td>\n",
              "      <td>11250</td>\n",
              "      <td>7</td>\n",
              "      <td>5</td>\n",
              "      <td>2001</td>\n",
              "      <td>2002</td>\n",
              "      <td>486</td>\n",
              "      <td>0</td>\n",
              "      <td>434</td>\n",
              "      <td>...</td>\n",
              "      <td>0</td>\n",
              "      <td>42</td>\n",
              "      <td>0</td>\n",
              "      <td>0</td>\n",
              "      <td>0</td>\n",
              "      <td>0</td>\n",
              "      <td>0</td>\n",
              "      <td>9</td>\n",
              "      <td>2008</td>\n",
              "      <td>223500</td>\n",
              "    </tr>\n",
              "    <tr>\n",
              "      <th>3</th>\n",
              "      <td>4</td>\n",
              "      <td>70</td>\n",
              "      <td>9550</td>\n",
              "      <td>7</td>\n",
              "      <td>5</td>\n",
              "      <td>1915</td>\n",
              "      <td>1970</td>\n",
              "      <td>216</td>\n",
              "      <td>0</td>\n",
              "      <td>540</td>\n",
              "      <td>...</td>\n",
              "      <td>0</td>\n",
              "      <td>35</td>\n",
              "      <td>272</td>\n",
              "      <td>0</td>\n",
              "      <td>0</td>\n",
              "      <td>0</td>\n",
              "      <td>0</td>\n",
              "      <td>2</td>\n",
              "      <td>2006</td>\n",
              "      <td>140000</td>\n",
              "    </tr>\n",
              "    <tr>\n",
              "      <th>4</th>\n",
              "      <td>5</td>\n",
              "      <td>60</td>\n",
              "      <td>14260</td>\n",
              "      <td>8</td>\n",
              "      <td>5</td>\n",
              "      <td>2000</td>\n",
              "      <td>2000</td>\n",
              "      <td>655</td>\n",
              "      <td>0</td>\n",
              "      <td>490</td>\n",
              "      <td>...</td>\n",
              "      <td>192</td>\n",
              "      <td>84</td>\n",
              "      <td>0</td>\n",
              "      <td>0</td>\n",
              "      <td>0</td>\n",
              "      <td>0</td>\n",
              "      <td>0</td>\n",
              "      <td>12</td>\n",
              "      <td>2008</td>\n",
              "      <td>250000</td>\n",
              "    </tr>\n",
              "  </tbody>\n",
              "</table>\n",
              "<p>5 rows × 35 columns</p>\n",
              "</div>\n",
              "      <button class=\"colab-df-convert\" onclick=\"convertToInteractive('df-7880389a-298e-4506-b19e-7fee4983f688')\"\n",
              "              title=\"Convert this dataframe to an interactive table.\"\n",
              "              style=\"display:none;\">\n",
              "        \n",
              "  <svg xmlns=\"http://www.w3.org/2000/svg\" height=\"24px\"viewBox=\"0 0 24 24\"\n",
              "       width=\"24px\">\n",
              "    <path d=\"M0 0h24v24H0V0z\" fill=\"none\"/>\n",
              "    <path d=\"M18.56 5.44l.94 2.06.94-2.06 2.06-.94-2.06-.94-.94-2.06-.94 2.06-2.06.94zm-11 1L8.5 8.5l.94-2.06 2.06-.94-2.06-.94L8.5 2.5l-.94 2.06-2.06.94zm10 10l.94 2.06.94-2.06 2.06-.94-2.06-.94-.94-2.06-.94 2.06-2.06.94z\"/><path d=\"M17.41 7.96l-1.37-1.37c-.4-.4-.92-.59-1.43-.59-.52 0-1.04.2-1.43.59L10.3 9.45l-7.72 7.72c-.78.78-.78 2.05 0 2.83L4 21.41c.39.39.9.59 1.41.59.51 0 1.02-.2 1.41-.59l7.78-7.78 2.81-2.81c.8-.78.8-2.07 0-2.86zM5.41 20L4 18.59l7.72-7.72 1.47 1.35L5.41 20z\"/>\n",
              "  </svg>\n",
              "      </button>\n",
              "      \n",
              "  <style>\n",
              "    .colab-df-container {\n",
              "      display:flex;\n",
              "      flex-wrap:wrap;\n",
              "      gap: 12px;\n",
              "    }\n",
              "\n",
              "    .colab-df-convert {\n",
              "      background-color: #E8F0FE;\n",
              "      border: none;\n",
              "      border-radius: 50%;\n",
              "      cursor: pointer;\n",
              "      display: none;\n",
              "      fill: #1967D2;\n",
              "      height: 32px;\n",
              "      padding: 0 0 0 0;\n",
              "      width: 32px;\n",
              "    }\n",
              "\n",
              "    .colab-df-convert:hover {\n",
              "      background-color: #E2EBFA;\n",
              "      box-shadow: 0px 1px 2px rgba(60, 64, 67, 0.3), 0px 1px 3px 1px rgba(60, 64, 67, 0.15);\n",
              "      fill: #174EA6;\n",
              "    }\n",
              "\n",
              "    [theme=dark] .colab-df-convert {\n",
              "      background-color: #3B4455;\n",
              "      fill: #D2E3FC;\n",
              "    }\n",
              "\n",
              "    [theme=dark] .colab-df-convert:hover {\n",
              "      background-color: #434B5C;\n",
              "      box-shadow: 0px 1px 3px 1px rgba(0, 0, 0, 0.15);\n",
              "      filter: drop-shadow(0px 1px 2px rgba(0, 0, 0, 0.3));\n",
              "      fill: #FFFFFF;\n",
              "    }\n",
              "  </style>\n",
              "\n",
              "      <script>\n",
              "        const buttonEl =\n",
              "          document.querySelector('#df-7880389a-298e-4506-b19e-7fee4983f688 button.colab-df-convert');\n",
              "        buttonEl.style.display =\n",
              "          google.colab.kernel.accessAllowed ? 'block' : 'none';\n",
              "\n",
              "        async function convertToInteractive(key) {\n",
              "          const element = document.querySelector('#df-7880389a-298e-4506-b19e-7fee4983f688');\n",
              "          const dataTable =\n",
              "            await google.colab.kernel.invokeFunction('convertToInteractive',\n",
              "                                                     [key], {});\n",
              "          if (!dataTable) return;\n",
              "\n",
              "          const docLinkHtml = 'Like what you see? Visit the ' +\n",
              "            '<a target=\"_blank\" href=https://colab.research.google.com/notebooks/data_table.ipynb>data table notebook</a>'\n",
              "            + ' to learn more about interactive tables.';\n",
              "          element.innerHTML = '';\n",
              "          dataTable['output_type'] = 'display_data';\n",
              "          await google.colab.output.renderOutput(dataTable, element);\n",
              "          const docLink = document.createElement('div');\n",
              "          docLink.innerHTML = docLinkHtml;\n",
              "          element.appendChild(docLink);\n",
              "        }\n",
              "      </script>\n",
              "    </div>\n",
              "  </div>\n",
              "  "
            ]
          },
          "metadata": {},
          "execution_count": 52
        }
      ]
    },
    {
      "cell_type": "code",
      "source": [
        "from sklearn.feature_selection import VarianceThreshold\n",
        "selector = VarianceThreshold(threshold=0.05)\n",
        "\n",
        "selector.fit(train_data_num.iloc[:, :-1])\n",
        "\n",
        "sup = selector.get_support()\n",
        "\n",
        "print('Number of retained features: ', sum(sup))\n",
        "\n",
        "print('Number low-variance features: ', sum(~sup))\n",
        "\n",
        "low_var_fet = train_data_num.drop(['SalePrice'], axis=1).loc[:, ~sup].columns.values\n",
        "\n",
        "print('Low-variance features: ', low_var_fet)\n",
        "\n",
        "print('Before: ',train_data_num.shape, test_data_num.shape)\n",
        "train_data_num.drop(low_var_fet, axis=1, inplace=True)\n",
        "test_data_num.drop(low_var_fet, axis=1, inplace=True)\n",
        "print('After: ', train_data_num.shape, test_data_num.shape)"
      ],
      "metadata": {
        "colab": {
          "base_uri": "https://localhost:8080/"
        },
        "id": "aJNCGxWo6j3L",
        "outputId": "2d78a2be-2adc-4d2e-bdc3-4639acc3a7e7"
      },
      "execution_count": 53,
      "outputs": [
        {
          "output_type": "stream",
          "name": "stdout",
          "text": [
            "Number of retained features:  33\n",
            "Number low-variance features:  1\n",
            "Low-variance features:  ['KitchenAbvGr']\n",
            "Before:  (1460, 35) (1459, 37)\n",
            "After:  (1460, 34) (1459, 36)\n"
          ]
        },
        {
          "output_type": "stream",
          "name": "stderr",
          "text": [
            "/usr/local/lib/python3.7/dist-packages/pandas/core/frame.py:4913: SettingWithCopyWarning: \n",
            "A value is trying to be set on a copy of a slice from a DataFrame\n",
            "\n",
            "See the caveats in the documentation: https://pandas.pydata.org/pandas-docs/stable/user_guide/indexing.html#returning-a-view-versus-a-copy\n",
            "  errors=errors,\n"
          ]
        }
      ]
    },
    {
      "cell_type": "code",
      "source": [
        "corr_mat = train_data_num.corr('pearson')\n",
        "corr_mat[(corr_mat < 0.3) & (corr_mat > -0.3)] = 0\n",
        "corr_features = corr_mat['SalePrice'].drop(['SalePrice'])\n",
        "corr_features.sort_values(ascending=False)"
      ],
      "metadata": {
        "colab": {
          "base_uri": "https://localhost:8080/"
        },
        "id": "Z4c9azpv7UaJ",
        "outputId": "1b2bf895-11ef-4e42-a692-7b234ddbf3ea"
      },
      "execution_count": 54,
      "outputs": [
        {
          "output_type": "execute_result",
          "data": {
            "text/plain": [
              "OverallQual      0.790982\n",
              "GrLivArea        0.708624\n",
              "GarageCars       0.640409\n",
              "GarageArea       0.623431\n",
              "TotalBsmtSF      0.613581\n",
              "1stFlrSF         0.605852\n",
              "FullBath         0.560664\n",
              "TotRmsAbvGrd     0.533723\n",
              "YearBuilt        0.522897\n",
              "YearRemodAdd     0.507101\n",
              "Fireplaces       0.466929\n",
              "BsmtFinSF1       0.386420\n",
              "WoodDeckSF       0.324413\n",
              "2ndFlrSF         0.319334\n",
              "OpenPorchSF      0.315856\n",
              "ScreenPorch      0.000000\n",
              "3SsnPorch        0.000000\n",
              "PoolArea         0.000000\n",
              "EnclosedPorch    0.000000\n",
              "MiscVal          0.000000\n",
              "MoSold           0.000000\n",
              "Id               0.000000\n",
              "BsmtHalfBath     0.000000\n",
              "BedroomAbvGr     0.000000\n",
              "HalfBath         0.000000\n",
              "MSSubClass       0.000000\n",
              "BsmtFullBath     0.000000\n",
              "LowQualFinSF     0.000000\n",
              "BsmtUnfSF        0.000000\n",
              "BsmtFinSF2       0.000000\n",
              "OverallCond      0.000000\n",
              "LotArea          0.000000\n",
              "YrSold           0.000000\n",
              "Name: SalePrice, dtype: float64"
            ]
          },
          "metadata": {},
          "execution_count": 54
        }
      ]
    },
    {
      "cell_type": "code",
      "source": [
        "from itertools import combinations\n",
        "\n",
        "# find pairs of strongly correalted features\n",
        "cols = train_data_num.columns.tolist()[:-1]\n",
        "pairs = []\n",
        "\n",
        "for pair in combinations(range(len(cols)), 2):\n",
        "    if corr_mat.loc[cols[pair[0]], cols[pair[1]]] >= 0.7:\n",
        "        pairs.append((cols[pair[0]], cols[pair[1]]))\n",
        "        \n",
        "pairs"
      ],
      "metadata": {
        "colab": {
          "base_uri": "https://localhost:8080/"
        },
        "id": "_jhCePwO75G6",
        "outputId": "2b32d8fd-9737-4d0a-8ae5-3917ea9a0469"
      },
      "execution_count": 55,
      "outputs": [
        {
          "output_type": "execute_result",
          "data": {
            "text/plain": [
              "[('TotalBsmtSF', '1stFlrSF'),\n",
              " ('GrLivArea', 'TotRmsAbvGrd'),\n",
              " ('GarageCars', 'GarageArea')]"
            ]
          },
          "metadata": {},
          "execution_count": 55
        }
      ]
    },
    {
      "cell_type": "code",
      "source": [
        "for _, col in pairs:\n",
        "    train_data_num.drop(col, axis=1, inplace=True)\n",
        "    test_data_num.drop(col, axis=1, inplace=True)\n",
        "\n",
        "train_data_num.head()"
      ],
      "metadata": {
        "colab": {
          "base_uri": "https://localhost:8080/",
          "height": 386
        },
        "id": "rNzkjS7_8g5J",
        "outputId": "51e35c08-c96b-4f44-dd43-f7ccb2c76016"
      },
      "execution_count": 56,
      "outputs": [
        {
          "output_type": "stream",
          "name": "stderr",
          "text": [
            "/usr/local/lib/python3.7/dist-packages/pandas/core/frame.py:4913: SettingWithCopyWarning: \n",
            "A value is trying to be set on a copy of a slice from a DataFrame\n",
            "\n",
            "See the caveats in the documentation: https://pandas.pydata.org/pandas-docs/stable/user_guide/indexing.html#returning-a-view-versus-a-copy\n",
            "  errors=errors,\n"
          ]
        },
        {
          "output_type": "execute_result",
          "data": {
            "text/plain": [
              "   Id  MSSubClass  LotArea  OverallQual  OverallCond  YearBuilt  YearRemodAdd  \\\n",
              "0   1          60     8450            7            5       2003          2003   \n",
              "1   2          20     9600            6            8       1976          1976   \n",
              "2   3          60    11250            7            5       2001          2002   \n",
              "3   4          70     9550            7            5       1915          1970   \n",
              "4   5          60    14260            8            5       2000          2000   \n",
              "\n",
              "   BsmtFinSF1  BsmtFinSF2  BsmtUnfSF  ...  WoodDeckSF  OpenPorchSF  \\\n",
              "0         706           0        150  ...           0           61   \n",
              "1         978           0        284  ...         298            0   \n",
              "2         486           0        434  ...           0           42   \n",
              "3         216           0        540  ...           0           35   \n",
              "4         655           0        490  ...         192           84   \n",
              "\n",
              "   EnclosedPorch  3SsnPorch  ScreenPorch  PoolArea  MiscVal  MoSold  YrSold  \\\n",
              "0              0          0            0         0        0       2    2008   \n",
              "1              0          0            0         0        0       5    2007   \n",
              "2              0          0            0         0        0       9    2008   \n",
              "3            272          0            0         0        0       2    2006   \n",
              "4              0          0            0         0        0      12    2008   \n",
              "\n",
              "   SalePrice  \n",
              "0     208500  \n",
              "1     181500  \n",
              "2     223500  \n",
              "3     140000  \n",
              "4     250000  \n",
              "\n",
              "[5 rows x 31 columns]"
            ],
            "text/html": [
              "\n",
              "  <div id=\"df-7f83b086-a872-4b65-b40a-5e39424220e1\">\n",
              "    <div class=\"colab-df-container\">\n",
              "      <div>\n",
              "<style scoped>\n",
              "    .dataframe tbody tr th:only-of-type {\n",
              "        vertical-align: middle;\n",
              "    }\n",
              "\n",
              "    .dataframe tbody tr th {\n",
              "        vertical-align: top;\n",
              "    }\n",
              "\n",
              "    .dataframe thead th {\n",
              "        text-align: right;\n",
              "    }\n",
              "</style>\n",
              "<table border=\"1\" class=\"dataframe\">\n",
              "  <thead>\n",
              "    <tr style=\"text-align: right;\">\n",
              "      <th></th>\n",
              "      <th>Id</th>\n",
              "      <th>MSSubClass</th>\n",
              "      <th>LotArea</th>\n",
              "      <th>OverallQual</th>\n",
              "      <th>OverallCond</th>\n",
              "      <th>YearBuilt</th>\n",
              "      <th>YearRemodAdd</th>\n",
              "      <th>BsmtFinSF1</th>\n",
              "      <th>BsmtFinSF2</th>\n",
              "      <th>BsmtUnfSF</th>\n",
              "      <th>...</th>\n",
              "      <th>WoodDeckSF</th>\n",
              "      <th>OpenPorchSF</th>\n",
              "      <th>EnclosedPorch</th>\n",
              "      <th>3SsnPorch</th>\n",
              "      <th>ScreenPorch</th>\n",
              "      <th>PoolArea</th>\n",
              "      <th>MiscVal</th>\n",
              "      <th>MoSold</th>\n",
              "      <th>YrSold</th>\n",
              "      <th>SalePrice</th>\n",
              "    </tr>\n",
              "  </thead>\n",
              "  <tbody>\n",
              "    <tr>\n",
              "      <th>0</th>\n",
              "      <td>1</td>\n",
              "      <td>60</td>\n",
              "      <td>8450</td>\n",
              "      <td>7</td>\n",
              "      <td>5</td>\n",
              "      <td>2003</td>\n",
              "      <td>2003</td>\n",
              "      <td>706</td>\n",
              "      <td>0</td>\n",
              "      <td>150</td>\n",
              "      <td>...</td>\n",
              "      <td>0</td>\n",
              "      <td>61</td>\n",
              "      <td>0</td>\n",
              "      <td>0</td>\n",
              "      <td>0</td>\n",
              "      <td>0</td>\n",
              "      <td>0</td>\n",
              "      <td>2</td>\n",
              "      <td>2008</td>\n",
              "      <td>208500</td>\n",
              "    </tr>\n",
              "    <tr>\n",
              "      <th>1</th>\n",
              "      <td>2</td>\n",
              "      <td>20</td>\n",
              "      <td>9600</td>\n",
              "      <td>6</td>\n",
              "      <td>8</td>\n",
              "      <td>1976</td>\n",
              "      <td>1976</td>\n",
              "      <td>978</td>\n",
              "      <td>0</td>\n",
              "      <td>284</td>\n",
              "      <td>...</td>\n",
              "      <td>298</td>\n",
              "      <td>0</td>\n",
              "      <td>0</td>\n",
              "      <td>0</td>\n",
              "      <td>0</td>\n",
              "      <td>0</td>\n",
              "      <td>0</td>\n",
              "      <td>5</td>\n",
              "      <td>2007</td>\n",
              "      <td>181500</td>\n",
              "    </tr>\n",
              "    <tr>\n",
              "      <th>2</th>\n",
              "      <td>3</td>\n",
              "      <td>60</td>\n",
              "      <td>11250</td>\n",
              "      <td>7</td>\n",
              "      <td>5</td>\n",
              "      <td>2001</td>\n",
              "      <td>2002</td>\n",
              "      <td>486</td>\n",
              "      <td>0</td>\n",
              "      <td>434</td>\n",
              "      <td>...</td>\n",
              "      <td>0</td>\n",
              "      <td>42</td>\n",
              "      <td>0</td>\n",
              "      <td>0</td>\n",
              "      <td>0</td>\n",
              "      <td>0</td>\n",
              "      <td>0</td>\n",
              "      <td>9</td>\n",
              "      <td>2008</td>\n",
              "      <td>223500</td>\n",
              "    </tr>\n",
              "    <tr>\n",
              "      <th>3</th>\n",
              "      <td>4</td>\n",
              "      <td>70</td>\n",
              "      <td>9550</td>\n",
              "      <td>7</td>\n",
              "      <td>5</td>\n",
              "      <td>1915</td>\n",
              "      <td>1970</td>\n",
              "      <td>216</td>\n",
              "      <td>0</td>\n",
              "      <td>540</td>\n",
              "      <td>...</td>\n",
              "      <td>0</td>\n",
              "      <td>35</td>\n",
              "      <td>272</td>\n",
              "      <td>0</td>\n",
              "      <td>0</td>\n",
              "      <td>0</td>\n",
              "      <td>0</td>\n",
              "      <td>2</td>\n",
              "      <td>2006</td>\n",
              "      <td>140000</td>\n",
              "    </tr>\n",
              "    <tr>\n",
              "      <th>4</th>\n",
              "      <td>5</td>\n",
              "      <td>60</td>\n",
              "      <td>14260</td>\n",
              "      <td>8</td>\n",
              "      <td>5</td>\n",
              "      <td>2000</td>\n",
              "      <td>2000</td>\n",
              "      <td>655</td>\n",
              "      <td>0</td>\n",
              "      <td>490</td>\n",
              "      <td>...</td>\n",
              "      <td>192</td>\n",
              "      <td>84</td>\n",
              "      <td>0</td>\n",
              "      <td>0</td>\n",
              "      <td>0</td>\n",
              "      <td>0</td>\n",
              "      <td>0</td>\n",
              "      <td>12</td>\n",
              "      <td>2008</td>\n",
              "      <td>250000</td>\n",
              "    </tr>\n",
              "  </tbody>\n",
              "</table>\n",
              "<p>5 rows × 31 columns</p>\n",
              "</div>\n",
              "      <button class=\"colab-df-convert\" onclick=\"convertToInteractive('df-7f83b086-a872-4b65-b40a-5e39424220e1')\"\n",
              "              title=\"Convert this dataframe to an interactive table.\"\n",
              "              style=\"display:none;\">\n",
              "        \n",
              "  <svg xmlns=\"http://www.w3.org/2000/svg\" height=\"24px\"viewBox=\"0 0 24 24\"\n",
              "       width=\"24px\">\n",
              "    <path d=\"M0 0h24v24H0V0z\" fill=\"none\"/>\n",
              "    <path d=\"M18.56 5.44l.94 2.06.94-2.06 2.06-.94-2.06-.94-.94-2.06-.94 2.06-2.06.94zm-11 1L8.5 8.5l.94-2.06 2.06-.94-2.06-.94L8.5 2.5l-.94 2.06-2.06.94zm10 10l.94 2.06.94-2.06 2.06-.94-2.06-.94-.94-2.06-.94 2.06-2.06.94z\"/><path d=\"M17.41 7.96l-1.37-1.37c-.4-.4-.92-.59-1.43-.59-.52 0-1.04.2-1.43.59L10.3 9.45l-7.72 7.72c-.78.78-.78 2.05 0 2.83L4 21.41c.39.39.9.59 1.41.59.51 0 1.02-.2 1.41-.59l7.78-7.78 2.81-2.81c.8-.78.8-2.07 0-2.86zM5.41 20L4 18.59l7.72-7.72 1.47 1.35L5.41 20z\"/>\n",
              "  </svg>\n",
              "      </button>\n",
              "      \n",
              "  <style>\n",
              "    .colab-df-container {\n",
              "      display:flex;\n",
              "      flex-wrap:wrap;\n",
              "      gap: 12px;\n",
              "    }\n",
              "\n",
              "    .colab-df-convert {\n",
              "      background-color: #E8F0FE;\n",
              "      border: none;\n",
              "      border-radius: 50%;\n",
              "      cursor: pointer;\n",
              "      display: none;\n",
              "      fill: #1967D2;\n",
              "      height: 32px;\n",
              "      padding: 0 0 0 0;\n",
              "      width: 32px;\n",
              "    }\n",
              "\n",
              "    .colab-df-convert:hover {\n",
              "      background-color: #E2EBFA;\n",
              "      box-shadow: 0px 1px 2px rgba(60, 64, 67, 0.3), 0px 1px 3px 1px rgba(60, 64, 67, 0.15);\n",
              "      fill: #174EA6;\n",
              "    }\n",
              "\n",
              "    [theme=dark] .colab-df-convert {\n",
              "      background-color: #3B4455;\n",
              "      fill: #D2E3FC;\n",
              "    }\n",
              "\n",
              "    [theme=dark] .colab-df-convert:hover {\n",
              "      background-color: #434B5C;\n",
              "      box-shadow: 0px 1px 3px 1px rgba(0, 0, 0, 0.15);\n",
              "      filter: drop-shadow(0px 1px 2px rgba(0, 0, 0, 0.3));\n",
              "      fill: #FFFFFF;\n",
              "    }\n",
              "  </style>\n",
              "\n",
              "      <script>\n",
              "        const buttonEl =\n",
              "          document.querySelector('#df-7f83b086-a872-4b65-b40a-5e39424220e1 button.colab-df-convert');\n",
              "        buttonEl.style.display =\n",
              "          google.colab.kernel.accessAllowed ? 'block' : 'none';\n",
              "\n",
              "        async function convertToInteractive(key) {\n",
              "          const element = document.querySelector('#df-7f83b086-a872-4b65-b40a-5e39424220e1');\n",
              "          const dataTable =\n",
              "            await google.colab.kernel.invokeFunction('convertToInteractive',\n",
              "                                                     [key], {});\n",
              "          if (!dataTable) return;\n",
              "\n",
              "          const docLinkHtml = 'Like what you see? Visit the ' +\n",
              "            '<a target=\"_blank\" href=https://colab.research.google.com/notebooks/data_table.ipynb>data table notebook</a>'\n",
              "            + ' to learn more about interactive tables.';\n",
              "          element.innerHTML = '';\n",
              "          dataTable['output_type'] = 'display_data';\n",
              "          await google.colab.output.renderOutput(dataTable, element);\n",
              "          const docLink = document.createElement('div');\n",
              "          docLink.innerHTML = docLinkHtml;\n",
              "          element.appendChild(docLink);\n",
              "        }\n",
              "      </script>\n",
              "    </div>\n",
              "  </div>\n",
              "  "
            ]
          },
          "metadata": {},
          "execution_count": 56
        }
      ]
    },
    {
      "cell_type": "code",
      "source": [
        "train_data_num.info()"
      ],
      "metadata": {
        "colab": {
          "base_uri": "https://localhost:8080/"
        },
        "id": "eDYBnGI18uyu",
        "outputId": "dd7b434a-0bd1-4817-fa2b-3da77c8e051d"
      },
      "execution_count": 57,
      "outputs": [
        {
          "output_type": "stream",
          "name": "stdout",
          "text": [
            "<class 'pandas.core.frame.DataFrame'>\n",
            "RangeIndex: 1460 entries, 0 to 1459\n",
            "Data columns (total 31 columns):\n",
            " #   Column         Non-Null Count  Dtype\n",
            "---  ------         --------------  -----\n",
            " 0   Id             1460 non-null   int64\n",
            " 1   MSSubClass     1460 non-null   int64\n",
            " 2   LotArea        1460 non-null   int64\n",
            " 3   OverallQual    1460 non-null   int64\n",
            " 4   OverallCond    1460 non-null   int64\n",
            " 5   YearBuilt      1460 non-null   int64\n",
            " 6   YearRemodAdd   1460 non-null   int64\n",
            " 7   BsmtFinSF1     1460 non-null   int64\n",
            " 8   BsmtFinSF2     1460 non-null   int64\n",
            " 9   BsmtUnfSF      1460 non-null   int64\n",
            " 10  TotalBsmtSF    1460 non-null   int64\n",
            " 11  2ndFlrSF       1460 non-null   int64\n",
            " 12  LowQualFinSF   1460 non-null   int64\n",
            " 13  GrLivArea      1460 non-null   int64\n",
            " 14  BsmtFullBath   1460 non-null   int64\n",
            " 15  BsmtHalfBath   1460 non-null   int64\n",
            " 16  FullBath       1460 non-null   int64\n",
            " 17  HalfBath       1460 non-null   int64\n",
            " 18  BedroomAbvGr   1460 non-null   int64\n",
            " 19  Fireplaces     1460 non-null   int64\n",
            " 20  GarageCars     1460 non-null   int64\n",
            " 21  WoodDeckSF     1460 non-null   int64\n",
            " 22  OpenPorchSF    1460 non-null   int64\n",
            " 23  EnclosedPorch  1460 non-null   int64\n",
            " 24  3SsnPorch      1460 non-null   int64\n",
            " 25  ScreenPorch    1460 non-null   int64\n",
            " 26  PoolArea       1460 non-null   int64\n",
            " 27  MiscVal        1460 non-null   int64\n",
            " 28  MoSold         1460 non-null   int64\n",
            " 29  YrSold         1460 non-null   int64\n",
            " 30  SalePrice      1460 non-null   int64\n",
            "dtypes: int64(31)\n",
            "memory usage: 353.7 KB\n"
          ]
        }
      ]
    },
    {
      "cell_type": "code",
      "source": [
        "train_nan_cols = train_data_num.columns[train_data_num.isnull().any()].tolist()\n",
        "train_nan = pd.DataFrame({ 'Column': train_nan_cols,\n",
        "                         'NaN_percent': [ train_data_num[col].isnull().sum() * 100 / len(train_data_num) \n",
        "                                         for col in train_nan_cols] })"
      ],
      "metadata": {
        "id": "3S-P_PqW8y8n"
      },
      "execution_count": 58,
      "outputs": []
    },
    {
      "cell_type": "code",
      "source": [
        "test_nan_cols = test_data_num.columns[test_data_num.isnull().any()].tolist()\n",
        "test_nan = pd.DataFrame({ 'Column': test_nan_cols,\n",
        "                         'NaN_percent': [ test_data_num[col].isnull().sum() * 100 / len(test_data_num) \n",
        "                                         for col in test_nan_cols] })"
      ],
      "metadata": {
        "id": "F1DxUWNRIK0y"
      },
      "execution_count": 59,
      "outputs": []
    },
    {
      "cell_type": "code",
      "source": [
        "from sklearn.impute import SimpleImputer\n",
        "imp = SimpleImputer(strategy='median')\n",
        "imp_train_data = pd.DataFrame(imp.fit_transform(train_data_num))\n",
        "imp_train_data.columns = train_data_num.columns\n",
        "\n"
      ],
      "metadata": {
        "id": "7hPXp0byIbv9"
      },
      "execution_count": 60,
      "outputs": []
    },
    {
      "cell_type": "code",
      "source": [
        "categorical_features = [col for col in df.columns if df.dtypes[col] == 'object']\n",
        "\n",
        "# training data\n",
        "train_data_cat = df[categorical_features + ['SalePrice']]\n",
        "\n",
        "# test data\n",
        "test_data_cat = df_test[categorical_features]\n",
        "\n",
        "train_data_cat.shape, test_data_cat.shape"
      ],
      "metadata": {
        "colab": {
          "base_uri": "https://localhost:8080/"
        },
        "id": "-vUUvdJlIt4P",
        "outputId": "9d08fb7c-f709-4810-a962-99a9753862da"
      },
      "execution_count": 61,
      "outputs": [
        {
          "output_type": "execute_result",
          "data": {
            "text/plain": [
              "((1460, 47), (1459, 46))"
            ]
          },
          "metadata": {},
          "execution_count": 61
        }
      ]
    },
    {
      "cell_type": "code",
      "source": [
        "features_to_drop = ['Street', \n",
        "                    'LandContour', \n",
        "                    'Utilities', \n",
        "                    'LandSlope', \n",
        "                    'Condition2', \n",
        "                    'RoofMatl', \n",
        "                    'BsmtCond', \n",
        "                    'BsmtFinType2', \n",
        "                    'Heating', \n",
        "                    'CentralAir', \n",
        "                    'Electrical',\n",
        "                    'Functional',\n",
        "                    'GarageQual',\n",
        "                    'GarageCond',\n",
        "                    'PavedDrive'\n",
        "                   ]\n",
        "\n",
        "train_data_cat.drop(features_to_drop, axis=1, inplace=True)\n",
        "test_data_cat.drop(features_to_drop, axis=1, inplace=True)\n",
        "\n",
        "train_data_cat.shape, test_data_cat.shape"
      ],
      "metadata": {
        "colab": {
          "base_uri": "https://localhost:8080/"
        },
        "id": "_oNNM4dgJYWv",
        "outputId": "03d4964c-f7ee-4354-a429-0e39008d296f"
      },
      "execution_count": 62,
      "outputs": [
        {
          "output_type": "stream",
          "name": "stderr",
          "text": [
            "/usr/local/lib/python3.7/dist-packages/pandas/core/frame.py:4913: SettingWithCopyWarning: \n",
            "A value is trying to be set on a copy of a slice from a DataFrame\n",
            "\n",
            "See the caveats in the documentation: https://pandas.pydata.org/pandas-docs/stable/user_guide/indexing.html#returning-a-view-versus-a-copy\n",
            "  errors=errors,\n"
          ]
        },
        {
          "output_type": "execute_result",
          "data": {
            "text/plain": [
              "((1460, 32), (1459, 31))"
            ]
          },
          "metadata": {},
          "execution_count": 62
        }
      ]
    },
    {
      "cell_type": "code",
      "source": [
        "train_data_cat.drop(['Exterior2nd', 'MasVnrType', 'BsmtExposure'], axis=1, inplace=True)\n",
        "test_data_cat.drop(['Exterior2nd', 'MasVnrType', 'BsmtExposure'], axis=1, inplace=True)\n",
        "\n",
        "train_data_cat.shape, test_data_cat.shape"
      ],
      "metadata": {
        "colab": {
          "base_uri": "https://localhost:8080/"
        },
        "id": "syy6WMT-KAlR",
        "outputId": "51713dd0-60b0-4fc2-89a4-d8ade4f6ad70"
      },
      "execution_count": 63,
      "outputs": [
        {
          "output_type": "stream",
          "name": "stderr",
          "text": [
            "/usr/local/lib/python3.7/dist-packages/pandas/core/frame.py:4913: SettingWithCopyWarning: \n",
            "A value is trying to be set on a copy of a slice from a DataFrame\n",
            "\n",
            "See the caveats in the documentation: https://pandas.pydata.org/pandas-docs/stable/user_guide/indexing.html#returning-a-view-versus-a-copy\n",
            "  errors=errors,\n"
          ]
        },
        {
          "output_type": "execute_result",
          "data": {
            "text/plain": [
              "((1460, 29), (1459, 28))"
            ]
          },
          "metadata": {},
          "execution_count": 63
        }
      ]
    },
    {
      "cell_type": "code",
      "source": [
        "train_data_cat.drop(['PoolQC', 'MiscFeature', 'Alley', 'Fence', 'FireplaceQu'], axis=1, inplace=True)\n",
        "test_data_cat.drop(['PoolQC', 'MiscFeature', 'Alley', 'Fence', 'FireplaceQu'], axis=1, inplace=True)"
      ],
      "metadata": {
        "colab": {
          "base_uri": "https://localhost:8080/"
        },
        "id": "BUbCCm3vKIR-",
        "outputId": "8e0a9052-9b6c-454a-9728-8e719c9b152f"
      },
      "execution_count": 64,
      "outputs": [
        {
          "output_type": "stream",
          "name": "stderr",
          "text": [
            "/usr/local/lib/python3.7/dist-packages/pandas/core/frame.py:4913: SettingWithCopyWarning: \n",
            "A value is trying to be set on a copy of a slice from a DataFrame\n",
            "\n",
            "See the caveats in the documentation: https://pandas.pydata.org/pandas-docs/stable/user_guide/indexing.html#returning-a-view-versus-a-copy\n",
            "  errors=errors,\n"
          ]
        }
      ]
    },
    {
      "cell_type": "code",
      "source": [
        "for col in ['GarageType', 'GarageFinish', 'BsmtQual', 'BsmtFinType1']:\n",
        "    train_data_cat[col].fillna(train_data_cat[col].mode()[0], inplace=True)\n",
        "    test_data_cat[col].fillna(test_data_cat[col].mode()[0], inplace=True)"
      ],
      "metadata": {
        "colab": {
          "base_uri": "https://localhost:8080/"
        },
        "id": "8RIldFVpKMsL",
        "outputId": "e4f3ef24-3bed-410c-a209-06a4248d2fcb"
      },
      "execution_count": 65,
      "outputs": [
        {
          "output_type": "stream",
          "name": "stderr",
          "text": [
            "/usr/local/lib/python3.7/dist-packages/pandas/core/generic.py:6392: SettingWithCopyWarning: \n",
            "A value is trying to be set on a copy of a slice from a DataFrame\n",
            "\n",
            "See the caveats in the documentation: https://pandas.pydata.org/pandas-docs/stable/user_guide/indexing.html#returning-a-view-versus-a-copy\n",
            "  return self._update_inplace(result)\n"
          ]
        }
      ]
    },
    {
      "cell_type": "code",
      "source": [
        "train_data_cat.isnull().sum()"
      ],
      "metadata": {
        "colab": {
          "base_uri": "https://localhost:8080/"
        },
        "id": "yPV79NoSKR8a",
        "outputId": "9cc82408-456c-4658-ea95-e84218ca819c"
      },
      "execution_count": 66,
      "outputs": [
        {
          "output_type": "execute_result",
          "data": {
            "text/plain": [
              "MSZoning         0\n",
              "LotFrontage      0\n",
              "LotShape         0\n",
              "LotConfig        0\n",
              "Neighborhood     0\n",
              "Condition1       0\n",
              "BldgType         0\n",
              "HouseStyle       0\n",
              "RoofStyle        0\n",
              "Exterior1st      0\n",
              "MasVnrArea       0\n",
              "ExterQual        0\n",
              "ExterCond        0\n",
              "Foundation       0\n",
              "BsmtQual         0\n",
              "BsmtFinType1     0\n",
              "HeatingQC        0\n",
              "KitchenQual      0\n",
              "GarageType       0\n",
              "GarageYrBlt      0\n",
              "GarageFinish     0\n",
              "SaleType         0\n",
              "SaleCondition    0\n",
              "SalePrice        0\n",
              "dtype: int64"
            ]
          },
          "metadata": {},
          "execution_count": 66
        }
      ]
    },
    {
      "cell_type": "code",
      "source": [
        "test_data_cat.isnull().sum()"
      ],
      "metadata": {
        "colab": {
          "base_uri": "https://localhost:8080/"
        },
        "id": "K9dkKEG6KVC6",
        "outputId": "e9c962d0-2d65-4bbd-c67a-bb4694eca23b"
      },
      "execution_count": 67,
      "outputs": [
        {
          "output_type": "execute_result",
          "data": {
            "text/plain": [
              "MSZoning           4\n",
              "LotFrontage      227\n",
              "LotShape           0\n",
              "LotConfig          0\n",
              "Neighborhood       0\n",
              "Condition1         0\n",
              "BldgType           0\n",
              "HouseStyle         0\n",
              "RoofStyle          0\n",
              "Exterior1st        1\n",
              "MasVnrArea        15\n",
              "ExterQual          0\n",
              "ExterCond          0\n",
              "Foundation         0\n",
              "BsmtQual           0\n",
              "BsmtFinType1       0\n",
              "HeatingQC          0\n",
              "KitchenQual        1\n",
              "GarageType         0\n",
              "GarageYrBlt       78\n",
              "GarageFinish       0\n",
              "SaleType           1\n",
              "SaleCondition      0\n",
              "dtype: int64"
            ]
          },
          "metadata": {},
          "execution_count": 67
        }
      ]
    },
    {
      "cell_type": "code",
      "source": [
        "cols_null_test = test_data_cat.columns[test_data_cat.isnull().any()]\n",
        "\n",
        "for col in cols_null_test:\n",
        "    test_data_cat[col].fillna(test_data_cat[col].mode()[0], inplace=True)\n",
        "\n",
        "test_data_cat.isnull().sum()"
      ],
      "metadata": {
        "colab": {
          "base_uri": "https://localhost:8080/"
        },
        "id": "4_ccVRvHKZjm",
        "outputId": "170bca46-f0c1-4c0f-d87a-cb597fc9d300"
      },
      "execution_count": 68,
      "outputs": [
        {
          "output_type": "stream",
          "name": "stderr",
          "text": [
            "/usr/local/lib/python3.7/dist-packages/pandas/core/generic.py:6392: SettingWithCopyWarning: \n",
            "A value is trying to be set on a copy of a slice from a DataFrame\n",
            "\n",
            "See the caveats in the documentation: https://pandas.pydata.org/pandas-docs/stable/user_guide/indexing.html#returning-a-view-versus-a-copy\n",
            "  return self._update_inplace(result)\n"
          ]
        },
        {
          "output_type": "execute_result",
          "data": {
            "text/plain": [
              "MSZoning         0\n",
              "LotFrontage      0\n",
              "LotShape         0\n",
              "LotConfig        0\n",
              "Neighborhood     0\n",
              "Condition1       0\n",
              "BldgType         0\n",
              "HouseStyle       0\n",
              "RoofStyle        0\n",
              "Exterior1st      0\n",
              "MasVnrArea       0\n",
              "ExterQual        0\n",
              "ExterCond        0\n",
              "Foundation       0\n",
              "BsmtQual         0\n",
              "BsmtFinType1     0\n",
              "HeatingQC        0\n",
              "KitchenQual      0\n",
              "GarageType       0\n",
              "GarageYrBlt      0\n",
              "GarageFinish     0\n",
              "SaleType         0\n",
              "SaleCondition    0\n",
              "dtype: int64"
            ]
          },
          "metadata": {},
          "execution_count": 68
        }
      ]
    },
    {
      "cell_type": "code",
      "source": [
        "train_data_cat.shape, test_data_cat.shape"
      ],
      "metadata": {
        "colab": {
          "base_uri": "https://localhost:8080/"
        },
        "id": "fkfMQqzZKd-R",
        "outputId": "4176d7c6-9b70-4abf-e0ab-23b4331fcab1"
      },
      "execution_count": 69,
      "outputs": [
        {
          "output_type": "execute_result",
          "data": {
            "text/plain": [
              "((1460, 24), (1459, 23))"
            ]
          },
          "metadata": {},
          "execution_count": 69
        }
      ]
    },
    {
      "cell_type": "code",
      "source": [
        "train_data_cat.drop(['SalePrice'], axis=1, inplace=True)\n",
        "\n",
        "train_cat_dummies = pd.get_dummies(train_data_cat)\n",
        "train_cat_dummies.head()"
      ],
      "metadata": {
        "colab": {
          "base_uri": "https://localhost:8080/",
          "height": 404
        },
        "id": "XddtBZBRKiax",
        "outputId": "7291c2d3-8c9d-41b4-c359-da110c0388c7"
      },
      "execution_count": 70,
      "outputs": [
        {
          "output_type": "stream",
          "name": "stderr",
          "text": [
            "/usr/local/lib/python3.7/dist-packages/pandas/core/frame.py:4913: SettingWithCopyWarning: \n",
            "A value is trying to be set on a copy of a slice from a DataFrame\n",
            "\n",
            "See the caveats in the documentation: https://pandas.pydata.org/pandas-docs/stable/user_guide/indexing.html#returning-a-view-versus-a-copy\n",
            "  errors=errors,\n"
          ]
        },
        {
          "output_type": "execute_result",
          "data": {
            "text/plain": [
              "   MSZoning_C (all)  MSZoning_FV  MSZoning_RH  MSZoning_RL  MSZoning_RM  \\\n",
              "0                 0            0            0            1            0   \n",
              "1                 0            0            0            1            0   \n",
              "2                 0            0            0            1            0   \n",
              "3                 0            0            0            1            0   \n",
              "4                 0            0            0            1            0   \n",
              "\n",
              "   LotFrontage_100  LotFrontage_101  LotFrontage_102  LotFrontage_103  \\\n",
              "0                0                0                0                0   \n",
              "1                0                0                0                0   \n",
              "2                0                0                0                0   \n",
              "3                0                0                0                0   \n",
              "4                0                0                0                0   \n",
              "\n",
              "   LotFrontage_104  ...  SaleType_ConLw  SaleType_New  SaleType_Oth  \\\n",
              "0                0  ...               0             0             0   \n",
              "1                0  ...               0             0             0   \n",
              "2                0  ...               0             0             0   \n",
              "3                0  ...               0             0             0   \n",
              "4                0  ...               0             0             0   \n",
              "\n",
              "   SaleType_WD  SaleCondition_Abnorml  SaleCondition_AdjLand  \\\n",
              "0            1                      0                      0   \n",
              "1            1                      0                      0   \n",
              "2            1                      0                      0   \n",
              "3            1                      1                      0   \n",
              "4            1                      0                      0   \n",
              "\n",
              "   SaleCondition_Alloca  SaleCondition_Family  SaleCondition_Normal  \\\n",
              "0                     0                     0                     1   \n",
              "1                     0                     0                     1   \n",
              "2                     0                     0                     1   \n",
              "3                     0                     0                     0   \n",
              "4                     0                     0                     1   \n",
              "\n",
              "   SaleCondition_Partial  \n",
              "0                      0  \n",
              "1                      0  \n",
              "2                      0  \n",
              "3                      0  \n",
              "4                      0  \n",
              "\n",
              "[5 rows x 681 columns]"
            ],
            "text/html": [
              "\n",
              "  <div id=\"df-6f63214a-7cf3-4981-b079-3ac313580e0f\">\n",
              "    <div class=\"colab-df-container\">\n",
              "      <div>\n",
              "<style scoped>\n",
              "    .dataframe tbody tr th:only-of-type {\n",
              "        vertical-align: middle;\n",
              "    }\n",
              "\n",
              "    .dataframe tbody tr th {\n",
              "        vertical-align: top;\n",
              "    }\n",
              "\n",
              "    .dataframe thead th {\n",
              "        text-align: right;\n",
              "    }\n",
              "</style>\n",
              "<table border=\"1\" class=\"dataframe\">\n",
              "  <thead>\n",
              "    <tr style=\"text-align: right;\">\n",
              "      <th></th>\n",
              "      <th>MSZoning_C (all)</th>\n",
              "      <th>MSZoning_FV</th>\n",
              "      <th>MSZoning_RH</th>\n",
              "      <th>MSZoning_RL</th>\n",
              "      <th>MSZoning_RM</th>\n",
              "      <th>LotFrontage_100</th>\n",
              "      <th>LotFrontage_101</th>\n",
              "      <th>LotFrontage_102</th>\n",
              "      <th>LotFrontage_103</th>\n",
              "      <th>LotFrontage_104</th>\n",
              "      <th>...</th>\n",
              "      <th>SaleType_ConLw</th>\n",
              "      <th>SaleType_New</th>\n",
              "      <th>SaleType_Oth</th>\n",
              "      <th>SaleType_WD</th>\n",
              "      <th>SaleCondition_Abnorml</th>\n",
              "      <th>SaleCondition_AdjLand</th>\n",
              "      <th>SaleCondition_Alloca</th>\n",
              "      <th>SaleCondition_Family</th>\n",
              "      <th>SaleCondition_Normal</th>\n",
              "      <th>SaleCondition_Partial</th>\n",
              "    </tr>\n",
              "  </thead>\n",
              "  <tbody>\n",
              "    <tr>\n",
              "      <th>0</th>\n",
              "      <td>0</td>\n",
              "      <td>0</td>\n",
              "      <td>0</td>\n",
              "      <td>1</td>\n",
              "      <td>0</td>\n",
              "      <td>0</td>\n",
              "      <td>0</td>\n",
              "      <td>0</td>\n",
              "      <td>0</td>\n",
              "      <td>0</td>\n",
              "      <td>...</td>\n",
              "      <td>0</td>\n",
              "      <td>0</td>\n",
              "      <td>0</td>\n",
              "      <td>1</td>\n",
              "      <td>0</td>\n",
              "      <td>0</td>\n",
              "      <td>0</td>\n",
              "      <td>0</td>\n",
              "      <td>1</td>\n",
              "      <td>0</td>\n",
              "    </tr>\n",
              "    <tr>\n",
              "      <th>1</th>\n",
              "      <td>0</td>\n",
              "      <td>0</td>\n",
              "      <td>0</td>\n",
              "      <td>1</td>\n",
              "      <td>0</td>\n",
              "      <td>0</td>\n",
              "      <td>0</td>\n",
              "      <td>0</td>\n",
              "      <td>0</td>\n",
              "      <td>0</td>\n",
              "      <td>...</td>\n",
              "      <td>0</td>\n",
              "      <td>0</td>\n",
              "      <td>0</td>\n",
              "      <td>1</td>\n",
              "      <td>0</td>\n",
              "      <td>0</td>\n",
              "      <td>0</td>\n",
              "      <td>0</td>\n",
              "      <td>1</td>\n",
              "      <td>0</td>\n",
              "    </tr>\n",
              "    <tr>\n",
              "      <th>2</th>\n",
              "      <td>0</td>\n",
              "      <td>0</td>\n",
              "      <td>0</td>\n",
              "      <td>1</td>\n",
              "      <td>0</td>\n",
              "      <td>0</td>\n",
              "      <td>0</td>\n",
              "      <td>0</td>\n",
              "      <td>0</td>\n",
              "      <td>0</td>\n",
              "      <td>...</td>\n",
              "      <td>0</td>\n",
              "      <td>0</td>\n",
              "      <td>0</td>\n",
              "      <td>1</td>\n",
              "      <td>0</td>\n",
              "      <td>0</td>\n",
              "      <td>0</td>\n",
              "      <td>0</td>\n",
              "      <td>1</td>\n",
              "      <td>0</td>\n",
              "    </tr>\n",
              "    <tr>\n",
              "      <th>3</th>\n",
              "      <td>0</td>\n",
              "      <td>0</td>\n",
              "      <td>0</td>\n",
              "      <td>1</td>\n",
              "      <td>0</td>\n",
              "      <td>0</td>\n",
              "      <td>0</td>\n",
              "      <td>0</td>\n",
              "      <td>0</td>\n",
              "      <td>0</td>\n",
              "      <td>...</td>\n",
              "      <td>0</td>\n",
              "      <td>0</td>\n",
              "      <td>0</td>\n",
              "      <td>1</td>\n",
              "      <td>1</td>\n",
              "      <td>0</td>\n",
              "      <td>0</td>\n",
              "      <td>0</td>\n",
              "      <td>0</td>\n",
              "      <td>0</td>\n",
              "    </tr>\n",
              "    <tr>\n",
              "      <th>4</th>\n",
              "      <td>0</td>\n",
              "      <td>0</td>\n",
              "      <td>0</td>\n",
              "      <td>1</td>\n",
              "      <td>0</td>\n",
              "      <td>0</td>\n",
              "      <td>0</td>\n",
              "      <td>0</td>\n",
              "      <td>0</td>\n",
              "      <td>0</td>\n",
              "      <td>...</td>\n",
              "      <td>0</td>\n",
              "      <td>0</td>\n",
              "      <td>0</td>\n",
              "      <td>1</td>\n",
              "      <td>0</td>\n",
              "      <td>0</td>\n",
              "      <td>0</td>\n",
              "      <td>0</td>\n",
              "      <td>1</td>\n",
              "      <td>0</td>\n",
              "    </tr>\n",
              "  </tbody>\n",
              "</table>\n",
              "<p>5 rows × 681 columns</p>\n",
              "</div>\n",
              "      <button class=\"colab-df-convert\" onclick=\"convertToInteractive('df-6f63214a-7cf3-4981-b079-3ac313580e0f')\"\n",
              "              title=\"Convert this dataframe to an interactive table.\"\n",
              "              style=\"display:none;\">\n",
              "        \n",
              "  <svg xmlns=\"http://www.w3.org/2000/svg\" height=\"24px\"viewBox=\"0 0 24 24\"\n",
              "       width=\"24px\">\n",
              "    <path d=\"M0 0h24v24H0V0z\" fill=\"none\"/>\n",
              "    <path d=\"M18.56 5.44l.94 2.06.94-2.06 2.06-.94-2.06-.94-.94-2.06-.94 2.06-2.06.94zm-11 1L8.5 8.5l.94-2.06 2.06-.94-2.06-.94L8.5 2.5l-.94 2.06-2.06.94zm10 10l.94 2.06.94-2.06 2.06-.94-2.06-.94-.94-2.06-.94 2.06-2.06.94z\"/><path d=\"M17.41 7.96l-1.37-1.37c-.4-.4-.92-.59-1.43-.59-.52 0-1.04.2-1.43.59L10.3 9.45l-7.72 7.72c-.78.78-.78 2.05 0 2.83L4 21.41c.39.39.9.59 1.41.59.51 0 1.02-.2 1.41-.59l7.78-7.78 2.81-2.81c.8-.78.8-2.07 0-2.86zM5.41 20L4 18.59l7.72-7.72 1.47 1.35L5.41 20z\"/>\n",
              "  </svg>\n",
              "      </button>\n",
              "      \n",
              "  <style>\n",
              "    .colab-df-container {\n",
              "      display:flex;\n",
              "      flex-wrap:wrap;\n",
              "      gap: 12px;\n",
              "    }\n",
              "\n",
              "    .colab-df-convert {\n",
              "      background-color: #E8F0FE;\n",
              "      border: none;\n",
              "      border-radius: 50%;\n",
              "      cursor: pointer;\n",
              "      display: none;\n",
              "      fill: #1967D2;\n",
              "      height: 32px;\n",
              "      padding: 0 0 0 0;\n",
              "      width: 32px;\n",
              "    }\n",
              "\n",
              "    .colab-df-convert:hover {\n",
              "      background-color: #E2EBFA;\n",
              "      box-shadow: 0px 1px 2px rgba(60, 64, 67, 0.3), 0px 1px 3px 1px rgba(60, 64, 67, 0.15);\n",
              "      fill: #174EA6;\n",
              "    }\n",
              "\n",
              "    [theme=dark] .colab-df-convert {\n",
              "      background-color: #3B4455;\n",
              "      fill: #D2E3FC;\n",
              "    }\n",
              "\n",
              "    [theme=dark] .colab-df-convert:hover {\n",
              "      background-color: #434B5C;\n",
              "      box-shadow: 0px 1px 3px 1px rgba(0, 0, 0, 0.15);\n",
              "      filter: drop-shadow(0px 1px 2px rgba(0, 0, 0, 0.3));\n",
              "      fill: #FFFFFF;\n",
              "    }\n",
              "  </style>\n",
              "\n",
              "      <script>\n",
              "        const buttonEl =\n",
              "          document.querySelector('#df-6f63214a-7cf3-4981-b079-3ac313580e0f button.colab-df-convert');\n",
              "        buttonEl.style.display =\n",
              "          google.colab.kernel.accessAllowed ? 'block' : 'none';\n",
              "\n",
              "        async function convertToInteractive(key) {\n",
              "          const element = document.querySelector('#df-6f63214a-7cf3-4981-b079-3ac313580e0f');\n",
              "          const dataTable =\n",
              "            await google.colab.kernel.invokeFunction('convertToInteractive',\n",
              "                                                     [key], {});\n",
              "          if (!dataTable) return;\n",
              "\n",
              "          const docLinkHtml = 'Like what you see? Visit the ' +\n",
              "            '<a target=\"_blank\" href=https://colab.research.google.com/notebooks/data_table.ipynb>data table notebook</a>'\n",
              "            + ' to learn more about interactive tables.';\n",
              "          element.innerHTML = '';\n",
              "          dataTable['output_type'] = 'display_data';\n",
              "          await google.colab.output.renderOutput(dataTable, element);\n",
              "          const docLink = document.createElement('div');\n",
              "          docLink.innerHTML = docLinkHtml;\n",
              "          element.appendChild(docLink);\n",
              "        }\n",
              "      </script>\n",
              "    </div>\n",
              "  </div>\n",
              "  "
            ]
          },
          "metadata": {},
          "execution_count": 70
        }
      ]
    },
    {
      "cell_type": "code",
      "source": [
        "test_cat_dummies = pd.get_dummies(test_data_cat)\n",
        "test_cat_dummies.head()\n"
      ],
      "metadata": {
        "colab": {
          "base_uri": "https://localhost:8080/",
          "height": 317
        },
        "id": "MipLv_T7Kl2g",
        "outputId": "4f43ea83-2135-4631-a056-0be6c2852c79"
      },
      "execution_count": 71,
      "outputs": [
        {
          "output_type": "execute_result",
          "data": {
            "text/plain": [
              "   LotFrontage  MasVnrArea  GarageYrBlt  MSZoning_C (all)  MSZoning_FV  \\\n",
              "0         80.0         0.0       1961.0                 0            0   \n",
              "1         81.0       108.0       1958.0                 0            0   \n",
              "2         74.0         0.0       1997.0                 0            0   \n",
              "3         78.0        20.0       1998.0                 0            0   \n",
              "4         43.0         0.0       1992.0                 0            0   \n",
              "\n",
              "   MSZoning_RH  MSZoning_RL  MSZoning_RM  LotShape_IR1  LotShape_IR2  ...  \\\n",
              "0            1            0            0             0             0  ...   \n",
              "1            0            1            0             1             0  ...   \n",
              "2            0            1            0             1             0  ...   \n",
              "3            0            1            0             1             0  ...   \n",
              "4            0            1            0             1             0  ...   \n",
              "\n",
              "   SaleType_ConLw  SaleType_New  SaleType_Oth  SaleType_WD  \\\n",
              "0               0             0             0            1   \n",
              "1               0             0             0            1   \n",
              "2               0             0             0            1   \n",
              "3               0             0             0            1   \n",
              "4               0             0             0            1   \n",
              "\n",
              "   SaleCondition_Abnorml  SaleCondition_AdjLand  SaleCondition_Alloca  \\\n",
              "0                      0                      0                     0   \n",
              "1                      0                      0                     0   \n",
              "2                      0                      0                     0   \n",
              "3                      0                      0                     0   \n",
              "4                      0                      0                     0   \n",
              "\n",
              "   SaleCondition_Family  SaleCondition_Normal  SaleCondition_Partial  \n",
              "0                     0                     1                      0  \n",
              "1                     0                     1                      0  \n",
              "2                     0                     1                      0  \n",
              "3                     0                     1                      0  \n",
              "4                     0                     1                      0  \n",
              "\n",
              "[5 rows x 140 columns]"
            ],
            "text/html": [
              "\n",
              "  <div id=\"df-14a410c6-4d8e-4ff2-93c3-ca23cea25260\">\n",
              "    <div class=\"colab-df-container\">\n",
              "      <div>\n",
              "<style scoped>\n",
              "    .dataframe tbody tr th:only-of-type {\n",
              "        vertical-align: middle;\n",
              "    }\n",
              "\n",
              "    .dataframe tbody tr th {\n",
              "        vertical-align: top;\n",
              "    }\n",
              "\n",
              "    .dataframe thead th {\n",
              "        text-align: right;\n",
              "    }\n",
              "</style>\n",
              "<table border=\"1\" class=\"dataframe\">\n",
              "  <thead>\n",
              "    <tr style=\"text-align: right;\">\n",
              "      <th></th>\n",
              "      <th>LotFrontage</th>\n",
              "      <th>MasVnrArea</th>\n",
              "      <th>GarageYrBlt</th>\n",
              "      <th>MSZoning_C (all)</th>\n",
              "      <th>MSZoning_FV</th>\n",
              "      <th>MSZoning_RH</th>\n",
              "      <th>MSZoning_RL</th>\n",
              "      <th>MSZoning_RM</th>\n",
              "      <th>LotShape_IR1</th>\n",
              "      <th>LotShape_IR2</th>\n",
              "      <th>...</th>\n",
              "      <th>SaleType_ConLw</th>\n",
              "      <th>SaleType_New</th>\n",
              "      <th>SaleType_Oth</th>\n",
              "      <th>SaleType_WD</th>\n",
              "      <th>SaleCondition_Abnorml</th>\n",
              "      <th>SaleCondition_AdjLand</th>\n",
              "      <th>SaleCondition_Alloca</th>\n",
              "      <th>SaleCondition_Family</th>\n",
              "      <th>SaleCondition_Normal</th>\n",
              "      <th>SaleCondition_Partial</th>\n",
              "    </tr>\n",
              "  </thead>\n",
              "  <tbody>\n",
              "    <tr>\n",
              "      <th>0</th>\n",
              "      <td>80.0</td>\n",
              "      <td>0.0</td>\n",
              "      <td>1961.0</td>\n",
              "      <td>0</td>\n",
              "      <td>0</td>\n",
              "      <td>1</td>\n",
              "      <td>0</td>\n",
              "      <td>0</td>\n",
              "      <td>0</td>\n",
              "      <td>0</td>\n",
              "      <td>...</td>\n",
              "      <td>0</td>\n",
              "      <td>0</td>\n",
              "      <td>0</td>\n",
              "      <td>1</td>\n",
              "      <td>0</td>\n",
              "      <td>0</td>\n",
              "      <td>0</td>\n",
              "      <td>0</td>\n",
              "      <td>1</td>\n",
              "      <td>0</td>\n",
              "    </tr>\n",
              "    <tr>\n",
              "      <th>1</th>\n",
              "      <td>81.0</td>\n",
              "      <td>108.0</td>\n",
              "      <td>1958.0</td>\n",
              "      <td>0</td>\n",
              "      <td>0</td>\n",
              "      <td>0</td>\n",
              "      <td>1</td>\n",
              "      <td>0</td>\n",
              "      <td>1</td>\n",
              "      <td>0</td>\n",
              "      <td>...</td>\n",
              "      <td>0</td>\n",
              "      <td>0</td>\n",
              "      <td>0</td>\n",
              "      <td>1</td>\n",
              "      <td>0</td>\n",
              "      <td>0</td>\n",
              "      <td>0</td>\n",
              "      <td>0</td>\n",
              "      <td>1</td>\n",
              "      <td>0</td>\n",
              "    </tr>\n",
              "    <tr>\n",
              "      <th>2</th>\n",
              "      <td>74.0</td>\n",
              "      <td>0.0</td>\n",
              "      <td>1997.0</td>\n",
              "      <td>0</td>\n",
              "      <td>0</td>\n",
              "      <td>0</td>\n",
              "      <td>1</td>\n",
              "      <td>0</td>\n",
              "      <td>1</td>\n",
              "      <td>0</td>\n",
              "      <td>...</td>\n",
              "      <td>0</td>\n",
              "      <td>0</td>\n",
              "      <td>0</td>\n",
              "      <td>1</td>\n",
              "      <td>0</td>\n",
              "      <td>0</td>\n",
              "      <td>0</td>\n",
              "      <td>0</td>\n",
              "      <td>1</td>\n",
              "      <td>0</td>\n",
              "    </tr>\n",
              "    <tr>\n",
              "      <th>3</th>\n",
              "      <td>78.0</td>\n",
              "      <td>20.0</td>\n",
              "      <td>1998.0</td>\n",
              "      <td>0</td>\n",
              "      <td>0</td>\n",
              "      <td>0</td>\n",
              "      <td>1</td>\n",
              "      <td>0</td>\n",
              "      <td>1</td>\n",
              "      <td>0</td>\n",
              "      <td>...</td>\n",
              "      <td>0</td>\n",
              "      <td>0</td>\n",
              "      <td>0</td>\n",
              "      <td>1</td>\n",
              "      <td>0</td>\n",
              "      <td>0</td>\n",
              "      <td>0</td>\n",
              "      <td>0</td>\n",
              "      <td>1</td>\n",
              "      <td>0</td>\n",
              "    </tr>\n",
              "    <tr>\n",
              "      <th>4</th>\n",
              "      <td>43.0</td>\n",
              "      <td>0.0</td>\n",
              "      <td>1992.0</td>\n",
              "      <td>0</td>\n",
              "      <td>0</td>\n",
              "      <td>0</td>\n",
              "      <td>1</td>\n",
              "      <td>0</td>\n",
              "      <td>1</td>\n",
              "      <td>0</td>\n",
              "      <td>...</td>\n",
              "      <td>0</td>\n",
              "      <td>0</td>\n",
              "      <td>0</td>\n",
              "      <td>1</td>\n",
              "      <td>0</td>\n",
              "      <td>0</td>\n",
              "      <td>0</td>\n",
              "      <td>0</td>\n",
              "      <td>1</td>\n",
              "      <td>0</td>\n",
              "    </tr>\n",
              "  </tbody>\n",
              "</table>\n",
              "<p>5 rows × 140 columns</p>\n",
              "</div>\n",
              "      <button class=\"colab-df-convert\" onclick=\"convertToInteractive('df-14a410c6-4d8e-4ff2-93c3-ca23cea25260')\"\n",
              "              title=\"Convert this dataframe to an interactive table.\"\n",
              "              style=\"display:none;\">\n",
              "        \n",
              "  <svg xmlns=\"http://www.w3.org/2000/svg\" height=\"24px\"viewBox=\"0 0 24 24\"\n",
              "       width=\"24px\">\n",
              "    <path d=\"M0 0h24v24H0V0z\" fill=\"none\"/>\n",
              "    <path d=\"M18.56 5.44l.94 2.06.94-2.06 2.06-.94-2.06-.94-.94-2.06-.94 2.06-2.06.94zm-11 1L8.5 8.5l.94-2.06 2.06-.94-2.06-.94L8.5 2.5l-.94 2.06-2.06.94zm10 10l.94 2.06.94-2.06 2.06-.94-2.06-.94-.94-2.06-.94 2.06-2.06.94z\"/><path d=\"M17.41 7.96l-1.37-1.37c-.4-.4-.92-.59-1.43-.59-.52 0-1.04.2-1.43.59L10.3 9.45l-7.72 7.72c-.78.78-.78 2.05 0 2.83L4 21.41c.39.39.9.59 1.41.59.51 0 1.02-.2 1.41-.59l7.78-7.78 2.81-2.81c.8-.78.8-2.07 0-2.86zM5.41 20L4 18.59l7.72-7.72 1.47 1.35L5.41 20z\"/>\n",
              "  </svg>\n",
              "      </button>\n",
              "      \n",
              "  <style>\n",
              "    .colab-df-container {\n",
              "      display:flex;\n",
              "      flex-wrap:wrap;\n",
              "      gap: 12px;\n",
              "    }\n",
              "\n",
              "    .colab-df-convert {\n",
              "      background-color: #E8F0FE;\n",
              "      border: none;\n",
              "      border-radius: 50%;\n",
              "      cursor: pointer;\n",
              "      display: none;\n",
              "      fill: #1967D2;\n",
              "      height: 32px;\n",
              "      padding: 0 0 0 0;\n",
              "      width: 32px;\n",
              "    }\n",
              "\n",
              "    .colab-df-convert:hover {\n",
              "      background-color: #E2EBFA;\n",
              "      box-shadow: 0px 1px 2px rgba(60, 64, 67, 0.3), 0px 1px 3px 1px rgba(60, 64, 67, 0.15);\n",
              "      fill: #174EA6;\n",
              "    }\n",
              "\n",
              "    [theme=dark] .colab-df-convert {\n",
              "      background-color: #3B4455;\n",
              "      fill: #D2E3FC;\n",
              "    }\n",
              "\n",
              "    [theme=dark] .colab-df-convert:hover {\n",
              "      background-color: #434B5C;\n",
              "      box-shadow: 0px 1px 3px 1px rgba(0, 0, 0, 0.15);\n",
              "      filter: drop-shadow(0px 1px 2px rgba(0, 0, 0, 0.3));\n",
              "      fill: #FFFFFF;\n",
              "    }\n",
              "  </style>\n",
              "\n",
              "      <script>\n",
              "        const buttonEl =\n",
              "          document.querySelector('#df-14a410c6-4d8e-4ff2-93c3-ca23cea25260 button.colab-df-convert');\n",
              "        buttonEl.style.display =\n",
              "          google.colab.kernel.accessAllowed ? 'block' : 'none';\n",
              "\n",
              "        async function convertToInteractive(key) {\n",
              "          const element = document.querySelector('#df-14a410c6-4d8e-4ff2-93c3-ca23cea25260');\n",
              "          const dataTable =\n",
              "            await google.colab.kernel.invokeFunction('convertToInteractive',\n",
              "                                                     [key], {});\n",
              "          if (!dataTable) return;\n",
              "\n",
              "          const docLinkHtml = 'Like what you see? Visit the ' +\n",
              "            '<a target=\"_blank\" href=https://colab.research.google.com/notebooks/data_table.ipynb>data table notebook</a>'\n",
              "            + ' to learn more about interactive tables.';\n",
              "          element.innerHTML = '';\n",
              "          dataTable['output_type'] = 'display_data';\n",
              "          await google.colab.output.renderOutput(dataTable, element);\n",
              "          const docLink = document.createElement('div');\n",
              "          docLink.innerHTML = docLinkHtml;\n",
              "          element.appendChild(docLink);\n",
              "        }\n",
              "      </script>\n",
              "    </div>\n",
              "  </div>\n",
              "  "
            ]
          },
          "metadata": {},
          "execution_count": 71
        }
      ]
    },
    {
      "cell_type": "code",
      "source": [
        "dif = [col for col in train_cat_dummies.columns if col not in test_cat_dummies.columns]\n",
        "print('Found differences in: ', dif)"
      ],
      "metadata": {
        "colab": {
          "base_uri": "https://localhost:8080/"
        },
        "id": "SAtL9Py7KstU",
        "outputId": "66bec58c-3150-4a6b-dad9-10849c1abc70"
      },
      "execution_count": 72,
      "outputs": [
        {
          "output_type": "stream",
          "name": "stdout",
          "text": [
            "Found differences in:  ['LotFrontage_100', 'LotFrontage_101', 'LotFrontage_102', 'LotFrontage_103', 'LotFrontage_104', 'LotFrontage_105', 'LotFrontage_106', 'LotFrontage_107', 'LotFrontage_108', 'LotFrontage_109', 'LotFrontage_110', 'LotFrontage_111', 'LotFrontage_112', 'LotFrontage_114', 'LotFrontage_115', 'LotFrontage_116', 'LotFrontage_118', 'LotFrontage_120', 'LotFrontage_121', 'LotFrontage_122', 'LotFrontage_124', 'LotFrontage_128', 'LotFrontage_129', 'LotFrontage_130', 'LotFrontage_134', 'LotFrontage_137', 'LotFrontage_138', 'LotFrontage_140', 'LotFrontage_141', 'LotFrontage_144', 'LotFrontage_149', 'LotFrontage_150', 'LotFrontage_152', 'LotFrontage_153', 'LotFrontage_160', 'LotFrontage_168', 'LotFrontage_174', 'LotFrontage_182', 'LotFrontage_21', 'LotFrontage_24', 'LotFrontage_30', 'LotFrontage_313', 'LotFrontage_32', 'LotFrontage_33', 'LotFrontage_34', 'LotFrontage_35', 'LotFrontage_36', 'LotFrontage_37', 'LotFrontage_38', 'LotFrontage_39', 'LotFrontage_40', 'LotFrontage_41', 'LotFrontage_42', 'LotFrontage_43', 'LotFrontage_44', 'LotFrontage_45', 'LotFrontage_46', 'LotFrontage_47', 'LotFrontage_48', 'LotFrontage_49', 'LotFrontage_50', 'LotFrontage_51', 'LotFrontage_52', 'LotFrontage_53', 'LotFrontage_54', 'LotFrontage_55', 'LotFrontage_56', 'LotFrontage_57', 'LotFrontage_58', 'LotFrontage_59', 'LotFrontage_60', 'LotFrontage_61', 'LotFrontage_62', 'LotFrontage_63', 'LotFrontage_64', 'LotFrontage_65', 'LotFrontage_66', 'LotFrontage_67', 'LotFrontage_68', 'LotFrontage_69', 'LotFrontage_70', 'LotFrontage_71', 'LotFrontage_72', 'LotFrontage_73', 'LotFrontage_74', 'LotFrontage_75', 'LotFrontage_76', 'LotFrontage_77', 'LotFrontage_78', 'LotFrontage_79', 'LotFrontage_80', 'LotFrontage_81', 'LotFrontage_82', 'LotFrontage_83', 'LotFrontage_84', 'LotFrontage_85', 'LotFrontage_86', 'LotFrontage_87', 'LotFrontage_88', 'LotFrontage_89', 'LotFrontage_90', 'LotFrontage_91', 'LotFrontage_92', 'LotFrontage_93', 'LotFrontage_94', 'LotFrontage_95', 'LotFrontage_96', 'LotFrontage_97', 'LotFrontage_98', 'LotFrontage_99', 'LotFrontage_NA', 'HouseStyle_2.5Fin', 'Exterior1st_ImStucc', 'Exterior1st_Stone', 'MasVnrArea_0', 'MasVnrArea_1', 'MasVnrArea_100', 'MasVnrArea_101', 'MasVnrArea_102', 'MasVnrArea_1031', 'MasVnrArea_104', 'MasVnrArea_1047', 'MasVnrArea_105', 'MasVnrArea_106', 'MasVnrArea_108', 'MasVnrArea_109', 'MasVnrArea_11', 'MasVnrArea_110', 'MasVnrArea_1115', 'MasVnrArea_112', 'MasVnrArea_1129', 'MasVnrArea_113', 'MasVnrArea_114', 'MasVnrArea_115', 'MasVnrArea_116', 'MasVnrArea_117', 'MasVnrArea_1170', 'MasVnrArea_119', 'MasVnrArea_120', 'MasVnrArea_122', 'MasVnrArea_123', 'MasVnrArea_125', 'MasVnrArea_126', 'MasVnrArea_127', 'MasVnrArea_128', 'MasVnrArea_130', 'MasVnrArea_132', 'MasVnrArea_135', 'MasVnrArea_136', 'MasVnrArea_137', 'MasVnrArea_1378', 'MasVnrArea_138', 'MasVnrArea_14', 'MasVnrArea_140', 'MasVnrArea_142', 'MasVnrArea_143', 'MasVnrArea_144', 'MasVnrArea_145', 'MasVnrArea_146', 'MasVnrArea_147', 'MasVnrArea_148', 'MasVnrArea_149', 'MasVnrArea_150', 'MasVnrArea_151', 'MasVnrArea_153', 'MasVnrArea_154', 'MasVnrArea_156', 'MasVnrArea_157', 'MasVnrArea_158', 'MasVnrArea_16', 'MasVnrArea_160', 'MasVnrArea_1600', 'MasVnrArea_161', 'MasVnrArea_162', 'MasVnrArea_163', 'MasVnrArea_164', 'MasVnrArea_165', 'MasVnrArea_166', 'MasVnrArea_167', 'MasVnrArea_168', 'MasVnrArea_169', 'MasVnrArea_170', 'MasVnrArea_171', 'MasVnrArea_172', 'MasVnrArea_174', 'MasVnrArea_175', 'MasVnrArea_176', 'MasVnrArea_178', 'MasVnrArea_18', 'MasVnrArea_180', 'MasVnrArea_182', 'MasVnrArea_183', 'MasVnrArea_184', 'MasVnrArea_186', 'MasVnrArea_188', 'MasVnrArea_189', 'MasVnrArea_192', 'MasVnrArea_194', 'MasVnrArea_196', 'MasVnrArea_200', 'MasVnrArea_202', 'MasVnrArea_203', 'MasVnrArea_204', 'MasVnrArea_205', 'MasVnrArea_206', 'MasVnrArea_207', 'MasVnrArea_208', 'MasVnrArea_209', 'MasVnrArea_210', 'MasVnrArea_212', 'MasVnrArea_215', 'MasVnrArea_216', 'MasVnrArea_218', 'MasVnrArea_219', 'MasVnrArea_22', 'MasVnrArea_220', 'MasVnrArea_223', 'MasVnrArea_224', 'MasVnrArea_225', 'MasVnrArea_226', 'MasVnrArea_228', 'MasVnrArea_230', 'MasVnrArea_232', 'MasVnrArea_233', 'MasVnrArea_234', 'MasVnrArea_236', 'MasVnrArea_237', 'MasVnrArea_238', 'MasVnrArea_24', 'MasVnrArea_240', 'MasVnrArea_243', 'MasVnrArea_244', 'MasVnrArea_245', 'MasVnrArea_246', 'MasVnrArea_247', 'MasVnrArea_248', 'MasVnrArea_250', 'MasVnrArea_252', 'MasVnrArea_254', 'MasVnrArea_255', 'MasVnrArea_256', 'MasVnrArea_258', 'MasVnrArea_259', 'MasVnrArea_260', 'MasVnrArea_261', 'MasVnrArea_262', 'MasVnrArea_263', 'MasVnrArea_266', 'MasVnrArea_268', 'MasVnrArea_27', 'MasVnrArea_270', 'MasVnrArea_272', 'MasVnrArea_274', 'MasVnrArea_275', 'MasVnrArea_278', 'MasVnrArea_28', 'MasVnrArea_280', 'MasVnrArea_281', 'MasVnrArea_284', 'MasVnrArea_285', 'MasVnrArea_286', 'MasVnrArea_287', 'MasVnrArea_288', 'MasVnrArea_289', 'MasVnrArea_290', 'MasVnrArea_292', 'MasVnrArea_293', 'MasVnrArea_294', 'MasVnrArea_295', 'MasVnrArea_296', 'MasVnrArea_297', 'MasVnrArea_298', 'MasVnrArea_299', 'MasVnrArea_30', 'MasVnrArea_300', 'MasVnrArea_302', 'MasVnrArea_304', 'MasVnrArea_305', 'MasVnrArea_306', 'MasVnrArea_309', 'MasVnrArea_31', 'MasVnrArea_310', 'MasVnrArea_312', 'MasVnrArea_315', 'MasVnrArea_318', 'MasVnrArea_32', 'MasVnrArea_320', 'MasVnrArea_324', 'MasVnrArea_328', 'MasVnrArea_333', 'MasVnrArea_335', 'MasVnrArea_336', 'MasVnrArea_337', 'MasVnrArea_338', 'MasVnrArea_34', 'MasVnrArea_340', 'MasVnrArea_342', 'MasVnrArea_344', 'MasVnrArea_348', 'MasVnrArea_350', 'MasVnrArea_351', 'MasVnrArea_359', 'MasVnrArea_36', 'MasVnrArea_360', 'MasVnrArea_361', 'MasVnrArea_362', 'MasVnrArea_365', 'MasVnrArea_366', 'MasVnrArea_368', 'MasVnrArea_370', 'MasVnrArea_375', 'MasVnrArea_376', 'MasVnrArea_378', 'MasVnrArea_38', 'MasVnrArea_380', 'MasVnrArea_381', 'MasVnrArea_387', 'MasVnrArea_388', 'MasVnrArea_391', 'MasVnrArea_396', 'MasVnrArea_399', 'MasVnrArea_40', 'MasVnrArea_408', 'MasVnrArea_41', 'MasVnrArea_410', 'MasVnrArea_412', 'MasVnrArea_415', 'MasVnrArea_42', 'MasVnrArea_420', 'MasVnrArea_423', 'MasVnrArea_424', 'MasVnrArea_425', 'MasVnrArea_426', 'MasVnrArea_428', 'MasVnrArea_432', 'MasVnrArea_435', 'MasVnrArea_436', 'MasVnrArea_438', 'MasVnrArea_44', 'MasVnrArea_442', 'MasVnrArea_443', 'MasVnrArea_448', 'MasVnrArea_45', 'MasVnrArea_450', 'MasVnrArea_451', 'MasVnrArea_452', 'MasVnrArea_456', 'MasVnrArea_459', 'MasVnrArea_46', 'MasVnrArea_464', 'MasVnrArea_466', 'MasVnrArea_468', 'MasVnrArea_472', 'MasVnrArea_473', 'MasVnrArea_479', 'MasVnrArea_48', 'MasVnrArea_480', 'MasVnrArea_481', 'MasVnrArea_491', 'MasVnrArea_50', 'MasVnrArea_500', 'MasVnrArea_506', 'MasVnrArea_51', 'MasVnrArea_510', 'MasVnrArea_513', 'MasVnrArea_528', 'MasVnrArea_53', 'MasVnrArea_530', 'MasVnrArea_54', 'MasVnrArea_541', 'MasVnrArea_554', 'MasVnrArea_56', 'MasVnrArea_562', 'MasVnrArea_564', 'MasVnrArea_567', 'MasVnrArea_57', 'MasVnrArea_571', 'MasVnrArea_573', 'MasVnrArea_576', 'MasVnrArea_579', 'MasVnrArea_584', 'MasVnrArea_594', 'MasVnrArea_60', 'MasVnrArea_600', 'MasVnrArea_603', 'MasVnrArea_604', 'MasVnrArea_616', 'MasVnrArea_621', 'MasVnrArea_63', 'MasVnrArea_630', 'MasVnrArea_632', 'MasVnrArea_64', 'MasVnrArea_640', 'MasVnrArea_65', 'MasVnrArea_650', 'MasVnrArea_651', 'MasVnrArea_653', 'MasVnrArea_66', 'MasVnrArea_660', 'MasVnrArea_664', 'MasVnrArea_67', 'MasVnrArea_673', 'MasVnrArea_68', 'MasVnrArea_70', 'MasVnrArea_705', 'MasVnrArea_72', 'MasVnrArea_731', 'MasVnrArea_74', 'MasVnrArea_748', 'MasVnrArea_75', 'MasVnrArea_76', 'MasVnrArea_760', 'MasVnrArea_762', 'MasVnrArea_766', 'MasVnrArea_768', 'MasVnrArea_772', 'MasVnrArea_788', 'MasVnrArea_796', 'MasVnrArea_80', 'MasVnrArea_81', 'MasVnrArea_816', 'MasVnrArea_82', 'MasVnrArea_84', 'MasVnrArea_85', 'MasVnrArea_86', 'MasVnrArea_860', 'MasVnrArea_870', 'MasVnrArea_88', 'MasVnrArea_89', 'MasVnrArea_894', 'MasVnrArea_90', 'MasVnrArea_92', 'MasVnrArea_921', 'MasVnrArea_922', 'MasVnrArea_94', 'MasVnrArea_95', 'MasVnrArea_96', 'MasVnrArea_97', 'MasVnrArea_975', 'MasVnrArea_98', 'MasVnrArea_99', 'MasVnrArea_NA', 'BsmtQual_NA', 'BsmtFinType1_NA', 'GarageType_NA', 'GarageYrBlt_1900', 'GarageYrBlt_1906', 'GarageYrBlt_1908', 'GarageYrBlt_1910', 'GarageYrBlt_1914', 'GarageYrBlt_1915', 'GarageYrBlt_1916', 'GarageYrBlt_1918', 'GarageYrBlt_1920', 'GarageYrBlt_1921', 'GarageYrBlt_1922', 'GarageYrBlt_1923', 'GarageYrBlt_1924', 'GarageYrBlt_1925', 'GarageYrBlt_1926', 'GarageYrBlt_1927', 'GarageYrBlt_1928', 'GarageYrBlt_1929', 'GarageYrBlt_1930', 'GarageYrBlt_1931', 'GarageYrBlt_1932', 'GarageYrBlt_1933', 'GarageYrBlt_1934', 'GarageYrBlt_1935', 'GarageYrBlt_1936', 'GarageYrBlt_1937', 'GarageYrBlt_1938', 'GarageYrBlt_1939', 'GarageYrBlt_1940', 'GarageYrBlt_1941', 'GarageYrBlt_1942', 'GarageYrBlt_1945', 'GarageYrBlt_1946', 'GarageYrBlt_1947', 'GarageYrBlt_1948', 'GarageYrBlt_1949', 'GarageYrBlt_1950', 'GarageYrBlt_1951', 'GarageYrBlt_1952', 'GarageYrBlt_1953', 'GarageYrBlt_1954', 'GarageYrBlt_1955', 'GarageYrBlt_1956', 'GarageYrBlt_1957', 'GarageYrBlt_1958', 'GarageYrBlt_1959', 'GarageYrBlt_1960', 'GarageYrBlt_1961', 'GarageYrBlt_1962', 'GarageYrBlt_1963', 'GarageYrBlt_1964', 'GarageYrBlt_1965', 'GarageYrBlt_1966', 'GarageYrBlt_1967', 'GarageYrBlt_1968', 'GarageYrBlt_1969', 'GarageYrBlt_1970', 'GarageYrBlt_1971', 'GarageYrBlt_1972', 'GarageYrBlt_1973', 'GarageYrBlt_1974', 'GarageYrBlt_1975', 'GarageYrBlt_1976', 'GarageYrBlt_1977', 'GarageYrBlt_1978', 'GarageYrBlt_1979', 'GarageYrBlt_1980', 'GarageYrBlt_1981', 'GarageYrBlt_1982', 'GarageYrBlt_1983', 'GarageYrBlt_1984', 'GarageYrBlt_1985', 'GarageYrBlt_1986', 'GarageYrBlt_1987', 'GarageYrBlt_1988', 'GarageYrBlt_1989', 'GarageYrBlt_1990', 'GarageYrBlt_1991', 'GarageYrBlt_1992', 'GarageYrBlt_1993', 'GarageYrBlt_1994', 'GarageYrBlt_1995', 'GarageYrBlt_1996', 'GarageYrBlt_1997', 'GarageYrBlt_1998', 'GarageYrBlt_1999', 'GarageYrBlt_2000', 'GarageYrBlt_2001', 'GarageYrBlt_2002', 'GarageYrBlt_2003', 'GarageYrBlt_2004', 'GarageYrBlt_2005', 'GarageYrBlt_2006', 'GarageYrBlt_2007', 'GarageYrBlt_2008', 'GarageYrBlt_2009', 'GarageYrBlt_2010', 'GarageYrBlt_NA', 'GarageFinish_NA']\n"
          ]
        }
      ]
    },
    {
      "cell_type": "code",
      "source": [
        "train_cat_dummies.drop(dif, axis=1, inplace=True)\n",
        "\n",
        "train_cat_dummies.shape, test_cat_dummies.shape"
      ],
      "metadata": {
        "colab": {
          "base_uri": "https://localhost:8080/"
        },
        "id": "N8FL6pH2K6Hv",
        "outputId": "2fb72fa4-09f1-4815-9b09-80a7e80bd5d1"
      },
      "execution_count": 73,
      "outputs": [
        {
          "output_type": "execute_result",
          "data": {
            "text/plain": [
              "((1460, 137), (1459, 140))"
            ]
          },
          "metadata": {},
          "execution_count": 73
        }
      ]
    },
    {
      "cell_type": "code",
      "source": [
        "train_data_new = pd.concat([train_data_num, train_cat_dummies], axis=1)\n",
        "test_data_new = pd.concat([test_data_num, test_cat_dummies], axis=1)\n",
        "\n",
        "train_data_new.shape, test_data_new.shape"
      ],
      "metadata": {
        "colab": {
          "base_uri": "https://localhost:8080/"
        },
        "id": "cW4AO7suLBDt",
        "outputId": "efd5cb45-836f-483a-a829-e893102aef16"
      },
      "execution_count": 74,
      "outputs": [
        {
          "output_type": "execute_result",
          "data": {
            "text/plain": [
              "((1460, 168), (1459, 173))"
            ]
          },
          "metadata": {},
          "execution_count": 74
        }
      ]
    },
    {
      "cell_type": "code",
      "source": [
        "train_data_new['Age'] = train_data_new['YearBuilt'].max() - train_data_new['YearBuilt']\n",
        "test_data_new['Age'] = test_data_new['YearBuilt'].max() - test_data_new['YearBuilt']"
      ],
      "metadata": {
        "id": "pZ1lxAGpLHRy"
      },
      "execution_count": 75,
      "outputs": []
    },
    {
      "cell_type": "code",
      "source": [
        "import numpy as np\n",
        "\n",
        "\n",
        "\n",
        "train_data_new['Renovate'] = train_data_new['YearRemodAdd'] - train_data_new['YearBuilt']\n",
        "test_data_new['Renovate'] = test_data_new['YearRemodAdd'] - test_data_new['YearBuilt']\n",
        "\n",
        "train_data_new['Renovate'] = np.where(train_data_new['Renovate'] < 0, 0, train_data_new['Renovate'])\n",
        "test_data_new['Renovate'] = np.where(test_data_new['Renovate'] < 0, 0, test_data_new['Renovate'])\n",
        "\n",
        "# Drop YearBuilt\n",
        "train_data_new.drop(['YearBuilt'], axis=1, inplace=True)\n",
        "test_data_new.drop(['YearBuilt'], axis=1, inplace=True)\n",
        "# Drop YearRemodAdd\n",
        "train_data_new.drop(['YearRemodAdd'], axis=1, inplace=True)\n",
        "test_data_new.drop(['YearRemodAdd'], axis=1, inplace=True)"
      ],
      "metadata": {
        "id": "i2tjV-wyMCEp"
      },
      "execution_count": 76,
      "outputs": []
    },
    {
      "cell_type": "code",
      "source": [
        "train_data_new['Qual_Area'] = train_data_new['OverallQual'] * train_data_new['GrLivArea']\n",
        "test_data_new['Qual_Area'] = test_data_new['OverallQual'] * test_data_new['GrLivArea']"
      ],
      "metadata": {
        "id": "XojlmAfwMF4N"
      },
      "execution_count": 77,
      "outputs": []
    },
    {
      "cell_type": "code",
      "source": [
        "cont_features = train_data_new.select_dtypes(include=['int', 'float']).drop(['SalePrice'], axis=1).columns.tolist()\n",
        "\n",
        "cont_data = train_data_new.loc[:, cont_features]\n",
        "cont_data.head()"
      ],
      "metadata": {
        "colab": {
          "base_uri": "https://localhost:8080/",
          "height": 300
        },
        "id": "sqUknKjqMQP9",
        "outputId": "38cdd15d-b564-4b12-d15c-5355c2c98287"
      },
      "execution_count": 78,
      "outputs": [
        {
          "output_type": "execute_result",
          "data": {
            "text/plain": [
              "   Id  MSSubClass  LotArea  OverallQual  OverallCond  BsmtFinSF1  BsmtFinSF2  \\\n",
              "0   1          60     8450            7            5         706           0   \n",
              "1   2          20     9600            6            8         978           0   \n",
              "2   3          60    11250            7            5         486           0   \n",
              "3   4          70     9550            7            5         216           0   \n",
              "4   5          60    14260            8            5         655           0   \n",
              "\n",
              "   BsmtUnfSF  TotalBsmtSF  2ndFlrSF  ...  EnclosedPorch  3SsnPorch  \\\n",
              "0        150          856       854  ...              0          0   \n",
              "1        284         1262         0  ...              0          0   \n",
              "2        434          920       866  ...              0          0   \n",
              "3        540          756       756  ...            272          0   \n",
              "4        490         1145      1053  ...              0          0   \n",
              "\n",
              "   ScreenPorch  PoolArea  MiscVal  MoSold  YrSold  Age  Renovate  Qual_Area  \n",
              "0            0         0        0       2    2008    7         0      11970  \n",
              "1            0         0        0       5    2007   34         0       7572  \n",
              "2            0         0        0       9    2008    9         1      12502  \n",
              "3            0         0        0       2    2006   95        55      12019  \n",
              "4            0         0        0      12    2008   10         0      17584  \n",
              "\n",
              "[5 rows x 31 columns]"
            ],
            "text/html": [
              "\n",
              "  <div id=\"df-143d7104-8ef3-47cc-bc23-f0436700c8b1\">\n",
              "    <div class=\"colab-df-container\">\n",
              "      <div>\n",
              "<style scoped>\n",
              "    .dataframe tbody tr th:only-of-type {\n",
              "        vertical-align: middle;\n",
              "    }\n",
              "\n",
              "    .dataframe tbody tr th {\n",
              "        vertical-align: top;\n",
              "    }\n",
              "\n",
              "    .dataframe thead th {\n",
              "        text-align: right;\n",
              "    }\n",
              "</style>\n",
              "<table border=\"1\" class=\"dataframe\">\n",
              "  <thead>\n",
              "    <tr style=\"text-align: right;\">\n",
              "      <th></th>\n",
              "      <th>Id</th>\n",
              "      <th>MSSubClass</th>\n",
              "      <th>LotArea</th>\n",
              "      <th>OverallQual</th>\n",
              "      <th>OverallCond</th>\n",
              "      <th>BsmtFinSF1</th>\n",
              "      <th>BsmtFinSF2</th>\n",
              "      <th>BsmtUnfSF</th>\n",
              "      <th>TotalBsmtSF</th>\n",
              "      <th>2ndFlrSF</th>\n",
              "      <th>...</th>\n",
              "      <th>EnclosedPorch</th>\n",
              "      <th>3SsnPorch</th>\n",
              "      <th>ScreenPorch</th>\n",
              "      <th>PoolArea</th>\n",
              "      <th>MiscVal</th>\n",
              "      <th>MoSold</th>\n",
              "      <th>YrSold</th>\n",
              "      <th>Age</th>\n",
              "      <th>Renovate</th>\n",
              "      <th>Qual_Area</th>\n",
              "    </tr>\n",
              "  </thead>\n",
              "  <tbody>\n",
              "    <tr>\n",
              "      <th>0</th>\n",
              "      <td>1</td>\n",
              "      <td>60</td>\n",
              "      <td>8450</td>\n",
              "      <td>7</td>\n",
              "      <td>5</td>\n",
              "      <td>706</td>\n",
              "      <td>0</td>\n",
              "      <td>150</td>\n",
              "      <td>856</td>\n",
              "      <td>854</td>\n",
              "      <td>...</td>\n",
              "      <td>0</td>\n",
              "      <td>0</td>\n",
              "      <td>0</td>\n",
              "      <td>0</td>\n",
              "      <td>0</td>\n",
              "      <td>2</td>\n",
              "      <td>2008</td>\n",
              "      <td>7</td>\n",
              "      <td>0</td>\n",
              "      <td>11970</td>\n",
              "    </tr>\n",
              "    <tr>\n",
              "      <th>1</th>\n",
              "      <td>2</td>\n",
              "      <td>20</td>\n",
              "      <td>9600</td>\n",
              "      <td>6</td>\n",
              "      <td>8</td>\n",
              "      <td>978</td>\n",
              "      <td>0</td>\n",
              "      <td>284</td>\n",
              "      <td>1262</td>\n",
              "      <td>0</td>\n",
              "      <td>...</td>\n",
              "      <td>0</td>\n",
              "      <td>0</td>\n",
              "      <td>0</td>\n",
              "      <td>0</td>\n",
              "      <td>0</td>\n",
              "      <td>5</td>\n",
              "      <td>2007</td>\n",
              "      <td>34</td>\n",
              "      <td>0</td>\n",
              "      <td>7572</td>\n",
              "    </tr>\n",
              "    <tr>\n",
              "      <th>2</th>\n",
              "      <td>3</td>\n",
              "      <td>60</td>\n",
              "      <td>11250</td>\n",
              "      <td>7</td>\n",
              "      <td>5</td>\n",
              "      <td>486</td>\n",
              "      <td>0</td>\n",
              "      <td>434</td>\n",
              "      <td>920</td>\n",
              "      <td>866</td>\n",
              "      <td>...</td>\n",
              "      <td>0</td>\n",
              "      <td>0</td>\n",
              "      <td>0</td>\n",
              "      <td>0</td>\n",
              "      <td>0</td>\n",
              "      <td>9</td>\n",
              "      <td>2008</td>\n",
              "      <td>9</td>\n",
              "      <td>1</td>\n",
              "      <td>12502</td>\n",
              "    </tr>\n",
              "    <tr>\n",
              "      <th>3</th>\n",
              "      <td>4</td>\n",
              "      <td>70</td>\n",
              "      <td>9550</td>\n",
              "      <td>7</td>\n",
              "      <td>5</td>\n",
              "      <td>216</td>\n",
              "      <td>0</td>\n",
              "      <td>540</td>\n",
              "      <td>756</td>\n",
              "      <td>756</td>\n",
              "      <td>...</td>\n",
              "      <td>272</td>\n",
              "      <td>0</td>\n",
              "      <td>0</td>\n",
              "      <td>0</td>\n",
              "      <td>0</td>\n",
              "      <td>2</td>\n",
              "      <td>2006</td>\n",
              "      <td>95</td>\n",
              "      <td>55</td>\n",
              "      <td>12019</td>\n",
              "    </tr>\n",
              "    <tr>\n",
              "      <th>4</th>\n",
              "      <td>5</td>\n",
              "      <td>60</td>\n",
              "      <td>14260</td>\n",
              "      <td>8</td>\n",
              "      <td>5</td>\n",
              "      <td>655</td>\n",
              "      <td>0</td>\n",
              "      <td>490</td>\n",
              "      <td>1145</td>\n",
              "      <td>1053</td>\n",
              "      <td>...</td>\n",
              "      <td>0</td>\n",
              "      <td>0</td>\n",
              "      <td>0</td>\n",
              "      <td>0</td>\n",
              "      <td>0</td>\n",
              "      <td>12</td>\n",
              "      <td>2008</td>\n",
              "      <td>10</td>\n",
              "      <td>0</td>\n",
              "      <td>17584</td>\n",
              "    </tr>\n",
              "  </tbody>\n",
              "</table>\n",
              "<p>5 rows × 31 columns</p>\n",
              "</div>\n",
              "      <button class=\"colab-df-convert\" onclick=\"convertToInteractive('df-143d7104-8ef3-47cc-bc23-f0436700c8b1')\"\n",
              "              title=\"Convert this dataframe to an interactive table.\"\n",
              "              style=\"display:none;\">\n",
              "        \n",
              "  <svg xmlns=\"http://www.w3.org/2000/svg\" height=\"24px\"viewBox=\"0 0 24 24\"\n",
              "       width=\"24px\">\n",
              "    <path d=\"M0 0h24v24H0V0z\" fill=\"none\"/>\n",
              "    <path d=\"M18.56 5.44l.94 2.06.94-2.06 2.06-.94-2.06-.94-.94-2.06-.94 2.06-2.06.94zm-11 1L8.5 8.5l.94-2.06 2.06-.94-2.06-.94L8.5 2.5l-.94 2.06-2.06.94zm10 10l.94 2.06.94-2.06 2.06-.94-2.06-.94-.94-2.06-.94 2.06-2.06.94z\"/><path d=\"M17.41 7.96l-1.37-1.37c-.4-.4-.92-.59-1.43-.59-.52 0-1.04.2-1.43.59L10.3 9.45l-7.72 7.72c-.78.78-.78 2.05 0 2.83L4 21.41c.39.39.9.59 1.41.59.51 0 1.02-.2 1.41-.59l7.78-7.78 2.81-2.81c.8-.78.8-2.07 0-2.86zM5.41 20L4 18.59l7.72-7.72 1.47 1.35L5.41 20z\"/>\n",
              "  </svg>\n",
              "      </button>\n",
              "      \n",
              "  <style>\n",
              "    .colab-df-container {\n",
              "      display:flex;\n",
              "      flex-wrap:wrap;\n",
              "      gap: 12px;\n",
              "    }\n",
              "\n",
              "    .colab-df-convert {\n",
              "      background-color: #E8F0FE;\n",
              "      border: none;\n",
              "      border-radius: 50%;\n",
              "      cursor: pointer;\n",
              "      display: none;\n",
              "      fill: #1967D2;\n",
              "      height: 32px;\n",
              "      padding: 0 0 0 0;\n",
              "      width: 32px;\n",
              "    }\n",
              "\n",
              "    .colab-df-convert:hover {\n",
              "      background-color: #E2EBFA;\n",
              "      box-shadow: 0px 1px 2px rgba(60, 64, 67, 0.3), 0px 1px 3px 1px rgba(60, 64, 67, 0.15);\n",
              "      fill: #174EA6;\n",
              "    }\n",
              "\n",
              "    [theme=dark] .colab-df-convert {\n",
              "      background-color: #3B4455;\n",
              "      fill: #D2E3FC;\n",
              "    }\n",
              "\n",
              "    [theme=dark] .colab-df-convert:hover {\n",
              "      background-color: #434B5C;\n",
              "      box-shadow: 0px 1px 3px 1px rgba(0, 0, 0, 0.15);\n",
              "      filter: drop-shadow(0px 1px 2px rgba(0, 0, 0, 0.3));\n",
              "      fill: #FFFFFF;\n",
              "    }\n",
              "  </style>\n",
              "\n",
              "      <script>\n",
              "        const buttonEl =\n",
              "          document.querySelector('#df-143d7104-8ef3-47cc-bc23-f0436700c8b1 button.colab-df-convert');\n",
              "        buttonEl.style.display =\n",
              "          google.colab.kernel.accessAllowed ? 'block' : 'none';\n",
              "\n",
              "        async function convertToInteractive(key) {\n",
              "          const element = document.querySelector('#df-143d7104-8ef3-47cc-bc23-f0436700c8b1');\n",
              "          const dataTable =\n",
              "            await google.colab.kernel.invokeFunction('convertToInteractive',\n",
              "                                                     [key], {});\n",
              "          if (!dataTable) return;\n",
              "\n",
              "          const docLinkHtml = 'Like what you see? Visit the ' +\n",
              "            '<a target=\"_blank\" href=https://colab.research.google.com/notebooks/data_table.ipynb>data table notebook</a>'\n",
              "            + ' to learn more about interactive tables.';\n",
              "          element.innerHTML = '';\n",
              "          dataTable['output_type'] = 'display_data';\n",
              "          await google.colab.output.renderOutput(dataTable, element);\n",
              "          const docLink = document.createElement('div');\n",
              "          docLink.innerHTML = docLinkHtml;\n",
              "          element.appendChild(docLink);\n",
              "        }\n",
              "      </script>\n",
              "    </div>\n",
              "  </div>\n",
              "  "
            ]
          },
          "metadata": {},
          "execution_count": 78
        }
      ]
    },
    {
      "cell_type": "code",
      "source": [
        "skew_data = pd.DataFrame({\n",
        "    'Column': cont_features,\n",
        "    'Skew': abs(cont_data.skew())\n",
        "}).sort_values('Skew', ascending=False)\n",
        "\n",
        "skew_data"
      ],
      "metadata": {
        "colab": {
          "base_uri": "https://localhost:8080/",
          "height": 1000
        },
        "id": "eHtAz8UDMULQ",
        "outputId": "43521ead-c522-4a24-8368-4dd0246fa759"
      },
      "execution_count": 79,
      "outputs": [
        {
          "output_type": "execute_result",
          "data": {
            "text/plain": [
              "                      Column       Skew\n",
              "MiscVal              MiscVal  24.476794\n",
              "PoolArea            PoolArea  14.828374\n",
              "LotArea              LotArea  12.207688\n",
              "3SsnPorch          3SsnPorch  10.304342\n",
              "LowQualFinSF    LowQualFinSF   9.011341\n",
              "BsmtFinSF2        BsmtFinSF2   4.255261\n",
              "ScreenPorch      ScreenPorch   4.122214\n",
              "BsmtHalfBath    BsmtHalfBath   4.103403\n",
              "EnclosedPorch  EnclosedPorch   3.089872\n",
              "OpenPorchSF      OpenPorchSF   2.364342\n",
              "Qual_Area          Qual_Area   2.018926\n",
              "Renovate            Renovate   1.957396\n",
              "BsmtFinSF1        BsmtFinSF1   1.685503\n",
              "WoodDeckSF        WoodDeckSF   1.541376\n",
              "TotalBsmtSF      TotalBsmtSF   1.524255\n",
              "MSSubClass        MSSubClass   1.407657\n",
              "GrLivArea          GrLivArea   1.366560\n",
              "BsmtUnfSF          BsmtUnfSF   0.920268\n",
              "2ndFlrSF            2ndFlrSF   0.813030\n",
              "OverallCond      OverallCond   0.693067\n",
              "HalfBath            HalfBath   0.675897\n",
              "Fireplaces        Fireplaces   0.649565\n",
              "Age                      Age   0.613461\n",
              "BsmtFullBath    BsmtFullBath   0.596067\n",
              "GarageCars        GarageCars   0.342549\n",
              "OverallQual      OverallQual   0.216944\n",
              "MoSold                MoSold   0.212053\n",
              "BedroomAbvGr    BedroomAbvGr   0.211790\n",
              "YrSold                YrSold   0.096269\n",
              "FullBath            FullBath   0.036562\n",
              "Id                        Id   0.000000"
            ],
            "text/html": [
              "\n",
              "  <div id=\"df-614ca9a1-ade9-4978-8f24-dd10f8d2047f\">\n",
              "    <div class=\"colab-df-container\">\n",
              "      <div>\n",
              "<style scoped>\n",
              "    .dataframe tbody tr th:only-of-type {\n",
              "        vertical-align: middle;\n",
              "    }\n",
              "\n",
              "    .dataframe tbody tr th {\n",
              "        vertical-align: top;\n",
              "    }\n",
              "\n",
              "    .dataframe thead th {\n",
              "        text-align: right;\n",
              "    }\n",
              "</style>\n",
              "<table border=\"1\" class=\"dataframe\">\n",
              "  <thead>\n",
              "    <tr style=\"text-align: right;\">\n",
              "      <th></th>\n",
              "      <th>Column</th>\n",
              "      <th>Skew</th>\n",
              "    </tr>\n",
              "  </thead>\n",
              "  <tbody>\n",
              "    <tr>\n",
              "      <th>MiscVal</th>\n",
              "      <td>MiscVal</td>\n",
              "      <td>24.476794</td>\n",
              "    </tr>\n",
              "    <tr>\n",
              "      <th>PoolArea</th>\n",
              "      <td>PoolArea</td>\n",
              "      <td>14.828374</td>\n",
              "    </tr>\n",
              "    <tr>\n",
              "      <th>LotArea</th>\n",
              "      <td>LotArea</td>\n",
              "      <td>12.207688</td>\n",
              "    </tr>\n",
              "    <tr>\n",
              "      <th>3SsnPorch</th>\n",
              "      <td>3SsnPorch</td>\n",
              "      <td>10.304342</td>\n",
              "    </tr>\n",
              "    <tr>\n",
              "      <th>LowQualFinSF</th>\n",
              "      <td>LowQualFinSF</td>\n",
              "      <td>9.011341</td>\n",
              "    </tr>\n",
              "    <tr>\n",
              "      <th>BsmtFinSF2</th>\n",
              "      <td>BsmtFinSF2</td>\n",
              "      <td>4.255261</td>\n",
              "    </tr>\n",
              "    <tr>\n",
              "      <th>ScreenPorch</th>\n",
              "      <td>ScreenPorch</td>\n",
              "      <td>4.122214</td>\n",
              "    </tr>\n",
              "    <tr>\n",
              "      <th>BsmtHalfBath</th>\n",
              "      <td>BsmtHalfBath</td>\n",
              "      <td>4.103403</td>\n",
              "    </tr>\n",
              "    <tr>\n",
              "      <th>EnclosedPorch</th>\n",
              "      <td>EnclosedPorch</td>\n",
              "      <td>3.089872</td>\n",
              "    </tr>\n",
              "    <tr>\n",
              "      <th>OpenPorchSF</th>\n",
              "      <td>OpenPorchSF</td>\n",
              "      <td>2.364342</td>\n",
              "    </tr>\n",
              "    <tr>\n",
              "      <th>Qual_Area</th>\n",
              "      <td>Qual_Area</td>\n",
              "      <td>2.018926</td>\n",
              "    </tr>\n",
              "    <tr>\n",
              "      <th>Renovate</th>\n",
              "      <td>Renovate</td>\n",
              "      <td>1.957396</td>\n",
              "    </tr>\n",
              "    <tr>\n",
              "      <th>BsmtFinSF1</th>\n",
              "      <td>BsmtFinSF1</td>\n",
              "      <td>1.685503</td>\n",
              "    </tr>\n",
              "    <tr>\n",
              "      <th>WoodDeckSF</th>\n",
              "      <td>WoodDeckSF</td>\n",
              "      <td>1.541376</td>\n",
              "    </tr>\n",
              "    <tr>\n",
              "      <th>TotalBsmtSF</th>\n",
              "      <td>TotalBsmtSF</td>\n",
              "      <td>1.524255</td>\n",
              "    </tr>\n",
              "    <tr>\n",
              "      <th>MSSubClass</th>\n",
              "      <td>MSSubClass</td>\n",
              "      <td>1.407657</td>\n",
              "    </tr>\n",
              "    <tr>\n",
              "      <th>GrLivArea</th>\n",
              "      <td>GrLivArea</td>\n",
              "      <td>1.366560</td>\n",
              "    </tr>\n",
              "    <tr>\n",
              "      <th>BsmtUnfSF</th>\n",
              "      <td>BsmtUnfSF</td>\n",
              "      <td>0.920268</td>\n",
              "    </tr>\n",
              "    <tr>\n",
              "      <th>2ndFlrSF</th>\n",
              "      <td>2ndFlrSF</td>\n",
              "      <td>0.813030</td>\n",
              "    </tr>\n",
              "    <tr>\n",
              "      <th>OverallCond</th>\n",
              "      <td>OverallCond</td>\n",
              "      <td>0.693067</td>\n",
              "    </tr>\n",
              "    <tr>\n",
              "      <th>HalfBath</th>\n",
              "      <td>HalfBath</td>\n",
              "      <td>0.675897</td>\n",
              "    </tr>\n",
              "    <tr>\n",
              "      <th>Fireplaces</th>\n",
              "      <td>Fireplaces</td>\n",
              "      <td>0.649565</td>\n",
              "    </tr>\n",
              "    <tr>\n",
              "      <th>Age</th>\n",
              "      <td>Age</td>\n",
              "      <td>0.613461</td>\n",
              "    </tr>\n",
              "    <tr>\n",
              "      <th>BsmtFullBath</th>\n",
              "      <td>BsmtFullBath</td>\n",
              "      <td>0.596067</td>\n",
              "    </tr>\n",
              "    <tr>\n",
              "      <th>GarageCars</th>\n",
              "      <td>GarageCars</td>\n",
              "      <td>0.342549</td>\n",
              "    </tr>\n",
              "    <tr>\n",
              "      <th>OverallQual</th>\n",
              "      <td>OverallQual</td>\n",
              "      <td>0.216944</td>\n",
              "    </tr>\n",
              "    <tr>\n",
              "      <th>MoSold</th>\n",
              "      <td>MoSold</td>\n",
              "      <td>0.212053</td>\n",
              "    </tr>\n",
              "    <tr>\n",
              "      <th>BedroomAbvGr</th>\n",
              "      <td>BedroomAbvGr</td>\n",
              "      <td>0.211790</td>\n",
              "    </tr>\n",
              "    <tr>\n",
              "      <th>YrSold</th>\n",
              "      <td>YrSold</td>\n",
              "      <td>0.096269</td>\n",
              "    </tr>\n",
              "    <tr>\n",
              "      <th>FullBath</th>\n",
              "      <td>FullBath</td>\n",
              "      <td>0.036562</td>\n",
              "    </tr>\n",
              "    <tr>\n",
              "      <th>Id</th>\n",
              "      <td>Id</td>\n",
              "      <td>0.000000</td>\n",
              "    </tr>\n",
              "  </tbody>\n",
              "</table>\n",
              "</div>\n",
              "      <button class=\"colab-df-convert\" onclick=\"convertToInteractive('df-614ca9a1-ade9-4978-8f24-dd10f8d2047f')\"\n",
              "              title=\"Convert this dataframe to an interactive table.\"\n",
              "              style=\"display:none;\">\n",
              "        \n",
              "  <svg xmlns=\"http://www.w3.org/2000/svg\" height=\"24px\"viewBox=\"0 0 24 24\"\n",
              "       width=\"24px\">\n",
              "    <path d=\"M0 0h24v24H0V0z\" fill=\"none\"/>\n",
              "    <path d=\"M18.56 5.44l.94 2.06.94-2.06 2.06-.94-2.06-.94-.94-2.06-.94 2.06-2.06.94zm-11 1L8.5 8.5l.94-2.06 2.06-.94-2.06-.94L8.5 2.5l-.94 2.06-2.06.94zm10 10l.94 2.06.94-2.06 2.06-.94-2.06-.94-.94-2.06-.94 2.06-2.06.94z\"/><path d=\"M17.41 7.96l-1.37-1.37c-.4-.4-.92-.59-1.43-.59-.52 0-1.04.2-1.43.59L10.3 9.45l-7.72 7.72c-.78.78-.78 2.05 0 2.83L4 21.41c.39.39.9.59 1.41.59.51 0 1.02-.2 1.41-.59l7.78-7.78 2.81-2.81c.8-.78.8-2.07 0-2.86zM5.41 20L4 18.59l7.72-7.72 1.47 1.35L5.41 20z\"/>\n",
              "  </svg>\n",
              "      </button>\n",
              "      \n",
              "  <style>\n",
              "    .colab-df-container {\n",
              "      display:flex;\n",
              "      flex-wrap:wrap;\n",
              "      gap: 12px;\n",
              "    }\n",
              "\n",
              "    .colab-df-convert {\n",
              "      background-color: #E8F0FE;\n",
              "      border: none;\n",
              "      border-radius: 50%;\n",
              "      cursor: pointer;\n",
              "      display: none;\n",
              "      fill: #1967D2;\n",
              "      height: 32px;\n",
              "      padding: 0 0 0 0;\n",
              "      width: 32px;\n",
              "    }\n",
              "\n",
              "    .colab-df-convert:hover {\n",
              "      background-color: #E2EBFA;\n",
              "      box-shadow: 0px 1px 2px rgba(60, 64, 67, 0.3), 0px 1px 3px 1px rgba(60, 64, 67, 0.15);\n",
              "      fill: #174EA6;\n",
              "    }\n",
              "\n",
              "    [theme=dark] .colab-df-convert {\n",
              "      background-color: #3B4455;\n",
              "      fill: #D2E3FC;\n",
              "    }\n",
              "\n",
              "    [theme=dark] .colab-df-convert:hover {\n",
              "      background-color: #434B5C;\n",
              "      box-shadow: 0px 1px 3px 1px rgba(0, 0, 0, 0.15);\n",
              "      filter: drop-shadow(0px 1px 2px rgba(0, 0, 0, 0.3));\n",
              "      fill: #FFFFFF;\n",
              "    }\n",
              "  </style>\n",
              "\n",
              "      <script>\n",
              "        const buttonEl =\n",
              "          document.querySelector('#df-614ca9a1-ade9-4978-8f24-dd10f8d2047f button.colab-df-convert');\n",
              "        buttonEl.style.display =\n",
              "          google.colab.kernel.accessAllowed ? 'block' : 'none';\n",
              "\n",
              "        async function convertToInteractive(key) {\n",
              "          const element = document.querySelector('#df-614ca9a1-ade9-4978-8f24-dd10f8d2047f');\n",
              "          const dataTable =\n",
              "            await google.colab.kernel.invokeFunction('convertToInteractive',\n",
              "                                                     [key], {});\n",
              "          if (!dataTable) return;\n",
              "\n",
              "          const docLinkHtml = 'Like what you see? Visit the ' +\n",
              "            '<a target=\"_blank\" href=https://colab.research.google.com/notebooks/data_table.ipynb>data table notebook</a>'\n",
              "            + ' to learn more about interactive tables.';\n",
              "          element.innerHTML = '';\n",
              "          dataTable['output_type'] = 'display_data';\n",
              "          await google.colab.output.renderOutput(dataTable, element);\n",
              "          const docLink = document.createElement('div');\n",
              "          docLink.innerHTML = docLinkHtml;\n",
              "          element.appendChild(docLink);\n",
              "        }\n",
              "      </script>\n",
              "    </div>\n",
              "  </div>\n",
              "  "
            ]
          },
          "metadata": {},
          "execution_count": 79
        }
      ]
    },
    {
      "cell_type": "code",
      "source": [
        "skew_features = skew_data[skew_data['Skew'] > 0.5]['Column'].tolist()\n",
        "skew_features"
      ],
      "metadata": {
        "colab": {
          "base_uri": "https://localhost:8080/"
        },
        "id": "ew4_VbKYMYsE",
        "outputId": "3265af62-0f99-4779-b9a7-fc53e0aab940"
      },
      "execution_count": 80,
      "outputs": [
        {
          "output_type": "execute_result",
          "data": {
            "text/plain": [
              "['MiscVal',\n",
              " 'PoolArea',\n",
              " 'LotArea',\n",
              " '3SsnPorch',\n",
              " 'LowQualFinSF',\n",
              " 'BsmtFinSF2',\n",
              " 'ScreenPorch',\n",
              " 'BsmtHalfBath',\n",
              " 'EnclosedPorch',\n",
              " 'OpenPorchSF',\n",
              " 'Qual_Area',\n",
              " 'Renovate',\n",
              " 'BsmtFinSF1',\n",
              " 'WoodDeckSF',\n",
              " 'TotalBsmtSF',\n",
              " 'MSSubClass',\n",
              " 'GrLivArea',\n",
              " 'BsmtUnfSF',\n",
              " '2ndFlrSF',\n",
              " 'OverallCond',\n",
              " 'HalfBath',\n",
              " 'Fireplaces',\n",
              " 'Age',\n",
              " 'BsmtFullBath']"
            ]
          },
          "metadata": {},
          "execution_count": 80
        }
      ]
    },
    {
      "cell_type": "code",
      "source": [
        "for col in skew_features:\n",
        "    train_data_new[col] = np.log(train_data_new[col] + 1)\n",
        "    test_data_new[col] = np.log(test_data_new[col] + 1)\n"
      ],
      "metadata": {
        "id": "3DxXYG4AMgsg"
      },
      "execution_count": 81,
      "outputs": []
    },
    {
      "cell_type": "code",
      "source": [
        "train_data_new['SalePriceLog'] = np.log(train_data_new['SalePrice'])\n",
        "\n",
        "train_data_new.drop('SalePrice', axis=1, inplace=True)"
      ],
      "metadata": {
        "id": "3x1qiBOLMlnG"
      },
      "execution_count": 82,
      "outputs": []
    },
    {
      "cell_type": "code",
      "source": [
        "X = train_data_new.drop(['SalePriceLog'], axis=1)\n",
        "y = train_data_new['SalePriceLog']\n",
        "\n",
        "print('X shape: ', X.shape)\n",
        "print('y shape: ', y.shape)"
      ],
      "metadata": {
        "colab": {
          "base_uri": "https://localhost:8080/"
        },
        "id": "RudtE-okMqOe",
        "outputId": "2847bbd8-a7c4-4da3-d6bb-d62ab45ff1a9"
      },
      "execution_count": 83,
      "outputs": [
        {
          "output_type": "stream",
          "name": "stdout",
          "text": [
            "X shape:  (1460, 168)\n",
            "y shape:  (1460,)\n"
          ]
        }
      ]
    },
    {
      "cell_type": "code",
      "source": [
        "from sklearn.model_selection import train_test_split, cross_val_score\n",
        "from sklearn.preprocessing import StandardScaler\n",
        "scaler = StandardScaler().fit(X)"
      ],
      "metadata": {
        "id": "F2uw75BwMuaZ"
      },
      "execution_count": 84,
      "outputs": []
    },
    {
      "cell_type": "code",
      "source": [
        "import statsmodels.api as sm\n",
        "\n",
        "def backward_elimination(X, y, threshold=0.05):\n",
        "    features = X.columns.tolist()\n",
        "    \n",
        "    while True:\n",
        "        changed = False\n",
        "        model = sm.OLS(y, sm.add_constant(pd.DataFrame(X[features]))).fit()\n",
        "        pvalues = model.pvalues.iloc[1:]\n",
        "        worst_pval = pvalues.max()\n",
        "        if worst_pval > threshold:\n",
        "            changed = True\n",
        "            worst_fet = pvalues.idxmax()\n",
        "            features.remove(worst_fet)\n",
        "        if not changed:\n",
        "            break\n",
        "            \n",
        "    return features"
      ],
      "metadata": {
        "id": "RqkthSrQMy-Z",
        "colab": {
          "base_uri": "https://localhost:8080/"
        },
        "outputId": "a5e1cbf2-cbd9-44b5-93e7-866cd7c92c45"
      },
      "execution_count": 85,
      "outputs": [
        {
          "output_type": "stream",
          "name": "stderr",
          "text": [
            "/usr/local/lib/python3.7/dist-packages/statsmodels/tools/_testing.py:19: FutureWarning: pandas.util.testing is deprecated. Use the functions in the public API at pandas.testing instead.\n",
            "  import pandas.util.testing as tm\n"
          ]
        }
      ]
    },
    {
      "cell_type": "code",
      "source": [
        "selected_features = backward_elimination(X, y)\n",
        "selected_features"
      ],
      "metadata": {
        "colab": {
          "base_uri": "https://localhost:8080/"
        },
        "id": "BqjCVc0XNHDP",
        "outputId": "b73214ef-ebcb-4744-8d40-0e1105c9c4f8"
      },
      "execution_count": 86,
      "outputs": [
        {
          "output_type": "stream",
          "name": "stderr",
          "text": [
            "/usr/local/lib/python3.7/dist-packages/statsmodels/tsa/tsatools.py:117: FutureWarning: In a future version of pandas all arguments of concat except for the argument 'objs' will be keyword-only\n",
            "  x = pd.concat(x[::order], 1)\n"
          ]
        },
        {
          "output_type": "execute_result",
          "data": {
            "text/plain": [
              "['LotArea',\n",
              " 'OverallQual',\n",
              " 'OverallCond',\n",
              " 'BsmtFinSF1',\n",
              " 'BsmtUnfSF',\n",
              " 'TotalBsmtSF',\n",
              " 'GrLivArea',\n",
              " 'BsmtFullBath',\n",
              " 'FullBath',\n",
              " 'HalfBath',\n",
              " 'Fireplaces',\n",
              " 'GarageCars',\n",
              " 'WoodDeckSF',\n",
              " 'ScreenPorch',\n",
              " 'YrSold',\n",
              " 'MSZoning_C (all)',\n",
              " 'MSZoning_FV',\n",
              " 'MSZoning_RH',\n",
              " 'MSZoning_RL',\n",
              " 'MSZoning_RM',\n",
              " 'LotShape_IR1',\n",
              " 'LotShape_IR2',\n",
              " 'LotShape_IR3',\n",
              " 'LotShape_Reg',\n",
              " 'LotConfig_Corner',\n",
              " 'LotConfig_CulDSac',\n",
              " 'LotConfig_FR2',\n",
              " 'LotConfig_FR3',\n",
              " 'LotConfig_Inside',\n",
              " 'Neighborhood_Blmngtn',\n",
              " 'Neighborhood_BrDale',\n",
              " 'Neighborhood_BrkSide',\n",
              " 'Neighborhood_ClearCr',\n",
              " 'Neighborhood_CollgCr',\n",
              " 'Neighborhood_Crawfor',\n",
              " 'Neighborhood_Gilbert',\n",
              " 'Neighborhood_Mitchel',\n",
              " 'Neighborhood_NAmes',\n",
              " 'Neighborhood_NPkVill',\n",
              " 'Neighborhood_NWAmes',\n",
              " 'Neighborhood_NoRidge',\n",
              " 'Neighborhood_NridgHt',\n",
              " 'Neighborhood_SWISU',\n",
              " 'Neighborhood_Sawyer',\n",
              " 'Neighborhood_SawyerW',\n",
              " 'Neighborhood_Somerst',\n",
              " 'Neighborhood_StoneBr',\n",
              " 'Neighborhood_Timber',\n",
              " 'Neighborhood_Veenker',\n",
              " 'Condition1_Artery',\n",
              " 'Condition1_Feedr',\n",
              " 'Condition1_Norm',\n",
              " 'Condition1_PosA',\n",
              " 'Condition1_PosN',\n",
              " 'Condition1_RRAe',\n",
              " 'Condition1_RRAn',\n",
              " 'Condition1_RRNe',\n",
              " 'Condition1_RRNn',\n",
              " 'BldgType_1Fam',\n",
              " 'BldgType_2fmCon',\n",
              " 'BldgType_Duplex',\n",
              " 'BldgType_Twnhs',\n",
              " 'BldgType_TwnhsE',\n",
              " 'HouseStyle_1.5Fin',\n",
              " 'HouseStyle_2Story',\n",
              " 'RoofStyle_Flat',\n",
              " 'RoofStyle_Gable',\n",
              " 'RoofStyle_Gambrel',\n",
              " 'RoofStyle_Hip',\n",
              " 'RoofStyle_Mansard',\n",
              " 'RoofStyle_Shed',\n",
              " 'Exterior1st_BrkFace',\n",
              " 'Exterior1st_MetalSd',\n",
              " 'ExterQual_Ex',\n",
              " 'ExterQual_Fa',\n",
              " 'ExterQual_Gd',\n",
              " 'ExterQual_TA',\n",
              " 'ExterCond_Ex',\n",
              " 'ExterCond_Fa',\n",
              " 'ExterCond_Gd',\n",
              " 'ExterCond_Po',\n",
              " 'ExterCond_TA',\n",
              " 'Foundation_BrkTil',\n",
              " 'Foundation_CBlock',\n",
              " 'Foundation_PConc',\n",
              " 'Foundation_Slab',\n",
              " 'Foundation_Stone',\n",
              " 'Foundation_Wood',\n",
              " 'BsmtQual_Ex',\n",
              " 'BsmtQual_Fa',\n",
              " 'BsmtQual_Gd',\n",
              " 'BsmtQual_TA',\n",
              " 'BsmtFinType1_ALQ',\n",
              " 'BsmtFinType1_BLQ',\n",
              " 'BsmtFinType1_GLQ',\n",
              " 'BsmtFinType1_LwQ',\n",
              " 'BsmtFinType1_Rec',\n",
              " 'BsmtFinType1_Unf',\n",
              " 'HeatingQC_Ex',\n",
              " 'HeatingQC_Fa',\n",
              " 'HeatingQC_Gd',\n",
              " 'HeatingQC_Po',\n",
              " 'HeatingQC_TA',\n",
              " 'KitchenQual_Ex',\n",
              " 'KitchenQual_Fa',\n",
              " 'KitchenQual_Gd',\n",
              " 'KitchenQual_TA',\n",
              " 'GarageType_2Types',\n",
              " 'GarageType_CarPort',\n",
              " 'SaleType_COD',\n",
              " 'SaleType_CWD',\n",
              " 'SaleType_Con',\n",
              " 'SaleType_ConLD',\n",
              " 'SaleType_ConLI',\n",
              " 'SaleType_ConLw',\n",
              " 'SaleType_New',\n",
              " 'SaleType_Oth',\n",
              " 'SaleType_WD',\n",
              " 'SaleCondition_Abnorml',\n",
              " 'SaleCondition_AdjLand',\n",
              " 'SaleCondition_Alloca',\n",
              " 'SaleCondition_Family',\n",
              " 'SaleCondition_Normal',\n",
              " 'SaleCondition_Partial',\n",
              " 'Age']"
            ]
          },
          "metadata": {},
          "execution_count": 86
        }
      ]
    },
    {
      "cell_type": "code",
      "source": [
        "X = X.loc[:, selected_features]\n",
        "test_data_new = test_data_new.loc[:, selected_features]"
      ],
      "metadata": {
        "id": "jYJuAydjNLo0"
      },
      "execution_count": 87,
      "outputs": []
    },
    {
      "cell_type": "code",
      "source": [
        "X_train, X_val, y_train, y_val = train_test_split(X, y, test_size=0.15)\n",
        "print('Train size:', X_train.shape, y_train.shape)\n",
        "print('Validation size:', X_val.shape, y_val.shape)"
      ],
      "metadata": {
        "colab": {
          "base_uri": "https://localhost:8080/"
        },
        "id": "CIaLz7oXN3sb",
        "outputId": "57d3242b-a78e-4eda-826e-c3580d06efaf"
      },
      "execution_count": 88,
      "outputs": [
        {
          "output_type": "stream",
          "name": "stdout",
          "text": [
            "Train size: (1241, 125) (1241,)\n",
            "Validation size: (219, 125) (219,)\n"
          ]
        }
      ]
    },
    {
      "cell_type": "code",
      "source": [
        "from sklearn.linear_model import LinearRegression\n",
        "from sklearn.metrics import mean_squared_error, r2_score\n",
        "import sklearn.metrics as metrics\n",
        "linreg = LinearRegression()\n",
        "linreg.fit(X_train, y_train)\n"
      ],
      "metadata": {
        "colab": {
          "base_uri": "https://localhost:8080/"
        },
        "id": "Rqva40MgOYAU",
        "outputId": "f7f17796-e4f9-415a-a68e-5107a89d904c"
      },
      "execution_count": 89,
      "outputs": [
        {
          "output_type": "execute_result",
          "data": {
            "text/plain": [
              "LinearRegression()"
            ]
          },
          "metadata": {},
          "execution_count": 89
        }
      ]
    },
    {
      "cell_type": "code",
      "source": [
        "#df['BsmtCond'].fillna(value=df['BsmtCond'].mode()[0],inplace=True)\n",
        "test_data_new.isna().sum()"
      ],
      "metadata": {
        "colab": {
          "base_uri": "https://localhost:8080/"
        },
        "id": "4fH_mmgmsOYN",
        "outputId": "7dd75c52-ec53-4517-c67a-3c4061b695e3"
      },
      "execution_count": 102,
      "outputs": [
        {
          "output_type": "execute_result",
          "data": {
            "text/plain": [
              "LotArea                  0\n",
              "OverallQual              0\n",
              "OverallCond              0\n",
              "BsmtFinSF1               1\n",
              "BsmtUnfSF                1\n",
              "                        ..\n",
              "SaleCondition_Alloca     0\n",
              "SaleCondition_Family     0\n",
              "SaleCondition_Normal     0\n",
              "SaleCondition_Partial    0\n",
              "Age                      0\n",
              "Length: 125, dtype: int64"
            ]
          },
          "metadata": {},
          "execution_count": 102
        }
      ]
    },
    {
      "cell_type": "code",
      "source": [
        "test_data_new.fillna(value=test_data_new['BsmtFinSF1'].mode()[0],inplace=True)"
      ],
      "metadata": {
        "id": "yCw4Fgk7qaAg"
      },
      "execution_count": 103,
      "outputs": []
    },
    {
      "cell_type": "code",
      "source": [
        "test_data_new.isna().sum()"
      ],
      "metadata": {
        "colab": {
          "base_uri": "https://localhost:8080/"
        },
        "id": "yvoXIO9KtkbR",
        "outputId": "508086f9-abc1-469e-87d5-0f3db4e13e5c"
      },
      "execution_count": 104,
      "outputs": [
        {
          "output_type": "execute_result",
          "data": {
            "text/plain": [
              "LotArea                  0\n",
              "OverallQual              0\n",
              "OverallCond              0\n",
              "BsmtFinSF1               0\n",
              "BsmtUnfSF                0\n",
              "                        ..\n",
              "SaleCondition_Alloca     0\n",
              "SaleCondition_Family     0\n",
              "SaleCondition_Normal     0\n",
              "SaleCondition_Partial    0\n",
              "Age                      0\n",
              "Length: 125, dtype: int64"
            ]
          },
          "metadata": {},
          "execution_count": 104
        }
      ]
    },
    {
      "cell_type": "code",
      "source": [
        "id_test = df_test['Id'].tolist()"
      ],
      "metadata": {
        "id": "n-I7bTF0t3L5"
      },
      "execution_count": 107,
      "outputs": []
    },
    {
      "cell_type": "code",
      "source": [
        "y_pred = np.exp(linreg.predict(test_data_new))\n",
        "\n",
        "\n",
        "submission = pd.DataFrame({\n",
        "    'Id': id_test,\n",
        "    'SalePrice': y_pred\n",
        "})\n",
        "\n",
        "submission.head()"
      ],
      "metadata": {
        "id": "yCIH15NQOz7Q",
        "colab": {
          "base_uri": "https://localhost:8080/",
          "height": 206
        },
        "outputId": "4191700d-4e2a-47b3-9a58-6510c82fc6d8"
      },
      "execution_count": 108,
      "outputs": [
        {
          "output_type": "execute_result",
          "data": {
            "text/plain": [
              "     Id      SalePrice\n",
              "0  1461  118866.092888\n",
              "1  1462  157629.452349\n",
              "2  1463  181835.025655\n",
              "3  1464  199024.521372\n",
              "4  1465  208235.645538"
            ],
            "text/html": [
              "\n",
              "  <div id=\"df-4a7c1031-db85-4b9b-8199-b3b7b20554d3\">\n",
              "    <div class=\"colab-df-container\">\n",
              "      <div>\n",
              "<style scoped>\n",
              "    .dataframe tbody tr th:only-of-type {\n",
              "        vertical-align: middle;\n",
              "    }\n",
              "\n",
              "    .dataframe tbody tr th {\n",
              "        vertical-align: top;\n",
              "    }\n",
              "\n",
              "    .dataframe thead th {\n",
              "        text-align: right;\n",
              "    }\n",
              "</style>\n",
              "<table border=\"1\" class=\"dataframe\">\n",
              "  <thead>\n",
              "    <tr style=\"text-align: right;\">\n",
              "      <th></th>\n",
              "      <th>Id</th>\n",
              "      <th>SalePrice</th>\n",
              "    </tr>\n",
              "  </thead>\n",
              "  <tbody>\n",
              "    <tr>\n",
              "      <th>0</th>\n",
              "      <td>1461</td>\n",
              "      <td>118866.092888</td>\n",
              "    </tr>\n",
              "    <tr>\n",
              "      <th>1</th>\n",
              "      <td>1462</td>\n",
              "      <td>157629.452349</td>\n",
              "    </tr>\n",
              "    <tr>\n",
              "      <th>2</th>\n",
              "      <td>1463</td>\n",
              "      <td>181835.025655</td>\n",
              "    </tr>\n",
              "    <tr>\n",
              "      <th>3</th>\n",
              "      <td>1464</td>\n",
              "      <td>199024.521372</td>\n",
              "    </tr>\n",
              "    <tr>\n",
              "      <th>4</th>\n",
              "      <td>1465</td>\n",
              "      <td>208235.645538</td>\n",
              "    </tr>\n",
              "  </tbody>\n",
              "</table>\n",
              "</div>\n",
              "      <button class=\"colab-df-convert\" onclick=\"convertToInteractive('df-4a7c1031-db85-4b9b-8199-b3b7b20554d3')\"\n",
              "              title=\"Convert this dataframe to an interactive table.\"\n",
              "              style=\"display:none;\">\n",
              "        \n",
              "  <svg xmlns=\"http://www.w3.org/2000/svg\" height=\"24px\"viewBox=\"0 0 24 24\"\n",
              "       width=\"24px\">\n",
              "    <path d=\"M0 0h24v24H0V0z\" fill=\"none\"/>\n",
              "    <path d=\"M18.56 5.44l.94 2.06.94-2.06 2.06-.94-2.06-.94-.94-2.06-.94 2.06-2.06.94zm-11 1L8.5 8.5l.94-2.06 2.06-.94-2.06-.94L8.5 2.5l-.94 2.06-2.06.94zm10 10l.94 2.06.94-2.06 2.06-.94-2.06-.94-.94-2.06-.94 2.06-2.06.94z\"/><path d=\"M17.41 7.96l-1.37-1.37c-.4-.4-.92-.59-1.43-.59-.52 0-1.04.2-1.43.59L10.3 9.45l-7.72 7.72c-.78.78-.78 2.05 0 2.83L4 21.41c.39.39.9.59 1.41.59.51 0 1.02-.2 1.41-.59l7.78-7.78 2.81-2.81c.8-.78.8-2.07 0-2.86zM5.41 20L4 18.59l7.72-7.72 1.47 1.35L5.41 20z\"/>\n",
              "  </svg>\n",
              "      </button>\n",
              "      \n",
              "  <style>\n",
              "    .colab-df-container {\n",
              "      display:flex;\n",
              "      flex-wrap:wrap;\n",
              "      gap: 12px;\n",
              "    }\n",
              "\n",
              "    .colab-df-convert {\n",
              "      background-color: #E8F0FE;\n",
              "      border: none;\n",
              "      border-radius: 50%;\n",
              "      cursor: pointer;\n",
              "      display: none;\n",
              "      fill: #1967D2;\n",
              "      height: 32px;\n",
              "      padding: 0 0 0 0;\n",
              "      width: 32px;\n",
              "    }\n",
              "\n",
              "    .colab-df-convert:hover {\n",
              "      background-color: #E2EBFA;\n",
              "      box-shadow: 0px 1px 2px rgba(60, 64, 67, 0.3), 0px 1px 3px 1px rgba(60, 64, 67, 0.15);\n",
              "      fill: #174EA6;\n",
              "    }\n",
              "\n",
              "    [theme=dark] .colab-df-convert {\n",
              "      background-color: #3B4455;\n",
              "      fill: #D2E3FC;\n",
              "    }\n",
              "\n",
              "    [theme=dark] .colab-df-convert:hover {\n",
              "      background-color: #434B5C;\n",
              "      box-shadow: 0px 1px 3px 1px rgba(0, 0, 0, 0.15);\n",
              "      filter: drop-shadow(0px 1px 2px rgba(0, 0, 0, 0.3));\n",
              "      fill: #FFFFFF;\n",
              "    }\n",
              "  </style>\n",
              "\n",
              "      <script>\n",
              "        const buttonEl =\n",
              "          document.querySelector('#df-4a7c1031-db85-4b9b-8199-b3b7b20554d3 button.colab-df-convert');\n",
              "        buttonEl.style.display =\n",
              "          google.colab.kernel.accessAllowed ? 'block' : 'none';\n",
              "\n",
              "        async function convertToInteractive(key) {\n",
              "          const element = document.querySelector('#df-4a7c1031-db85-4b9b-8199-b3b7b20554d3');\n",
              "          const dataTable =\n",
              "            await google.colab.kernel.invokeFunction('convertToInteractive',\n",
              "                                                     [key], {});\n",
              "          if (!dataTable) return;\n",
              "\n",
              "          const docLinkHtml = 'Like what you see? Visit the ' +\n",
              "            '<a target=\"_blank\" href=https://colab.research.google.com/notebooks/data_table.ipynb>data table notebook</a>'\n",
              "            + ' to learn more about interactive tables.';\n",
              "          element.innerHTML = '';\n",
              "          dataTable['output_type'] = 'display_data';\n",
              "          await google.colab.output.renderOutput(dataTable, element);\n",
              "          const docLink = document.createElement('div');\n",
              "          docLink.innerHTML = docLinkHtml;\n",
              "          element.appendChild(docLink);\n",
              "        }\n",
              "      </script>\n",
              "    </div>\n",
              "  </div>\n",
              "  "
            ]
          },
          "metadata": {},
          "execution_count": 108
        }
      ]
    },
    {
      "cell_type": "code",
      "source": [
        "submission.to_csv(\"submission.csv\", index=False)"
      ],
      "metadata": {
        "id": "j6jpzJIjp-PS"
      },
      "execution_count": 109,
      "outputs": []
    },
    {
      "cell_type": "code",
      "source": [
        "!pip install catboost"
      ],
      "metadata": {
        "colab": {
          "base_uri": "https://localhost:8080/"
        },
        "id": "W-qTFHMzwYLk",
        "outputId": "9f0fa4e2-368d-4c68-854d-b7be88071939"
      },
      "execution_count": 114,
      "outputs": [
        {
          "output_type": "stream",
          "name": "stdout",
          "text": [
            "Looking in indexes: https://pypi.org/simple, https://us-python.pkg.dev/colab-wheels/public/simple/\n",
            "Collecting catboost\n",
            "  Downloading catboost-1.0.6-cp37-none-manylinux1_x86_64.whl (76.6 MB)\n",
            "\u001b[K     |████████████████████████████████| 76.6 MB 1.3 MB/s \n",
            "\u001b[?25hRequirement already satisfied: numpy>=1.16.0 in /usr/local/lib/python3.7/dist-packages (from catboost) (1.21.6)\n",
            "Requirement already satisfied: matplotlib in /usr/local/lib/python3.7/dist-packages (from catboost) (3.2.2)\n",
            "Requirement already satisfied: six in /usr/local/lib/python3.7/dist-packages (from catboost) (1.15.0)\n",
            "Requirement already satisfied: scipy in /usr/local/lib/python3.7/dist-packages (from catboost) (1.4.1)\n",
            "Requirement already satisfied: graphviz in /usr/local/lib/python3.7/dist-packages (from catboost) (0.10.1)\n",
            "Requirement already satisfied: plotly in /usr/local/lib/python3.7/dist-packages (from catboost) (5.5.0)\n",
            "Requirement already satisfied: pandas>=0.24.0 in /usr/local/lib/python3.7/dist-packages (from catboost) (1.3.5)\n",
            "Requirement already satisfied: pytz>=2017.3 in /usr/local/lib/python3.7/dist-packages (from pandas>=0.24.0->catboost) (2022.1)\n",
            "Requirement already satisfied: python-dateutil>=2.7.3 in /usr/local/lib/python3.7/dist-packages (from pandas>=0.24.0->catboost) (2.8.2)\n",
            "Requirement already satisfied: cycler>=0.10 in /usr/local/lib/python3.7/dist-packages (from matplotlib->catboost) (0.11.0)\n",
            "Requirement already satisfied: pyparsing!=2.0.4,!=2.1.2,!=2.1.6,>=2.0.1 in /usr/local/lib/python3.7/dist-packages (from matplotlib->catboost) (3.0.9)\n",
            "Requirement already satisfied: kiwisolver>=1.0.1 in /usr/local/lib/python3.7/dist-packages (from matplotlib->catboost) (1.4.3)\n",
            "Requirement already satisfied: typing-extensions in /usr/local/lib/python3.7/dist-packages (from kiwisolver>=1.0.1->matplotlib->catboost) (4.1.1)\n",
            "Requirement already satisfied: tenacity>=6.2.0 in /usr/local/lib/python3.7/dist-packages (from plotly->catboost) (8.0.1)\n",
            "Installing collected packages: catboost\n",
            "Successfully installed catboost-1.0.6\n"
          ]
        }
      ]
    },
    {
      "cell_type": "code",
      "source": [
        "def rmse_score(y_true, y_pred):\n",
        "    return np.sqrt(mean_squared_error(y_true, y_pred))\n",
        "\n",
        "\n",
        "\n",
        "r2_list = []\n",
        "rmse_list = []\n",
        "\n",
        "def get_metrics(model):\n",
        "    r2 = model.score(X_val, y_val)\n",
        "    rmse = rmse_score(y_val, model.predict(X_val))\n",
        "    r2_list.append(r2)\n",
        "    rmse_list.append(rmse)\n",
        "    print('Cross validation score:', cross_val_score(model, X_train, y_train, cv=5))\n",
        "    print('R2 score:', r2)\n",
        "    print('RMSE:', rmse)"
      ],
      "metadata": {
        "id": "SIIxdNyawxHI"
      },
      "execution_count": 116,
      "outputs": []
    },
    {
      "cell_type": "code",
      "source": [
        "from catboost import CatBoostRegressor\n",
        "cbr = CatBoostRegressor()\n",
        "cbr.fit(X_train, y_train, verbose=0)\n",
        "\n",
        "cbr_pred = cbr.predict(X_val)\n",
        "\n",
        "cbr_r2 = r2_score(y_val, cbr_pred)\n",
        "cbr_rmse = rmse_score(y_val, cbr_pred)\n",
        "r2_list.append(cbr_r2)\n",
        "rmse_list.append(cbr_rmse)\n",
        "\n",
        "print('R2 score:', cbr_r2)\n",
        "print('RMSE score:', cbr_rmse)"
      ],
      "metadata": {
        "colab": {
          "base_uri": "https://localhost:8080/"
        },
        "id": "KqHSxB7VvLig",
        "outputId": "b26765eb-b245-498e-9f33-e17a4e5b5703"
      },
      "execution_count": 117,
      "outputs": [
        {
          "output_type": "stream",
          "name": "stdout",
          "text": [
            "R2 score: 0.9267452862846739\n",
            "RMSE score: 0.10252208618315488\n"
          ]
        }
      ]
    },
    {
      "cell_type": "code",
      "source": [
        "y_pred = np.exp(cbr.predict(test_data_new))\n",
        "\n",
        "\n",
        "submission = pd.DataFrame({\n",
        "    'Id': id_test,\n",
        "    'SalePrice': y_pred\n",
        "})\n",
        "\n",
        "submission.head()"
      ],
      "metadata": {
        "colab": {
          "base_uri": "https://localhost:8080/",
          "height": 206
        },
        "id": "Igc25ZT2wBXQ",
        "outputId": "ff610612-ed24-43da-a085-660b067c273a"
      },
      "execution_count": 118,
      "outputs": [
        {
          "output_type": "execute_result",
          "data": {
            "text/plain": [
              "     Id      SalePrice\n",
              "0  1461  117264.928411\n",
              "1  1462  166847.774853\n",
              "2  1463  182203.498684\n",
              "3  1464  200732.299980\n",
              "4  1465  191978.568762"
            ],
            "text/html": [
              "\n",
              "  <div id=\"df-40d8a803-8682-4205-a0f4-ff3dd19913f4\">\n",
              "    <div class=\"colab-df-container\">\n",
              "      <div>\n",
              "<style scoped>\n",
              "    .dataframe tbody tr th:only-of-type {\n",
              "        vertical-align: middle;\n",
              "    }\n",
              "\n",
              "    .dataframe tbody tr th {\n",
              "        vertical-align: top;\n",
              "    }\n",
              "\n",
              "    .dataframe thead th {\n",
              "        text-align: right;\n",
              "    }\n",
              "</style>\n",
              "<table border=\"1\" class=\"dataframe\">\n",
              "  <thead>\n",
              "    <tr style=\"text-align: right;\">\n",
              "      <th></th>\n",
              "      <th>Id</th>\n",
              "      <th>SalePrice</th>\n",
              "    </tr>\n",
              "  </thead>\n",
              "  <tbody>\n",
              "    <tr>\n",
              "      <th>0</th>\n",
              "      <td>1461</td>\n",
              "      <td>117264.928411</td>\n",
              "    </tr>\n",
              "    <tr>\n",
              "      <th>1</th>\n",
              "      <td>1462</td>\n",
              "      <td>166847.774853</td>\n",
              "    </tr>\n",
              "    <tr>\n",
              "      <th>2</th>\n",
              "      <td>1463</td>\n",
              "      <td>182203.498684</td>\n",
              "    </tr>\n",
              "    <tr>\n",
              "      <th>3</th>\n",
              "      <td>1464</td>\n",
              "      <td>200732.299980</td>\n",
              "    </tr>\n",
              "    <tr>\n",
              "      <th>4</th>\n",
              "      <td>1465</td>\n",
              "      <td>191978.568762</td>\n",
              "    </tr>\n",
              "  </tbody>\n",
              "</table>\n",
              "</div>\n",
              "      <button class=\"colab-df-convert\" onclick=\"convertToInteractive('df-40d8a803-8682-4205-a0f4-ff3dd19913f4')\"\n",
              "              title=\"Convert this dataframe to an interactive table.\"\n",
              "              style=\"display:none;\">\n",
              "        \n",
              "  <svg xmlns=\"http://www.w3.org/2000/svg\" height=\"24px\"viewBox=\"0 0 24 24\"\n",
              "       width=\"24px\">\n",
              "    <path d=\"M0 0h24v24H0V0z\" fill=\"none\"/>\n",
              "    <path d=\"M18.56 5.44l.94 2.06.94-2.06 2.06-.94-2.06-.94-.94-2.06-.94 2.06-2.06.94zm-11 1L8.5 8.5l.94-2.06 2.06-.94-2.06-.94L8.5 2.5l-.94 2.06-2.06.94zm10 10l.94 2.06.94-2.06 2.06-.94-2.06-.94-.94-2.06-.94 2.06-2.06.94z\"/><path d=\"M17.41 7.96l-1.37-1.37c-.4-.4-.92-.59-1.43-.59-.52 0-1.04.2-1.43.59L10.3 9.45l-7.72 7.72c-.78.78-.78 2.05 0 2.83L4 21.41c.39.39.9.59 1.41.59.51 0 1.02-.2 1.41-.59l7.78-7.78 2.81-2.81c.8-.78.8-2.07 0-2.86zM5.41 20L4 18.59l7.72-7.72 1.47 1.35L5.41 20z\"/>\n",
              "  </svg>\n",
              "      </button>\n",
              "      \n",
              "  <style>\n",
              "    .colab-df-container {\n",
              "      display:flex;\n",
              "      flex-wrap:wrap;\n",
              "      gap: 12px;\n",
              "    }\n",
              "\n",
              "    .colab-df-convert {\n",
              "      background-color: #E8F0FE;\n",
              "      border: none;\n",
              "      border-radius: 50%;\n",
              "      cursor: pointer;\n",
              "      display: none;\n",
              "      fill: #1967D2;\n",
              "      height: 32px;\n",
              "      padding: 0 0 0 0;\n",
              "      width: 32px;\n",
              "    }\n",
              "\n",
              "    .colab-df-convert:hover {\n",
              "      background-color: #E2EBFA;\n",
              "      box-shadow: 0px 1px 2px rgba(60, 64, 67, 0.3), 0px 1px 3px 1px rgba(60, 64, 67, 0.15);\n",
              "      fill: #174EA6;\n",
              "    }\n",
              "\n",
              "    [theme=dark] .colab-df-convert {\n",
              "      background-color: #3B4455;\n",
              "      fill: #D2E3FC;\n",
              "    }\n",
              "\n",
              "    [theme=dark] .colab-df-convert:hover {\n",
              "      background-color: #434B5C;\n",
              "      box-shadow: 0px 1px 3px 1px rgba(0, 0, 0, 0.15);\n",
              "      filter: drop-shadow(0px 1px 2px rgba(0, 0, 0, 0.3));\n",
              "      fill: #FFFFFF;\n",
              "    }\n",
              "  </style>\n",
              "\n",
              "      <script>\n",
              "        const buttonEl =\n",
              "          document.querySelector('#df-40d8a803-8682-4205-a0f4-ff3dd19913f4 button.colab-df-convert');\n",
              "        buttonEl.style.display =\n",
              "          google.colab.kernel.accessAllowed ? 'block' : 'none';\n",
              "\n",
              "        async function convertToInteractive(key) {\n",
              "          const element = document.querySelector('#df-40d8a803-8682-4205-a0f4-ff3dd19913f4');\n",
              "          const dataTable =\n",
              "            await google.colab.kernel.invokeFunction('convertToInteractive',\n",
              "                                                     [key], {});\n",
              "          if (!dataTable) return;\n",
              "\n",
              "          const docLinkHtml = 'Like what you see? Visit the ' +\n",
              "            '<a target=\"_blank\" href=https://colab.research.google.com/notebooks/data_table.ipynb>data table notebook</a>'\n",
              "            + ' to learn more about interactive tables.';\n",
              "          element.innerHTML = '';\n",
              "          dataTable['output_type'] = 'display_data';\n",
              "          await google.colab.output.renderOutput(dataTable, element);\n",
              "          const docLink = document.createElement('div');\n",
              "          docLink.innerHTML = docLinkHtml;\n",
              "          element.appendChild(docLink);\n",
              "        }\n",
              "      </script>\n",
              "    </div>\n",
              "  </div>\n",
              "  "
            ]
          },
          "metadata": {},
          "execution_count": 118
        }
      ]
    },
    {
      "cell_type": "code",
      "source": [
        "submission.to_csv(\"submission1.csv\", index=False)"
      ],
      "metadata": {
        "id": "AfWQECKrw-mM"
      },
      "execution_count": 119,
      "outputs": []
    },
    {
      "cell_type": "code",
      "source": [
        ""
      ],
      "metadata": {
        "id": "S-xxv8ThxCdi"
      },
      "execution_count": null,
      "outputs": []
    }
  ]
}